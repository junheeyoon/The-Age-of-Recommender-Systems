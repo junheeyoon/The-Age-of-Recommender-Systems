{
  "nbformat": 4,
  "nbformat_minor": 0,
  "metadata": {
    "colab": {
      "name": "Movie Recommendation System.ipynb",
      "provenance": [],
      "authorship_tag": "ABX9TyN5ECvacV6Fgdfz9Ku6WkJE",
      "include_colab_link": true
    },
    "kernelspec": {
      "name": "python3",
      "display_name": "Python 3"
    },
    "accelerator": "GPU"
  },
  "cells": [
    {
      "cell_type": "markdown",
      "metadata": {
        "id": "view-in-github",
        "colab_type": "text"
      },
      "source": [
        "<a href=\"https://colab.research.google.com/github/junheeyoon/The-Age-of-Recommender-Systems/blob/main/Movie_Recommendation_System.ipynb\" target=\"_parent\"><img src=\"https://colab.research.google.com/assets/colab-badge.svg\" alt=\"Open In Colab\"/></a>"
      ]
    },
    {
      "cell_type": "markdown",
      "metadata": {
        "id": "myHGzbLuDTum"
      },
      "source": [
        "# The Age of Recommender Systems"
      ]
    },
    {
      "cell_type": "code",
      "metadata": {
        "id": "kBnZZr5MFM6i",
        "colab": {
          "base_uri": "https://localhost:8080/"
        },
        "outputId": "ce27568d-3e23-47f9-f25a-362702764a0a"
      },
      "source": [
        "from google.colab import drive\r\n",
        "drive.mount('/content/drive')\r\n",
        "\r\n",
        "# 현재 경로 확인\r\n",
        "import os\r\n",
        "print(os.path.abspath(os.curdir))\r\n",
        "\r\n",
        "# Root 경로 설정\r\n",
        "import os\r\n",
        "os.chdir('/content/drive/MyDrive/데이터분석')"
      ],
      "execution_count": 1,
      "outputs": [
        {
          "output_type": "stream",
          "text": [
            "Mounted at /content/drive\n",
            "/content\n"
          ],
          "name": "stdout"
        }
      ]
    },
    {
      "cell_type": "code",
      "metadata": {
        "id": "uPdA4vzjDbr6"
      },
      "source": [
        "import pandas as pd \r\n",
        "import numpy as np \r\n",
        "df1=pd.read_csv('./data/tmdb/tmdb_5000_credits.csv')\r\n",
        "df2=pd.read_csv('./data/tmdb/tmdb_5000_movies.csv')"
      ],
      "execution_count": 2,
      "outputs": []
    },
    {
      "cell_type": "code",
      "metadata": {
        "id": "pJcMdrJLGxgx"
      },
      "source": [
        "df1.columns = ['id','tittle','cast','crew']\r\n",
        "df2= df2.merge(df1,on='id')\r\n",
        "\r\n",
        "df2.head(5)"
      ],
      "execution_count": null,
      "outputs": []
    },
    {
      "cell_type": "markdown",
      "metadata": {
        "id": "KvN6vOaeJC8o"
      },
      "source": [
        "# Demographic Filtering"
      ]
    },
    {
      "cell_type": "markdown",
      "metadata": {
        "id": "ua2P8aJkJIqQ"
      },
      "source": [
        "## v(vote_count) and R (vote_average) "
      ]
    },
    {
      "cell_type": "code",
      "metadata": {
        "id": "6BpeUdJKHrwV"
      },
      "source": [
        "C= df2['vote_average'].mean()\r\n",
        "C"
      ],
      "execution_count": null,
      "outputs": []
    },
    {
      "cell_type": "code",
      "metadata": {
        "id": "65ELHep8H0U8"
      },
      "source": [
        "m= df2['vote_count'].quantile(0.9)\r\n",
        "m"
      ],
      "execution_count": null,
      "outputs": []
    },
    {
      "cell_type": "code",
      "metadata": {
        "id": "nbdz0DNDH0Ir"
      },
      "source": [
        "q_movies = df2.copy().loc[df2['vote_count'] >= m]\r\n",
        "q_movies.shape"
      ],
      "execution_count": null,
      "outputs": []
    },
    {
      "cell_type": "code",
      "metadata": {
        "id": "0D7jhLOrIKzX"
      },
      "source": [
        "def weighted_rating(x, m=m, C=C):\r\n",
        "    v = x['vote_count']\r\n",
        "    R = x['vote_average']\r\n",
        "    # Calculation based on the IMDB formula\r\n",
        "    return (v/(v+m) * R) + (m/(m+v) * C)\r\n",
        "\r\n",
        "# Define a new feature 'score' and calculate its value with `weighted_rating()`\r\n",
        "q_movies['score'] = q_movies.apply(weighted_rating, axis=1)"
      ],
      "execution_count": null,
      "outputs": []
    },
    {
      "cell_type": "code",
      "metadata": {
        "id": "EweIZm20IVfR"
      },
      "source": [
        "#Sort movies based on score calculated above\r\n",
        "q_movies = q_movies.sort_values('score', ascending=False)\r\n",
        "\r\n",
        "#Print the top 15 movies\r\n",
        "q_movies[['title', 'vote_count', 'vote_average', 'score']].head(10)"
      ],
      "execution_count": null,
      "outputs": []
    },
    {
      "cell_type": "markdown",
      "metadata": {
        "id": "6QEGqycrItO9"
      },
      "source": [
        "## popularity"
      ]
    },
    {
      "cell_type": "code",
      "metadata": {
        "id": "ePz18GgLItkR"
      },
      "source": [
        "pop= df2.sort_values('popularity', ascending=False)\r\n",
        "import matplotlib.pyplot as plt\r\n",
        "plt.figure(figsize=(12,4))\r\n",
        "\r\n",
        "plt.barh(pop['title'].head(6),pop['popularity'].head(6), align='center',\r\n",
        "        color='skyblue')\r\n",
        "plt.gca().invert_yaxis()\r\n",
        "plt.xlabel(\"Popularity\")\r\n",
        "plt.title(\"Popular Movies\")"
      ],
      "execution_count": null,
      "outputs": []
    },
    {
      "cell_type": "markdown",
      "metadata": {
        "id": "A20Exo2LJeDB"
      },
      "source": [
        "# Content Based Filtering"
      ]
    },
    {
      "cell_type": "markdown",
      "metadata": {
        "id": "F6JEAfWhKyRk"
      },
      "source": [
        "## Plot description based Recommender"
      ]
    },
    {
      "cell_type": "code",
      "metadata": {
        "id": "DZ3cU50iJqQj",
        "colab": {
          "base_uri": "https://localhost:8080/"
        },
        "outputId": "906c6134-f06a-4235-db18-379f51de02ac"
      },
      "source": [
        "df2['overview'].head(5)"
      ],
      "execution_count": 4,
      "outputs": [
        {
          "output_type": "execute_result",
          "data": {
            "text/plain": [
              "0    In the 22nd century, a paraplegic Marine is di...\n",
              "1    Captain Barbossa, long believed to be dead, ha...\n",
              "2    A cryptic message from Bond’s past sends him o...\n",
              "3    Following the death of District Attorney Harve...\n",
              "4    John Carter is a war-weary, former military ca...\n",
              "Name: overview, dtype: object"
            ]
          },
          "metadata": {
            "tags": []
          },
          "execution_count": 4
        }
      ]
    },
    {
      "cell_type": "code",
      "metadata": {
        "id": "Fiw1zB_HJ9Nj",
        "colab": {
          "base_uri": "https://localhost:8080/"
        },
        "outputId": "f6251fd4-0c13-4fc0-da18-ecb6488414bc"
      },
      "source": [
        "#Import TfIdfVectorizer from scikit-learn\r\n",
        "from sklearn.feature_extraction.text import TfidfVectorizer\r\n",
        "\r\n",
        "#Define a TF-IDF Vectorizer Object. Remove all english stop words such as 'the', 'a'\r\n",
        "tfidf = TfidfVectorizer(stop_words='english')\r\n",
        "\r\n",
        "#Replace NaN with an empty string\r\n",
        "df2['overview'] = df2['overview'].fillna('')\r\n",
        "\r\n",
        "#Construct the required TF-IDF matrix by fitting and transforming the data\r\n",
        "tfidf_matrix = tfidf.fit_transform(df2['overview'])\r\n",
        "\r\n",
        "#Output the shape of tfidf_matrix\r\n",
        "tfidf_matrix.shape"
      ],
      "execution_count": 5,
      "outputs": [
        {
          "output_type": "execute_result",
          "data": {
            "text/plain": [
              "(4803, 20978)"
            ]
          },
          "metadata": {
            "tags": []
          },
          "execution_count": 5
        }
      ]
    },
    {
      "cell_type": "code",
      "metadata": {
        "id": "AlccKb-XKFP9",
        "colab": {
          "base_uri": "https://localhost:8080/"
        },
        "outputId": "d89e4549-e6c9-437f-d14e-28fd3a25aecd"
      },
      "source": [
        "# Import linear_kernel\r\n",
        "from sklearn.metrics.pairwise import linear_kernel\r\n",
        "\r\n",
        "# Compute the cosine similarity matrix\r\n",
        "cosine_sim = linear_kernel(tfidf_matrix, tfidf_matrix)\r\n",
        "print(cosine_sim)"
      ],
      "execution_count": 29,
      "outputs": [
        {
          "output_type": "stream",
          "text": [
            "[[1.         0.         0.         ... 0.         0.         0.        ]\n",
            " [0.         1.         0.         ... 0.02160533 0.         0.        ]\n",
            " [0.         0.         1.         ... 0.01488159 0.         0.        ]\n",
            " ...\n",
            " [0.         0.02160533 0.01488159 ... 1.         0.01609091 0.00701914]\n",
            " [0.         0.         0.         ... 0.01609091 1.         0.01171696]\n",
            " [0.         0.         0.         ... 0.00701914 0.01171696 1.        ]]\n"
          ],
          "name": "stdout"
        }
      ]
    },
    {
      "cell_type": "code",
      "metadata": {
        "id": "wvl61Gb4KMzP"
      },
      "source": [
        "#Construct a reverse map of indices and movie titles\r\n",
        "indices = pd.Series(df2.index, index=df2['title']).drop_duplicates()"
      ],
      "execution_count": 7,
      "outputs": []
    },
    {
      "cell_type": "code",
      "metadata": {
        "id": "iqKuvRhVKh3D"
      },
      "source": [
        "# Function that takes in movie title as input and outputs most similar movies\r\n",
        "def get_recommendations(title, cosine_sim=cosine_sim):\r\n",
        "    # Get the index of the movie that matches the title\r\n",
        "    idx = indices[title]\r\n",
        "    \r\n",
        "    # Get the pairwsie similarity scores of all movies with that movie\r\n",
        "    sim_scores = list(enumerate(cosine_sim[idx]))\r\n",
        "    \r\n",
        "    # Sort the movies based on the similarity scores\r\n",
        "    sim_scores = sorted(sim_scores, key=lambda x: x[1], reverse=True)\r\n",
        "\r\n",
        "    # Get the scores of the 10 most similar movies\r\n",
        "    sim_scores = sim_scores[1:11]\r\n",
        "\r\n",
        "    # Get the movie indices\r\n",
        "    movie_indices = [i[0] for i in sim_scores]\r\n",
        "\r\n",
        "    # Return the top 10 most similar movies\r\n",
        "    return df2['title'].iloc[movie_indices]"
      ],
      "execution_count": 27,
      "outputs": []
    },
    {
      "cell_type": "code",
      "metadata": {
        "id": "D1zj1t7RKkXM",
        "colab": {
          "base_uri": "https://localhost:8080/"
        },
        "outputId": "284b5a7a-71e2-4138-dc79-da2e65f4dfe3"
      },
      "source": [
        "get_recommendations('The Dark Knight Rises')"
      ],
      "execution_count": 9,
      "outputs": [
        {
          "output_type": "execute_result",
          "data": {
            "text/plain": [
              "65                              The Dark Knight\n",
              "299                              Batman Forever\n",
              "428                              Batman Returns\n",
              "1359                                     Batman\n",
              "3854    Batman: The Dark Knight Returns, Part 2\n",
              "119                               Batman Begins\n",
              "2507                                  Slow Burn\n",
              "9            Batman v Superman: Dawn of Justice\n",
              "1181                                        JFK\n",
              "210                              Batman & Robin\n",
              "Name: title, dtype: object"
            ]
          },
          "metadata": {
            "tags": []
          },
          "execution_count": 9
        }
      ]
    },
    {
      "cell_type": "code",
      "metadata": {
        "id": "d15qKFTsKnne",
        "colab": {
          "base_uri": "https://localhost:8080/"
        },
        "outputId": "6a4be940-b4f6-4cd1-8b82-10ce0a5629da"
      },
      "source": [
        "get_recommendations('The Avengers')"
      ],
      "execution_count": 10,
      "outputs": [
        {
          "output_type": "execute_result",
          "data": {
            "text/plain": [
              "7               Avengers: Age of Ultron\n",
              "3144                            Plastic\n",
              "1715                            Timecop\n",
              "4124                 This Thing of Ours\n",
              "3311              Thank You for Smoking\n",
              "3033                      The Corruptor\n",
              "588     Wall Street: Money Never Sleeps\n",
              "2136         Team America: World Police\n",
              "1468                       The Fountain\n",
              "1286                        Snowpiercer\n",
              "Name: title, dtype: object"
            ]
          },
          "metadata": {
            "tags": []
          },
          "execution_count": 10
        }
      ]
    },
    {
      "cell_type": "markdown",
      "metadata": {
        "id": "4xKoF9F7K3H0"
      },
      "source": [
        "## Credits, Genres and Keywords Based Recommender"
      ]
    },
    {
      "cell_type": "code",
      "metadata": {
        "id": "HiIQ17cXLT1l"
      },
      "source": [
        "# Parse the stringified features into their corresponding python objects\r\n",
        "from ast import literal_eval\r\n",
        "\r\n",
        "features = ['cast', 'crew', 'keywords', 'genres']\r\n",
        "for feature in features:\r\n",
        "    df2[feature] = df2[feature].apply(literal_eval)"
      ],
      "execution_count": 11,
      "outputs": []
    },
    {
      "cell_type": "code",
      "metadata": {
        "id": "RskSrwBhLcQw"
      },
      "source": [
        "# Get the director's name from the crew feature. If director is not listed, return NaN\r\n",
        "def get_director(x):\r\n",
        "    for i in x:\r\n",
        "        if i['job'] == 'Director':\r\n",
        "            return i['name']\r\n",
        "    return np.nan\r\n",
        "\r\n",
        "# Returns the list top 3 elements or entire list; whichever is more.\r\n",
        "def get_list(x):\r\n",
        "    if isinstance(x, list):\r\n",
        "        names = [i['name'] for i in x]\r\n",
        "        #Check if more than 3 elements exist. If yes, return only first three. If no, return entire list.\r\n",
        "        if len(names) > 3:\r\n",
        "            names = names[:3]\r\n",
        "        return names\r\n",
        "\r\n",
        "    #Return empty list in case of missing/malformed data\r\n",
        "    return []"
      ],
      "execution_count": 12,
      "outputs": []
    },
    {
      "cell_type": "code",
      "metadata": {
        "id": "MnbRefcSL__j"
      },
      "source": [
        "# Define new director, cast, genres and keywords features that are in a suitable form.\r\n",
        "df2['director'] = df2['crew'].apply(get_director)\r\n",
        "\r\n",
        "features = ['cast', 'keywords', 'genres']\r\n",
        "for feature in features:\r\n",
        "    df2[feature] = df2[feature].apply(get_list)"
      ],
      "execution_count": 13,
      "outputs": []
    },
    {
      "cell_type": "code",
      "metadata": {
        "id": "z6Zy_SSTMCR8",
        "colab": {
          "base_uri": "https://localhost:8080/",
          "height": 141
        },
        "outputId": "a314f9bc-d6f6-4d92-98d0-2b4f22cba2a0"
      },
      "source": [
        "# Print the new features of the first 3 films\r\n",
        "df2[['title', 'cast', 'director', 'keywords', 'genres']].head(3)"
      ],
      "execution_count": 14,
      "outputs": [
        {
          "output_type": "execute_result",
          "data": {
            "text/html": [
              "<div>\n",
              "<style scoped>\n",
              "    .dataframe tbody tr th:only-of-type {\n",
              "        vertical-align: middle;\n",
              "    }\n",
              "\n",
              "    .dataframe tbody tr th {\n",
              "        vertical-align: top;\n",
              "    }\n",
              "\n",
              "    .dataframe thead th {\n",
              "        text-align: right;\n",
              "    }\n",
              "</style>\n",
              "<table border=\"1\" class=\"dataframe\">\n",
              "  <thead>\n",
              "    <tr style=\"text-align: right;\">\n",
              "      <th></th>\n",
              "      <th>title</th>\n",
              "      <th>cast</th>\n",
              "      <th>director</th>\n",
              "      <th>keywords</th>\n",
              "      <th>genres</th>\n",
              "    </tr>\n",
              "  </thead>\n",
              "  <tbody>\n",
              "    <tr>\n",
              "      <th>0</th>\n",
              "      <td>Avatar</td>\n",
              "      <td>[Sam Worthington, Zoe Saldana, Sigourney Weaver]</td>\n",
              "      <td>James Cameron</td>\n",
              "      <td>[culture clash, future, space war]</td>\n",
              "      <td>[Action, Adventure, Fantasy]</td>\n",
              "    </tr>\n",
              "    <tr>\n",
              "      <th>1</th>\n",
              "      <td>Pirates of the Caribbean: At World's End</td>\n",
              "      <td>[Johnny Depp, Orlando Bloom, Keira Knightley]</td>\n",
              "      <td>Gore Verbinski</td>\n",
              "      <td>[ocean, drug abuse, exotic island]</td>\n",
              "      <td>[Adventure, Fantasy, Action]</td>\n",
              "    </tr>\n",
              "    <tr>\n",
              "      <th>2</th>\n",
              "      <td>Spectre</td>\n",
              "      <td>[Daniel Craig, Christoph Waltz, Léa Seydoux]</td>\n",
              "      <td>Sam Mendes</td>\n",
              "      <td>[spy, based on novel, secret agent]</td>\n",
              "      <td>[Action, Adventure, Crime]</td>\n",
              "    </tr>\n",
              "  </tbody>\n",
              "</table>\n",
              "</div>"
            ],
            "text/plain": [
              "                                      title  ...                        genres\n",
              "0                                    Avatar  ...  [Action, Adventure, Fantasy]\n",
              "1  Pirates of the Caribbean: At World's End  ...  [Adventure, Fantasy, Action]\n",
              "2                                   Spectre  ...    [Action, Adventure, Crime]\n",
              "\n",
              "[3 rows x 5 columns]"
            ]
          },
          "metadata": {
            "tags": []
          },
          "execution_count": 14
        }
      ]
    },
    {
      "cell_type": "code",
      "metadata": {
        "id": "HfPh2_6dWiRU"
      },
      "source": [
        "# Function to convert all strings to lower case and strip names of spaces\r\n",
        "def clean_data(x):\r\n",
        "    if isinstance(x, list):\r\n",
        "        return [str.lower(i.replace(\" \", \"\")) for i in x]\r\n",
        "    else:\r\n",
        "        #Check if director exists. If not, return empty string\r\n",
        "        if isinstance(x, str):\r\n",
        "            return str.lower(x.replace(\" \", \"\"))\r\n",
        "        else:\r\n",
        "            return ''"
      ],
      "execution_count": 15,
      "outputs": []
    },
    {
      "cell_type": "code",
      "metadata": {
        "id": "dS-F94IAWjwG"
      },
      "source": [
        "# Apply clean_data function to your features.\r\n",
        "features = ['cast', 'keywords', 'director', 'genres']\r\n",
        "\r\n",
        "for feature in features:\r\n",
        "    df2[feature] = df2[feature].apply(clean_data)"
      ],
      "execution_count": 16,
      "outputs": []
    },
    {
      "cell_type": "code",
      "metadata": {
        "id": "jqsQHqhGWq4s"
      },
      "source": [
        "def create_soup(x):\r\n",
        "    return ' '.join(x['keywords']) + ' ' + ' '.join(x['cast']) + ' ' + x['director'] + ' ' + ' '.join(x['genres'])\r\n",
        "df2['soup'] = df2.apply(create_soup, axis=1)"
      ],
      "execution_count": 17,
      "outputs": []
    },
    {
      "cell_type": "code",
      "metadata": {
        "id": "HrwDo2BOWutk"
      },
      "source": [
        "# Import CountVectorizer and create the count matrix\r\n",
        "from sklearn.feature_extraction.text import CountVectorizer\r\n",
        "\r\n",
        "count = CountVectorizer(stop_words='english')\r\n",
        "count_matrix = count.fit_transform(df2['soup'])"
      ],
      "execution_count": 18,
      "outputs": []
    },
    {
      "cell_type": "code",
      "metadata": {
        "id": "pf5uEbAYW9mn"
      },
      "source": [
        "# Compute the Cosine Similarity matrix based on the count_matrix\r\n",
        "from sklearn.metrics.pairwise import cosine_similarity\r\n",
        "\r\n",
        "cosine_sim2 = cosine_similarity(count_matrix, count_matrix)"
      ],
      "execution_count": 19,
      "outputs": []
    },
    {
      "cell_type": "code",
      "metadata": {
        "id": "oX8dy9rlW_8R"
      },
      "source": [
        "# Reset index of our main DataFrame and construct reverse mapping as before\r\n",
        "df2 = df2.reset_index()\r\n",
        "indices = pd.Series(df2.index, index=df2['title'])"
      ],
      "execution_count": 20,
      "outputs": []
    },
    {
      "cell_type": "code",
      "metadata": {
        "id": "AjiK7r10XCle",
        "colab": {
          "base_uri": "https://localhost:8080/"
        },
        "outputId": "633fc197-9ddc-4931-ff12-6127a0c8eb11"
      },
      "source": [
        "get_recommendations('The Dark Knight Rises', cosine_sim2)"
      ],
      "execution_count": 28,
      "outputs": [
        {
          "output_type": "stream",
          "text": [
            "3\n",
            "[(0, 0.1), (1, 0.1), (2, 0.2), (3, 0.9999999999999999), (4, 0.1), (5, 0.1), (6, 0.0), (7, 0.1), (8, 0.0), (9, 0.2), (10, 0.2), (11, 0.1), (12, 0.1), (13, 0.1), (14, 0.2), (15, 0.0), (16, 0.1), (17, 0.1), (18, 0.1), (19, 0.1), (20, 0.1), (21, 0.10540925533894598), (22, 0.0), (23, 0.0), (24, 0.2), (25, 0.1), (26, 0.1), (27, 0.1), (28, 0.1), (29, 0.1), (30, 0.09534625892455924), (31, 0.2), (32, 0.0), (33, 0.1), (34, 0.0), (35, 0.1), (36, 0.1), (37, 0.0), (38, 0.1), (39, 0.1), (40, 0.1), (41, 0.2), (42, 0.0), (43, 0.2), (44, 0.11180339887498948), (45, 0.2), (46, 0.1), (47, 0.1), (48, 0.10540925533894598), (49, 0.10540925533894598), (50, 0.1), (51, 0.1), (52, 0.1), (53, 0.10540925533894598), (54, 0.0), (55, 0.0), (56, 0.1), (57, 0.0), (58, 0.22360679774997896), (59, 0.1), (60, 0.21081851067789195), (61, 0.1), (62, 0.10540925533894598), (63, 0.0), (64, 0.0), (65, 0.7), (66, 0.0), (67, 0.0), (68, 0.1), (69, 0.1), (70, 0.1), (71, 0.11952286093343936), (72, 0.30000000000000004), (73, 0.0), (74, 0.10540925533894598), (75, 0.10540925533894598), (76, 0.2), (77, 0.1), (78, 0.1), (79, 0.1), (80, 0.1), (81, 0.1), (82, 0.2860387767736777), (83, 0.11952286093343936), (84, 0.2), (85, 0.09534625892455924), (86, 0.0), (87, 0.0), (88, 0.0), (89, 0.0), (90, 0.0), (91, 0.10540925533894598), (92, 0.0), (93, 0.1), (94, 0.1), (95, 0.2), (96, 0.19069251784911848), (97, 0.2), (98, 0.1), (99, 0.2), (100, 0.1), (101, 0.10540925533894598), (102, 0.1), (103, 0.10540925533894598), (104, 0.2), (105, 0.0), (106, 0.0), (107, 0.1), (108, 0.1), (109, 0.0), (110, 0.0), (111, 0.1), (112, 0.1), (113, 0.0), (114, 0.0), (115, 0.1), (116, 0.19069251784911848), (117, 0.0), (118, 0.0), (119, 0.7), (120, 0.0), (121, 0.1), (122, 0.1), (123, 0.09534625892455924), (124, 0.0), (125, 0.09534625892455924), (126, 0.1), (127, 0.09534625892455924), (128, 0.0), (129, 0.1), (130, 0.0), (131, 0.10540925533894598), (132, 0.0), (133, 0.0), (134, 0.1), (135, 0.1), (136, 0.0), (137, 0.0), (138, 0.10540925533894598), (139, 0.1), (140, 0.2), (141, 0.0), (142, 0.0), (143, 0.0), (144, 0.0), (145, 0.1), (146, 0.0), (147, 0.1), (148, 0.1), (149, 0.1), (150, 0.1), (151, 0.1), (152, 0.1), (153, 0.1), (154, 0.0), (155, 0.0), (156, 0.2), (157, 0.30000000000000004), (158, 0.1), (159, 0.10540925533894598), (160, 0.1), (161, 0.0), (162, 0.11180339887498948), (163, 0.2), (164, 0.1), (165, 0.2), (166, 0.09534625892455924), (167, 0.10540925533894598), (168, 0.09534625892455924), (169, 0.1), (170, 0.1), (171, 0.0), (172, 0.1), (173, 0.0), (174, 0.1), (175, 0.0), (176, 0.1), (177, 0.0), (178, 0.0), (179, 0.0), (180, 0.2), (181, 0.0), (182, 0.1), (183, 0.1), (184, 0.0), (185, 0.0), (186, 0.1), (187, 0.0912870929175277), (188, 0.1), (189, 0.10540925533894598), (190, 0.0), (191, 0.0), (192, 0.11180339887498948), (193, 0.11180339887498948), (194, 0.0), (195, 0.0), (196, 0.1), (197, 0.0), (198, 0.1), (199, 0.1), (200, 0.0), (201, 0.0), (202, 0.0), (203, 0.1), (204, 0.2), (205, 0.2), (206, 0.1), (207, 0.1), (208, 0.1), (209, 0.10540925533894598), (210, 0.2860387767736777), (211, 0.0), (212, 0.1), (213, 0.1), (214, 0.11180339887498948), (215, 0.10540925533894598), (216, 0.2), (217, 0.1), (218, 0.10540925533894598), (219, 0.1), (220, 0.0), (221, 0.0), (222, 0.2), (223, 0.10540925533894598), (224, 0.21081851067789195), (225, 0.1), (226, 0.09534625892455924), (227, 0.10540925533894598), (228, 0.1), (229, 0.1), (230, 0.1), (231, 0.0), (232, 0.1), (233, 0.1), (234, 0.0), (235, 0.0), (236, 0.2), (237, 0.19069251784911848), (238, 0.2), (239, 0.1), (240, 0.1), (241, 0.1), (242, 0.09534625892455924), (243, 0.1), (244, 0.2), (245, 0.1), (246, 0.1), (247, 0.1), (248, 0.2), (249, 0.0), (250, 0.11180339887498948), (251, 0.0), (252, 0.2), (253, 0.10540925533894598), (254, 0.0), (255, 0.0), (256, 0.0), (257, 0.2), (258, 0.0), (259, 0.1), (260, 0.1), (261, 0.10540925533894598), (262, 0.1), (263, 0.1), (264, 0.11180339887498948), (265, 0.0), (266, 0.10540925533894598), (267, 0.2), (268, 0.0), (269, 0.0), (270, 0.1), (271, 0.09534625892455924), (272, 0.0), (273, 0.2), (274, 0.2), (275, 0.09534625892455924), (276, 0.0), (277, 0.1), (278, 0.1), (279, 0.09534625892455924), (280, 0.30000000000000004), (281, 0.21081851067789195), (282, 0.21081851067789195), (283, 0.2), (284, 0.0), (285, 0.2), (286, 0.2), (287, 0.10540925533894598), (288, 0.1), (289, 0.0), (290, 0.1), (291, 0.1), (292, 0.1), (293, 0.0), (294, 0.0), (295, 0.1), (296, 0.09534625892455924), (297, 0.2), (298, 0.2), (299, 0.30000000000000004), (300, 0.1), (301, 0.10540925533894598), (302, 0.0), (303, 0.31622776601683794), (304, 0.10540925533894598), (305, 0.0), (306, 0.0), (307, 0.1), (308, 0.2), (309, 0.0), (310, 0.1), (311, 0.1), (312, 0.1), (313, 0.0), (314, 0.2), (315, 0.1), (316, 0.19069251784911848), (317, 0.21081851067789195), (318, 0.0), (319, 0.1), (320, 0.1), (321, 0.0), (322, 0.2), (323, 0.11952286093343936), (324, 0.0), (325, 0.0), (326, 0.0), (327, 0.10540925533894598), (328, 0.0), (329, 0.0912870929175277), (330, 0.0912870929175277), (331, 0.0), (332, 0.1), (333, 0.1), (334, 0.09534625892455924), (335, 0.2), (336, 0.0), (337, 0.10540925533894598), (338, 0.0), (339, 0.0912870929175277), (340, 0.10540925533894598), (341, 0.0), (342, 0.1), (343, 0.0), (344, 0.11952286093343936), (345, 0.22360679774997896), (346, 0.1), (347, 0.0), (348, 0.0), (349, 0.0912870929175277), (350, 0.1), (351, 0.2), (352, 0.0), (353, 0.09534625892455924), (354, 0.1), (355, 0.1), (356, 0.2), (357, 0.11952286093343936), (358, 0.0), (359, 0.0), (360, 0.1), (361, 0.10540925533894598), (362, 0.1), (363, 0.09534625892455924), (364, 0.0), (365, 0.1), (366, 0.1), (367, 0.10540925533894598), (368, 0.0), (369, 0.1), (370, 0.09534625892455924), (371, 0.1), (372, 0.2), (373, 0.0), (374, 0.0), (375, 0.0), (376, 0.2), (377, 0.2860387767736777), (378, 0.1), (379, 0.1), (380, 0.1), (381, 0.11952286093343936), (382, 0.10540925533894598), (383, 0.2), (384, 0.10540925533894598), (385, 0.0), (386, 0.2), (387, 0.21081851067789195), (388, 0.10540925533894598), (389, 0.09534625892455924), (390, 0.0), (391, 0.0), (392, 0.10540925533894598), (393, 0.0), (394, 0.10540925533894598), (395, 0.0), (396, 0.2), (397, 0.0), (398, 0.10540925533894598), (399, 0.0), (400, 0.1), (401, 0.0), (402, 0.1), (403, 0.1), (404, 0.1), (405, 0.30000000000000004), (406, 0.1), (407, 0.1), (408, 0.30000000000000004), (409, 0.10540925533894598), (410, 0.1), (411, 0.1), (412, 0.1), (413, 0.0), (414, 0.0), (415, 0.21081851067789195), (416, 0.1), (417, 0.0), (418, 0.0), (419, 0.0), (420, 0.0), (421, 0.2), (422, 0.0), (423, 0.0), (424, 0.0912870929175277), (425, 0.1), (426, 0.0), (427, 0.0), (428, 0.10540925533894598), (429, 0.0), (430, 0.0), (431, 0.0), (432, 0.2), (433, 0.19069251784911848), (434, 0.10540925533894598), (435, 0.0), (436, 0.0), (437, 0.2), (438, 0.1), (439, 0.1), (440, 0.1), (441, 0.0), (442, 0.2), (443, 0.0), (444, 0.2), (445, 0.0), (446, 0.2), (447, 0.1), (448, 0.11180339887498948), (449, 0.19069251784911848), (450, 0.0), (451, 0.0), (452, 0.1), (453, 0.2), (454, 0.1), (455, 0.2), (456, 0.1825741858350554), (457, 0.10540925533894598), (458, 0.0), (459, 0.0), (460, 0.0), (461, 0.1), (462, 0.1), (463, 0.10540925533894598), (464, 0.0), (465, 0.0), (466, 0.10540925533894598), (467, 0.10540925533894598), (468, 0.2), (469, 0.1), (470, 0.1), (471, 0.0), (472, 0.1), (473, 0.0), (474, 0.09534625892455924), (475, 0.2), (476, 0.10540925533894598), (477, 0.1), (478, 0.1), (479, 0.0), (480, 0.09534625892455924), (481, 0.0), (482, 0.09534625892455924), (483, 0.09534625892455924), (484, 0.09534625892455924), (485, 0.1), (486, 0.1), (487, 0.09534625892455924), (488, 0.0), (489, 0.0), (490, 0.0), (491, 0.0912870929175277), (492, 0.0), (493, 0.10540925533894598), (494, 0.1), (495, 0.1), (496, 0.0), (497, 0.1), (498, 0.0), (499, 0.0), (500, 0.2), (501, 0.0), (502, 0.0), (503, 0.0912870929175277), (504, 0.0), (505, 0.1), (506, 0.0), (507, 0.1), (508, 0.1), (509, 0.0), (510, 0.30000000000000004), (511, 0.1), (512, 0.2), (513, 0.1), (514, 0.0), (515, 0.0), (516, 0.0), (517, 0.0), (518, 0.11180339887498948), (519, 0.10540925533894598), (520, 0.0), (521, 0.1), (522, 0.0), (523, 0.09534625892455924), (524, 0.1), (525, 0.1), (526, 0.11180339887498948), (527, 0.10540925533894598), (528, 0.2), (529, 0.2), (530, 0.11180339887498948), (531, 0.1), (532, 0.0), (533, 0.0), (534, 0.22360679774997896), (535, 0.2), (536, 0.09534625892455924), (537, 0.2), (538, 0.09534625892455924), (539, 0.1), (540, 0.10540925533894598), (541, 0.09534625892455924), (542, 0.2), (543, 0.0), (544, 0.2), (545, 0.09534625892455924), (546, 0.0), (547, 0.0912870929175277), (548, 0.10540925533894598), (549, 0.0), (550, 0.0), (551, 0.0), (552, 0.10540925533894598), (553, 0.30000000000000004), (554, 0.0), (555, 0.0), (556, 0.1825741858350554), (557, 0.10540925533894598), (558, 0.0), (559, 0.10540925533894598), (560, 0.11180339887498948), (561, 0.09534625892455924), (562, 0.1), (563, 0.0), (564, 0.1), (565, 0.0), (566, 0.0), (567, 0.0), (568, 0.09534625892455924), (569, 0.0), (570, 0.10540925533894598), (571, 0.2), (572, 0.0), (573, 0.10540925533894598), (574, 0.19069251784911848), (575, 0.09534625892455924), (576, 0.1), (577, 0.09534625892455924), (578, 0.0), (579, 0.1), (580, 0.10540925533894598), (581, 0.0912870929175277), (582, 0.10540925533894598), (583, 0.1), (584, 0.0), (585, 0.10540925533894598), (586, 0.0912870929175277), (587, 0.1), (588, 0.23904572186687872), (589, 0.2), (590, 0.2), (591, 0.0), (592, 0.09534625892455924), (593, 0.10540925533894598), (594, 0.1), (595, 0.1), (596, 0.1), (597, 0.1), (598, 0.1), (599, 0.10540925533894598), (600, 0.11180339887498948), (601, 0.1), (602, 0.1), (603, 0.0), (604, 0.1), (605, 0.0), (606, 0.30000000000000004), (607, 0.1), (608, 0.09534625892455924), (609, 0.10540925533894598), (610, 0.10540925533894598), (611, 0.30000000000000004), (612, 0.1), (613, 0.2), (614, 0.0), (615, 0.2), (616, 0.0), (617, 0.1), (618, 0.1), (619, 0.0), (620, 0.10540925533894598), (621, 0.2), (622, 0.2), (623, 0.0), (624, 0.1), (625, 0.0912870929175277), (626, 0.0), (627, 0.1), (628, 0.1), (629, 0.30000000000000004), (630, 0.0), (631, 0.0), (632, 0.11180339887498948), (633, 0.1), (634, 0.1), (635, 0.11180339887498948), (636, 0.0), (637, 0.1), (638, 0.0), (639, 0.0), (640, 0.1), (641, 0.10540925533894598), (642, 0.1), (643, 0.0912870929175277), (644, 0.1), (645, 0.2), (646, 0.0), (647, 0.1), (648, 0.10540925533894598), (649, 0.0), (650, 0.10540925533894598), (651, 0.1), (652, 0.1), (653, 0.1), (654, 0.09534625892455924), (655, 0.10540925533894598), (656, 0.10540925533894598), (657, 0.09534625892455924), (658, 0.09534625892455924), (659, 0.19069251784911848), (660, 0.2), (661, 0.0), (662, 0.11180339887498948), (663, 0.11180339887498948), (664, 0.1), (665, 0.1), (666, 0.0), (667, 0.2), (668, 0.10540925533894598), (669, 0.10540925533894598), (670, 0.1), (671, 0.10540925533894598), (672, 0.2), (673, 0.1), (674, 0.11180339887498948), (675, 0.0), (676, 0.2), (677, 0.2), (678, 0.23904572186687872), (679, 0.10540925533894598), (680, 0.2), (681, 0.09534625892455924), (682, 0.0), (683, 0.09534625892455924), (684, 0.19069251784911848), (685, 0.2), (686, 0.0), (687, 0.1), (688, 0.0), (689, 0.0), (690, 0.2), (691, 0.1), (692, 0.0), (693, 0.1), (694, 0.2), (695, 0.1), (696, 0.2), (697, 0.10540925533894598), (698, 0.1), (699, 0.0), (700, 0.2), (701, 0.0), (702, 0.21081851067789195), (703, 0.0), (704, 0.0), (705, 0.0), (706, 0.0), (707, 0.0), (708, 0.1), (709, 0.11180339887498948), (710, 0.1), (711, 0.1), (712, 0.11180339887498948), (713, 0.09534625892455924), (714, 0.2), (715, 0.10540925533894598), (716, 0.21081851067789195), (717, 0.2), (718, 0.09534625892455924), (719, 0.0), (720, 0.1), (721, 0.09534625892455924), (722, 0.0), (723, 0.0), (724, 0.2), (725, 0.0), (726, 0.10540925533894598), (727, 0.0), (728, 0.1), (729, 0.11180339887498948), (730, 0.0), (731, 0.09534625892455924), (732, 0.1), (733, 0.10540925533894598), (734, 0.0), (735, 0.1), (736, 0.21081851067789195), (737, 0.2), (738, 0.1), (739, 0.30000000000000004), (740, 0.09534625892455924), (741, 0.2), (742, 0.0), (743, 0.1), (744, 0.0), (745, 0.10540925533894598), (746, 0.2), (747, 0.31622776601683794), (748, 0.0), (749, 0.10540925533894598), (750, 0.11180339887498948), (751, 0.11180339887498948), (752, 0.1), (753, 0.21081851067789195), (754, 0.0), (755, 0.1), (756, 0.09534625892455924), (757, 0.10540925533894598), (758, 0.2), (759, 0.0), (760, 0.10540925533894598), (761, 0.30000000000000004), (762, 0.30000000000000004), (763, 0.11180339887498948), (764, 0.10540925533894598), (765, 0.10540925533894598), (766, 0.0), (767, 0.19069251784911848), (768, 0.09534625892455924), (769, 0.0), (770, 0.0), (771, 0.11180339887498948), (772, 0.11180339887498948), (773, 0.21081851067789195), (774, 0.21081851067789195), (775, 0.0), (776, 0.11180339887498948), (777, 0.2), (778, 0.0), (779, 0.09534625892455924), (780, 0.0), (781, 0.0), (782, 0.09534625892455924), (783, 0.0), (784, 0.09534625892455924), (785, 0.1), (786, 0.11180339887498948), (787, 0.1), (788, 0.1), (789, 0.10540925533894598), (790, 0.10540925533894598), (791, 0.0), (792, 0.0), (793, 0.0), (794, 0.1), (795, 0.0912870929175277), (796, 0.0), (797, 0.0), (798, 0.0), (799, 0.0912870929175277), (800, 0.2), (801, 0.1), (802, 0.0), (803, 0.0), (804, 0.2), (805, 0.1), (806, 0.1), (807, 0.2), (808, 0.2), (809, 0.1), (810, 0.0), (811, 0.0), (812, 0.1), (813, 0.2), (814, 0.0), (815, 0.1), (816, 0.0), (817, 0.0), (818, 0.2), (819, 0.0), (820, 0.0), (821, 0.2), (822, 0.1), (823, 0.2), (824, 0.11180339887498948), (825, 0.1), (826, 0.2), (827, 0.1), (828, 0.2), (829, 0.0), (830, 0.2), (831, 0.1), (832, 0.0), (833, 0.1), (834, 0.2), (835, 0.0), (836, 0.1), (837, 0.0), (838, 0.09534625892455924), (839, 0.1), (840, 0.2), (841, 0.0), (842, 0.0), (843, 0.0), (844, 0.2), (845, 0.1), (846, 0.0), (847, 0.0), (848, 0.0), (849, 0.2), (850, 0.2), (851, 0.1), (852, 0.1), (853, 0.1), (854, 0.10540925533894598), (855, 0.08770580193070293), (856, 0.2), (857, 0.0), (858, 0.10540925533894598), (859, 0.1), (860, 0.10540925533894598), (861, 0.10540925533894598), (862, 0.10540925533894598), (863, 0.1), (864, 0.1), (865, 0.11180339887498948), (866, 0.23904572186687872), (867, 0.2), (868, 0.1), (869, 0.0), (870, 0.2), (871, 0.11180339887498948), (872, 0.10540925533894598), (873, 0.27386127875258315), (874, 0.0), (875, 0.09534625892455924), (876, 0.1), (877, 0.21081851067789195), (878, 0.1), (879, 0.2), (880, 0.1), (881, 0.12909944487358058), (882, 0.10540925533894598), (883, 0.21081851067789195), (884, 0.1), (885, 0.0), (886, 0.0), (887, 0.0), (888, 0.1), (889, 0.1), (890, 0.0), (891, 0.1), (892, 0.21081851067789195), (893, 0.2), (894, 0.1), (895, 0.0), (896, 0.0), (897, 0.0), (898, 0.1), (899, 0.0), (900, 0.0), (901, 0.0), (902, 0.1), (903, 0.0), (904, 0.0), (905, 0.10540925533894598), (906, 0.0), (907, 0.0), (908, 0.0), (909, 0.11180339887498948), (910, 0.0), (911, 0.2), (912, 0.0), (913, 0.0), (914, 0.10540925533894598), (915, 0.10540925533894598), (916, 0.0), (917, 0.0), (918, 0.2), (919, 0.2), (920, 0.2), (921, 0.11180339887498948), (922, 0.2), (923, 0.0), (924, 0.1), (925, 0.1), (926, 0.0), (927, 0.0), (928, 0.11180339887498948), (929, 0.2), (930, 0.09534625892455924), (931, 0.0), (932, 0.1), (933, 0.1), (934, 0.0), (935, 0.0), (936, 0.0), (937, 0.1), (938, 0.10540925533894598), (939, 0.1), (940, 0.10540925533894598), (941, 0.2), (942, 0.0), (943, 0.0), (944, 0.1825741858350554), (945, 0.21081851067789195), (946, 0.1), (947, 0.0), (948, 0.0), (949, 0.0), (950, 0.19069251784911848), (951, 0.10540925533894598), (952, 0.2), (953, 0.0), (954, 0.11180339887498948), (955, 0.21081851067789195), (956, 0.1), (957, 0.0), (958, 0.2), (959, 0.19069251784911848), (960, 0.0), (961, 0.1), (962, 0.1), (963, 0.2), (964, 0.1), (965, 0.2), (966, 0.0), (967, 0.12909944487358058), (968, 0.2), (969, 0.2), (970, 0.2), (971, 0.08770580193070293), (972, 0.1), (973, 0.19069251784911848), (974, 0.1825741858350554), (975, 0.21081851067789195), (976, 0.1), (977, 0.0), (978, 0.1), (979, 0.2), (980, 0.2), (981, 0.12909944487358058), (982, 0.2860387767736777), (983, 0.1), (984, 0.1), (985, 0.2), (986, 0.0), (987, 0.1), (988, 0.19069251784911848), (989, 0.1), (990, 0.2), (991, 0.10540925533894598), (992, 0.21081851067789195), (993, 0.1), (994, 0.09534625892455924), (995, 0.1), (996, 0.2), (997, 0.0), (998, 0.10540925533894598), (999, 0.09534625892455924), (1000, 0.1), (1001, 0.1), (1002, 0.11180339887498948), (1003, 0.1), (1004, 0.10540925533894598), (1005, 0.2), (1006, 0.10540925533894598), (1007, 0.09534625892455924), (1008, 0.2), (1009, 0.1), (1010, 0.2), (1011, 0.0), (1012, 0.09534625892455924), (1013, 0.21081851067789195), (1014, 0.0), (1015, 0.10540925533894598), (1016, 0.0), (1017, 0.0), (1018, 0.2), (1019, 0.11180339887498948), (1020, 0.10540925533894598), (1021, 0.1), (1022, 0.1), (1023, 0.11180339887498948), (1024, 0.1825741858350554), (1025, 0.2), (1026, 0.1), (1027, 0.1), (1028, 0.1), (1029, 0.0), (1030, 0.1), (1031, 0.0), (1032, 0.0), (1033, 0.2), (1034, 0.0912870929175277), (1035, 0.30000000000000004), (1036, 0.1), (1037, 0.0), (1038, 0.2), (1039, 0.11952286093343936), (1040, 0.0), (1041, 0.2), (1042, 0.0), (1043, 0.30000000000000004), (1044, 0.1), (1045, 0.1), (1046, 0.09534625892455924), (1047, 0.19069251784911848), (1048, 0.10540925533894598), (1049, 0.2), (1050, 0.0), (1051, 0.2), (1052, 0.30000000000000004), (1053, 0.0), (1054, 0.0), (1055, 0.0), (1056, 0.10540925533894598), (1057, 0.1), (1058, 0.19069251784911848), (1059, 0.0), (1060, 0.0), (1061, 0.1), (1062, 0.0), (1063, 0.0), (1064, 0.10540925533894598), (1065, 0.0912870929175277), (1066, 0.1), (1067, 0.0), (1068, 0.0), (1069, 0.11952286093343936), (1070, 0.09534625892455924), (1071, 0.0), (1072, 0.11952286093343936), (1073, 0.2), (1074, 0.0), (1075, 0.19069251784911848), (1076, 0.19069251784911848), (1077, 0.1), (1078, 0.0), (1079, 0.1), (1080, 0.1), (1081, 0.10540925533894598), (1082, 0.2), (1083, 0.1), (1084, 0.2), (1085, 0.0), (1086, 0.0), (1087, 0.2), (1088, 0.0), (1089, 0.10540925533894598), (1090, 0.1), (1091, 0.10540925533894598), (1092, 0.0), (1093, 0.1), (1094, 0.10540925533894598), (1095, 0.19069251784911848), (1096, 0.2), (1097, 0.11180339887498948), (1098, 0.10540925533894598), (1099, 0.11952286093343936), (1100, 0.2), (1101, 0.1), (1102, 0.09534625892455924), (1103, 0.1), (1104, 0.10540925533894598), (1105, 0.2), (1106, 0.09534625892455924), (1107, 0.1), (1108, 0.0), (1109, 0.2), (1110, 0.1), (1111, 0.1), (1112, 0.11180339887498948), (1113, 0.10540925533894598), (1114, 0.21081851067789195), (1115, 0.0), (1116, 0.1), (1117, 0.11180339887498948), (1118, 0.2), (1119, 0.2), (1120, 0.1), (1121, 0.0), (1122, 0.0), (1123, 0.0), (1124, 0.2), (1125, 0.09534625892455924), (1126, 0.0), (1127, 0.1), (1128, 0.0912870929175277), (1129, 0.1), (1130, 0.0), (1131, 0.1), (1132, 0.0912870929175277), (1133, 0.2), (1134, 0.0), (1135, 0.2), (1136, 0.19069251784911848), (1137, 0.19069251784911848), (1138, 0.0912870929175277), (1139, 0.09534625892455924), (1140, 0.19069251784911848), (1141, 0.11180339887498948), (1142, 0.0), (1143, 0.1), (1144, 0.1), (1145, 0.1), (1146, 0.2), (1147, 0.0), (1148, 0.10540925533894598), (1149, 0.30000000000000004), (1150, 0.1), (1151, 0.2), (1152, 0.0), (1153, 0.1), (1154, 0.09534625892455924), (1155, 0.1), (1156, 0.19069251784911848), (1157, 0.0), (1158, 0.2), (1159, 0.0), (1160, 0.0), (1161, 0.11180339887498948), (1162, 0.1), (1163, 0.0), (1164, 0.0), (1165, 0.0), (1166, 0.0), (1167, 0.10540925533894598), (1168, 0.10540925533894598), (1169, 0.11180339887498948), (1170, 0.2), (1171, 0.0), (1172, 0.1), (1173, 0.0), (1174, 0.10540925533894598), (1175, 0.19069251784911848), (1176, 0.10540925533894598), (1177, 0.2), (1178, 0.2), (1179, 0.0), (1180, 0.0), (1181, 0.2), (1182, 0.10540925533894598), (1183, 0.21081851067789195), (1184, 0.0), (1185, 0.0), (1186, 0.0), (1187, 0.10540925533894598), (1188, 0.2), (1189, 0.0), (1190, 0.1), (1191, 0.0), (1192, 0.09534625892455924), (1193, 0.16903085094570333), (1194, 0.2), (1195, 0.09534625892455924), (1196, 0.4), (1197, 0.0), (1198, 0.0), (1199, 0.2), (1200, 0.09534625892455924), (1201, 0.1), (1202, 0.2), (1203, 0.0), (1204, 0.1), (1205, 0.1), (1206, 0.1), (1207, 0.0), (1208, 0.11180339887498948), (1209, 0.2), (1210, 0.0), (1211, 0.1), (1212, 0.0), (1213, 0.1), (1214, 0.0), (1215, 0.1), (1216, 0.0), (1217, 0.0), (1218, 0.0), (1219, 0.0), (1220, 0.1), (1221, 0.10540925533894598), (1222, 0.0), (1223, 0.09534625892455924), (1224, 0.0), (1225, 0.1), (1226, 0.1), (1227, 0.1), (1228, 0.0), (1229, 0.0), (1230, 0.1), (1231, 0.11180339887498948), (1232, 0.1), (1233, 0.10540925533894598), (1234, 0.2), (1235, 0.10540925533894598), (1236, 0.1), (1237, 0.0), (1238, 0.0), (1239, 0.2), (1240, 0.11180339887498948), (1241, 0.10540925533894598), (1242, 0.0), (1243, 0.21081851067789195), (1244, 0.0), (1245, 0.2), (1246, 0.23904572186687872), (1247, 0.2), (1248, 0.11180339887498948), (1249, 0.10540925533894598), (1250, 0.10540925533894598), (1251, 0.11180339887498948), (1252, 0.10540925533894598), (1253, 0.31622776601683794), (1254, 0.19069251784911848), (1255, 0.10540925533894598), (1256, 0.1), (1257, 0.0), (1258, 0.11952286093343936), (1259, 0.0), (1260, 0.0), (1261, 0.0), (1262, 0.0), (1263, 0.1), (1264, 0.10540925533894598), (1265, 0.0), (1266, 0.09534625892455924), (1267, 0.11952286093343936), (1268, 0.0), (1269, 0.23904572186687872), (1270, 0.1), (1271, 0.1), (1272, 0.10540925533894598), (1273, 0.22360679774997896), (1274, 0.0), (1275, 0.0), (1276, 0.11180339887498948), (1277, 0.0), (1278, 0.31622776601683794), (1279, 0.1), (1280, 0.1), (1281, 0.2), (1282, 0.1), (1283, 0.10540925533894598), (1284, 0.2), (1285, 0.11952286093343936), (1286, 0.16903085094570333), (1287, 0.0), (1288, 0.12909944487358058), (1289, 0.1), (1290, 0.0912870929175277), (1291, 0.1), (1292, 0.0), (1293, 0.0), (1294, 0.1), (1295, 0.10540925533894598), (1296, 0.2), (1297, 0.0), (1298, 0.19069251784911848), (1299, 0.0), (1300, 0.0), (1301, 0.0), (1302, 0.1), (1303, 0.1), (1304, 0.1632993161855452), (1305, 0.10540925533894598), (1306, 0.0), (1307, 0.11180339887498948), (1308, 0.10540925533894598), (1309, 0.11180339887498948), (1310, 0.1), (1311, 0.10540925533894598), (1312, 0.0), (1313, 0.0), (1314, 0.10540925533894598), (1315, 0.1), (1316, 0.10540925533894598), (1317, 0.21081851067789195), (1318, 0.0), (1319, 0.1), (1320, 0.1), (1321, 0.10540925533894598), (1322, 0.0), (1323, 0.11180339887498948), (1324, 0.11952286093343936), (1325, 0.11180339887498948), (1326, 0.0), (1327, 0.10540925533894598), (1328, 0.1825741858350554), (1329, 0.1), (1330, 0.1), (1331, 0.0), (1332, 0.21081851067789195), (1333, 0.1), (1334, 0.2), (1335, 0.0), (1336, 0.10540925533894598), (1337, 0.1), (1338, 0.2), (1339, 0.2), (1340, 0.10540925533894598), (1341, 0.1), (1342, 0.2), (1343, 0.1), (1344, 0.0), (1345, 0.10540925533894598), (1346, 0.0), (1347, 0.21081851067789195), (1348, 0.1), (1349, 0.10540925533894598), (1350, 0.10540925533894598), (1351, 0.09534625892455924), (1352, 0.0), (1353, 0.11180339887498948), (1354, 0.0), (1355, 0.0), (1356, 0.0), (1357, 0.22360679774997896), (1358, 0.1), (1359, 0.21081851067789195), (1360, 0.11180339887498948), (1361, 0.1), (1362, 0.11180339887498948), (1363, 0.1), (1364, 0.10540925533894598), (1365, 0.1), (1366, 0.1), (1367, 0.0), (1368, 0.12909944487358058), (1369, 0.10540925533894598), (1370, 0.21081851067789195), (1371, 0.0), (1372, 0.0), (1373, 0.1), (1374, 0.2), (1375, 0.0), (1376, 0.0), (1377, 0.1), (1378, 0.0), (1379, 0.0), (1380, 0.2), (1381, 0.11180339887498948), (1382, 0.0), (1383, 0.11180339887498948), (1384, 0.0), (1385, 0.0), (1386, 0.1), (1387, 0.10540925533894598), (1388, 0.0), (1389, 0.0), (1390, 0.1), (1391, 0.0), (1392, 0.0), (1393, 0.0), (1394, 0.2), (1395, 0.09534625892455924), (1396, 0.0), (1397, 0.09534625892455924), (1398, 0.11180339887498948), (1399, 0.1), (1400, 0.0), (1401, 0.1), (1402, 0.0), (1403, 0.0), (1404, 0.08770580193070293), (1405, 0.10540925533894598), (1406, 0.1), (1407, 0.0), (1408, 0.10540925533894598), (1409, 0.2), (1410, 0.0), (1411, 0.1), (1412, 0.1), (1413, 0.11180339887498948), (1414, 0.0), (1415, 0.0), (1416, 0.0), (1417, 0.22360679774997896), (1418, 0.2), (1419, 0.2), (1420, 0.0), (1421, 0.09534625892455924), (1422, 0.1), (1423, 0.0), (1424, 0.11180339887498948), (1425, 0.1), (1426, 0.0), (1427, 0.10540925533894598), (1428, 0.1), (1429, 0.19069251784911848), (1430, 0.0), (1431, 0.19069251784911848), (1432, 0.2), (1433, 0.1), (1434, 0.22360679774997896), (1435, 0.0), (1436, 0.0), (1437, 0.1), (1438, 0.1), (1439, 0.27386127875258315), (1440, 0.2), (1441, 0.0), (1442, 0.10540925533894598), (1443, 0.10540925533894598), (1444, 0.09534625892455924), (1445, 0.2), (1446, 0.10540925533894598), (1447, 0.09534625892455924), (1448, 0.21081851067789195), (1449, 0.1), (1450, 0.21081851067789195), (1451, 0.0), (1452, 0.09534625892455924), (1453, 0.1), (1454, 0.1), (1455, 0.11180339887498948), (1456, 0.30000000000000004), (1457, 0.30000000000000004), (1458, 0.1), (1459, 0.1), (1460, 0.09534625892455924), (1461, 0.1), (1462, 0.11180339887498948), (1463, 0.1), (1464, 0.25819888974716115), (1465, 0.0912870929175277), (1466, 0.0), (1467, 0.1), (1468, 0.1), (1469, 0.11952286093343936), (1470, 0.30000000000000004), (1471, 0.0), (1472, 0.1), (1473, 0.1), (1474, 0.11180339887498948), (1475, 0.0), (1476, 0.10540925533894598), (1477, 0.1), (1478, 0.11180339887498948), (1479, 0.2), (1480, 0.10540925533894598), (1481, 0.0), (1482, 0.1), (1483, 0.1), (1484, 0.1825741858350554), (1485, 0.0), (1486, 0.30000000000000004), (1487, 0.11180339887498948), (1488, 0.22360679774997896), (1489, 0.10540925533894598), (1490, 0.1), (1491, 0.1), (1492, 0.10540925533894598), (1493, 0.0), (1494, 0.0), (1495, 0.1), (1496, 0.0), (1497, 0.0912870929175277), (1498, 0.0), (1499, 0.0), (1500, 0.09534625892455924), (1501, 0.0), (1502, 0.11180339887498948), (1503, 0.33541019662496846), (1504, 0.0), (1505, 0.19069251784911848), (1506, 0.0), (1507, 0.2), (1508, 0.1), (1509, 0.1), (1510, 0.10540925533894598), (1511, 0.10540925533894598), (1512, 0.2), (1513, 0.2), (1514, 0.10540925533894598), (1515, 0.1), (1516, 0.11180339887498948), (1517, 0.1), (1518, 0.09534625892455924), (1519, 0.0), (1520, 0.0), (1521, 0.0), (1522, 0.1414213562373095), (1523, 0.2), (1524, 0.0), (1525, 0.10540925533894598), (1526, 0.1), (1527, 0.09534625892455924), (1528, 0.22360679774997896), (1529, 0.11180339887498948), (1530, 0.11180339887498948), (1531, 0.1), (1532, 0.10540925533894598), (1533, 0.10540925533894598), (1534, 0.0), (1535, 0.2), (1536, 0.0), (1537, 0.1), (1538, 0.19069251784911848), (1539, 0.10540925533894598), (1540, 0.0), (1541, 0.0), (1542, 0.2), (1543, 0.10540925533894598), (1544, 0.1414213562373095), (1545, 0.11180339887498948), (1546, 0.1), (1547, 0.11180339887498948), (1548, 0.0), (1549, 0.0), (1550, 0.1), (1551, 0.0), (1552, 0.0), (1553, 0.1), (1554, 0.0), (1555, 0.0), (1556, 0.2), (1557, 0.1), (1558, 0.10540925533894598), (1559, 0.10540925533894598), (1560, 0.0), (1561, 0.1), (1562, 0.0), (1563, 0.09534625892455924), (1564, 0.1), (1565, 0.10540925533894598), (1566, 0.10540925533894598), (1567, 0.0), (1568, 0.09534625892455924), (1569, 0.0), (1570, 0.1), (1571, 0.10540925533894598), (1572, 0.1), (1573, 0.21081851067789195), (1574, 0.0), (1575, 0.10540925533894598), (1576, 0.0), (1577, 0.10540925533894598), (1578, 0.0), (1579, 0.0), (1580, 0.0), (1581, 0.21081851067789195), (1582, 0.10540925533894598), (1583, 0.0912870929175277), (1584, 0.1), (1585, 0.10540925533894598), (1586, 0.1), (1587, 0.0), (1588, 0.1), (1589, 0.0), (1590, 0.10540925533894598), (1591, 0.1), (1592, 0.2), (1593, 0.0), (1594, 0.0), (1595, 0.11180339887498948), (1596, 0.30000000000000004), (1597, 0.23904572186687872), (1598, 0.0), (1599, 0.1), (1600, 0.2), (1601, 0.09534625892455924), (1602, 0.0), (1603, 0.1), (1604, 0.0), (1605, 0.0), (1606, 0.0), (1607, 0.1), (1608, 0.10540925533894598), (1609, 0.0), (1610, 0.1), (1611, 0.09534625892455924), (1612, 0.0912870929175277), (1613, 0.10540925533894598), (1614, 0.0), (1615, 0.2), (1616, 0.10540925533894598), (1617, 0.0912870929175277), (1618, 0.19069251784911848), (1619, 0.0), (1620, 0.0), (1621, 0.0), (1622, 0.09534625892455924), (1623, 0.11180339887498948), (1624, 0.10540925533894598), (1625, 0.2), (1626, 0.19069251784911848), (1627, 0.1), (1628, 0.10540925533894598), (1629, 0.11180339887498948), (1630, 0.0), (1631, 0.11180339887498948), (1632, 0.1), (1633, 0.1), (1634, 0.0), (1635, 0.2860387767736777), (1636, 0.1), (1637, 0.1), (1638, 0.1), (1639, 0.09534625892455924), (1640, 0.11180339887498948), (1641, 0.11180339887498948), (1642, 0.0), (1643, 0.0), (1644, 0.1825741858350554), (1645, 0.1), (1646, 0.0), (1647, 0.0912870929175277), (1648, 0.0), (1649, 0.1), (1650, 0.10540925533894598), (1651, 0.10540925533894598), (1652, 0.09534625892455924), (1653, 0.19069251784911848), (1654, 0.1), (1655, 0.0), (1656, 0.0), (1657, 0.11180339887498948), (1658, 0.0), (1659, 0.1), (1660, 0.2), (1661, 0.30000000000000004), (1662, 0.0), (1663, 0.21081851067789195), (1664, 0.2), (1665, 0.10540925533894598), (1666, 0.2), (1667, 0.22360679774997896), (1668, 0.1), (1669, 0.2), (1670, 0.1), (1671, 0.19069251784911848), (1672, 0.1825741858350554), (1673, 0.0), (1674, 0.2), (1675, 0.21081851067789195), (1676, 0.0), (1677, 0.10540925533894598), (1678, 0.12909944487358058), (1679, 0.11180339887498948), (1680, 0.0), (1681, 0.10540925533894598), (1682, 0.0), (1683, 0.0), (1684, 0.1), (1685, 0.0), (1686, 0.1), (1687, 0.10540925533894598), (1688, 0.2), (1689, 0.0), (1690, 0.0), (1691, 0.11180339887498948), (1692, 0.11952286093343936), (1693, 0.1), (1694, 0.1), (1695, 0.0), (1696, 0.10540925533894598), (1697, 0.10540925533894598), (1698, 0.0), (1699, 0.1), (1700, 0.10540925533894598), (1701, 0.11952286093343936), (1702, 0.10540925533894598), (1703, 0.0), (1704, 0.21081851067789195), (1705, 0.1), (1706, 0.1), (1707, 0.1), (1708, 0.0), (1709, 0.0), (1710, 0.10540925533894598), (1711, 0.0), (1712, 0.0), (1713, 0.1), (1714, 0.0), (1715, 0.08770580193070293), (1716, 0.0), (1717, 0.0), (1718, 0.0), (1719, 0.0), (1720, 0.2860387767736777), (1721, 0.0912870929175277), (1722, 0.0), (1723, 0.0), (1724, 0.10540925533894598), (1725, 0.1), (1726, 0.0), (1727, 0.2), (1728, 0.2), (1729, 0.0), (1730, 0.0), (1731, 0.1), (1732, 0.11180339887498948), (1733, 0.11180339887498948), (1734, 0.0), (1735, 0.1), (1736, 0.10540925533894598), (1737, 0.0), (1738, 0.11180339887498948), (1739, 0.1), (1740, 0.27386127875258315), (1741, 0.1414213562373095), (1742, 0.30000000000000004), (1743, 0.1), (1744, 0.1), (1745, 0.11180339887498948), (1746, 0.11180339887498948), (1747, 0.1), (1748, 0.10540925533894598), (1749, 0.10540925533894598), (1750, 0.1), (1751, 0.1), (1752, 0.1), (1753, 0.1), (1754, 0.1), (1755, 0.0), (1756, 0.1), (1757, 0.1), (1758, 0.2), (1759, 0.10540925533894598), (1760, 0.1), (1761, 0.1), (1762, 0.0), (1763, 0.1), (1764, 0.0), (1765, 0.30000000000000004), (1766, 0.0), (1767, 0.11180339887498948), (1768, 0.11180339887498948), (1769, 0.1), (1770, 0.0), (1771, 0.09534625892455924), (1772, 0.11952286093343936), (1773, 0.1), (1774, 0.10540925533894598), (1775, 0.25819888974716115), (1776, 0.1), (1777, 0.1), (1778, 0.0), (1779, 0.0), (1780, 0.0), (1781, 0.2), (1782, 0.11180339887498948), (1783, 0.10540925533894598), (1784, 0.1), (1785, 0.0), (1786, 0.1), (1787, 0.2), (1788, 0.0), (1789, 0.0), (1790, 0.1), (1791, 0.0), (1792, 0.27386127875258315), (1793, 0.1), (1794, 0.0), (1795, 0.30000000000000004), (1796, 0.09534625892455924), (1797, 0.0), (1798, 0.0), (1799, 0.1), (1800, 0.1), (1801, 0.0), (1802, 0.1), (1803, 0.2), (1804, 0.0), (1805, 0.09534625892455924), (1806, 0.0), (1807, 0.0), (1808, 0.0), (1809, 0.1), (1810, 0.11180339887498948), (1811, 0.1), (1812, 0.11180339887498948), (1813, 0.1), (1814, 0.10540925533894598), (1815, 0.10540925533894598), (1816, 0.11952286093343936), (1817, 0.2), (1818, 0.1), (1819, 0.11180339887498948), (1820, 0.10540925533894598), (1821, 0.0), (1822, 0.0), (1823, 0.0), (1824, 0.11952286093343936), (1825, 0.09534625892455924), (1826, 0.1), (1827, 0.2), (1828, 0.2), (1829, 0.2), (1830, 0.09534625892455924), (1831, 0.1), (1832, 0.1), (1833, 0.0), (1834, 0.0), (1835, 0.0), (1836, 0.19069251784911848), (1837, 0.19069251784911848), (1838, 0.0), (1839, 0.0), (1840, 0.10540925533894598), (1841, 0.1), (1842, 0.11180339887498948), (1843, 0.10540925533894598), (1844, 0.2), (1845, 0.0), (1846, 0.0), (1847, 0.21081851067789195), (1848, 0.11180339887498948), (1849, 0.0), (1850, 0.30000000000000004), (1851, 0.09534625892455924), (1852, 0.1), (1853, 0.2), (1854, 0.1), (1855, 0.1), (1856, 0.0), (1857, 0.0), (1858, 0.1), (1859, 0.10540925533894598), (1860, 0.2), (1861, 0.0), (1862, 0.0), (1863, 0.11180339887498948), (1864, 0.10540925533894598), (1865, 0.0), (1866, 0.0), (1867, 0.1), (1868, 0.30000000000000004), (1869, 0.11180339887498948), (1870, 0.1), (1871, 0.0), (1872, 0.09534625892455924), (1873, 0.23904572186687872), (1874, 0.11180339887498948), (1875, 0.10540925533894598), (1876, 0.0), (1877, 0.2), (1878, 0.1), (1879, 0.0), (1880, 0.1), (1881, 0.21081851067789195), (1882, 0.0), (1883, 0.0), (1884, 0.2), (1885, 0.10540925533894598), (1886, 0.1), (1887, 0.0), (1888, 0.1), (1889, 0.11180339887498948), (1890, 0.1), (1891, 0.1), (1892, 0.2), (1893, 0.0), (1894, 0.19069251784911848), (1895, 0.1), (1896, 0.0), (1897, 0.2), (1898, 0.0), (1899, 0.10540925533894598), (1900, 0.0), (1901, 0.11952286093343936), (1902, 0.0), (1903, 0.10540925533894598), (1904, 0.0), (1905, 0.1), (1906, 0.0), (1907, 0.08451542547285167), (1908, 0.2), (1909, 0.10540925533894598), (1910, 0.10540925533894598), (1911, 0.0), (1912, 0.10540925533894598), (1913, 0.11952286093343936), (1914, 0.0), (1915, 0.1825741858350554), (1916, 0.11180339887498948), (1917, 0.10540925533894598), (1918, 0.1), (1919, 0.0), (1920, 0.2), (1921, 0.10540925533894598), (1922, 0.09534625892455924), (1923, 0.1), (1924, 0.1), (1925, 0.10540925533894598), (1926, 0.0), (1927, 0.1), (1928, 0.10540925533894598), (1929, 0.10540925533894598), (1930, 0.19069251784911848), (1931, 0.09534625892455924), (1932, 0.0912870929175277), (1933, 0.10540925533894598), (1934, 0.0), (1935, 0.10540925533894598), (1936, 0.1), (1937, 0.21081851067789195), (1938, 0.1), (1939, 0.1), (1940, 0.10540925533894598), (1941, 0.1), (1942, 0.0), (1943, 0.11180339887498948), (1944, 0.1), (1945, 0.2), (1946, 0.21081851067789195), (1947, 0.0), (1948, 0.10540925533894598), (1949, 0.11952286093343936), (1950, 0.0), (1951, 0.0), (1952, 0.2), (1953, 0.1), (1954, 0.2), (1955, 0.2), (1956, 0.10540925533894598), (1957, 0.10540925533894598), (1958, 0.10540925533894598), (1959, 0.0), (1960, 0.1), (1961, 0.0), (1962, 0.22360679774997896), (1963, 0.0), (1964, 0.10540925533894598), (1965, 0.1), (1966, 0.0), (1967, 0.10540925533894598), (1968, 0.0), (1969, 0.0912870929175277), (1970, 0.0), (1971, 0.1), (1972, 0.0), (1973, 0.2), (1974, 0.11180339887498948), (1975, 0.0), (1976, 0.0), (1977, 0.0), (1978, 0.21081851067789195), (1979, 0.11952286093343936), (1980, 0.0), (1981, 0.0), (1982, 0.09534625892455924), (1983, 0.0), (1984, 0.0), (1985, 0.10540925533894598), (1986, 0.33541019662496846), (1987, 0.0), (1988, 0.0), (1989, 0.0), (1990, 0.1), (1991, 0.2), (1992, 0.10540925533894598), (1993, 0.0), (1994, 0.1), (1995, 0.1), (1996, 0.0), (1997, 0.1), (1998, 0.1), (1999, 0.0), (2000, 0.11180339887498948), (2001, 0.12909944487358058), (2002, 0.10540925533894598), (2003, 0.0), (2004, 0.11180339887498948), (2005, 0.12909944487358058), (2006, 0.11180339887498948), (2007, 0.10540925533894598), (2008, 0.1), (2009, 0.11180339887498948), (2010, 0.12909944487358058), (2011, 0.11952286093343936), (2012, 0.10540925533894598), (2013, 0.1825741858350554), (2014, 0.0), (2015, 0.0), (2016, 0.09534625892455924), (2017, 0.1), (2018, 0.0), (2019, 0.1), (2020, 0.10540925533894598), (2021, 0.0), (2022, 0.09534625892455924), (2023, 0.1), (2024, 0.10540925533894598), (2025, 0.11180339887498948), (2026, 0.2), (2027, 0.11180339887498948), (2028, 0.11952286093343936), (2029, 0.09534625892455924), (2030, 0.10540925533894598), (2031, 0.2), (2032, 0.10540925533894598), (2033, 0.0), (2034, 0.0), (2035, 0.0), (2036, 0.1), (2037, 0.0), (2038, 0.2), (2039, 0.0), (2040, 0.10540925533894598), (2041, 0.1), (2042, 0.0), (2043, 0.1), (2044, 0.0), (2045, 0.0), (2046, 0.2), (2047, 0.10540925533894598), (2048, 0.10540925533894598), (2049, 0.0), (2050, 0.2), (2051, 0.10540925533894598), (2052, 0.1), (2053, 0.1), (2054, 0.0912870929175277), (2055, 0.2), (2056, 0.0), (2057, 0.1), (2058, 0.11952286093343936), (2059, 0.11180339887498948), (2060, 0.30000000000000004), (2061, 0.2), (2062, 0.1), (2063, 0.2), (2064, 0.0), (2065, 0.0), (2066, 0.0912870929175277), (2067, 0.0), (2068, 0.10540925533894598), (2069, 0.1), (2070, 0.0), (2071, 0.09534625892455924), (2072, 0.21081851067789195), (2073, 0.11180339887498948), (2074, 0.2), (2075, 0.21081851067789195), (2076, 0.0), (2077, 0.1), (2078, 0.10540925533894598), (2079, 0.12909944487358058), (2080, 0.2), (2081, 0.11952286093343936), (2082, 0.10540925533894598), (2083, 0.0), (2084, 0.1), (2085, 0.10540925533894598), (2086, 0.0), (2087, 0.10540925533894598), (2088, 0.0), (2089, 0.2), (2090, 0.0), (2091, 0.2), (2092, 0.0), (2093, 0.1), (2094, 0.0), (2095, 0.0), (2096, 0.0), (2097, 0.0), (2098, 0.0), (2099, 0.0), (2100, 0.1), (2101, 0.0), (2102, 0.1), (2103, 0.1), (2104, 0.1), (2105, 0.10540925533894598), (2106, 0.1), (2107, 0.0), (2108, 0.1), (2109, 0.10540925533894598), (2110, 0.21081851067789195), (2111, 0.2), (2112, 0.0), (2113, 0.0), (2114, 0.0), (2115, 0.10540925533894598), (2116, 0.0), (2117, 0.09534625892455924), (2118, 0.1), (2119, 0.0), (2120, 0.0), (2121, 0.1), (2122, 0.11952286093343936), (2123, 0.1), (2124, 0.19069251784911848), (2125, 0.0), (2126, 0.1), (2127, 0.0), (2128, 0.1), (2129, 0.0), (2130, 0.2), (2131, 0.11180339887498948), (2132, 0.0), (2133, 0.11180339887498948), (2134, 0.10540925533894598), (2135, 0.10540925533894598), (2136, 0.0), (2137, 0.0), (2138, 0.10540925533894598), (2139, 0.0), (2140, 0.21081851067789195), (2141, 0.10540925533894598), (2142, 0.11180339887498948), (2143, 0.0), (2144, 0.0), (2145, 0.2), (2146, 0.0), (2147, 0.10540925533894598), (2148, 0.1), (2149, 0.0), (2150, 0.1), (2151, 0.2), (2152, 0.1), (2153, 0.0), (2154, 0.31622776601683794), (2155, 0.1), (2156, 0.2), (2157, 0.1), (2158, 0.0), (2159, 0.0), (2160, 0.0), (2161, 0.10540925533894598), (2162, 0.0), (2163, 0.1), (2164, 0.10540925533894598), (2165, 0.0), (2166, 0.1), (2167, 0.1), (2168, 0.19069251784911848), (2169, 0.2), (2170, 0.1), (2171, 0.0), (2172, 0.11952286093343936), (2173, 0.1), (2174, 0.0), (2175, 0.1), (2176, 0.11180339887498948), (2177, 0.10540925533894598), (2178, 0.10540925533894598), (2179, 0.1), (2180, 0.0), (2181, 0.1), (2182, 0.0), (2183, 0.1), (2184, 0.1825741858350554), (2185, 0.0), (2186, 0.11180339887498948), (2187, 0.2), (2188, 0.22360679774997896), (2189, 0.0), (2190, 0.1), (2191, 0.0), (2192, 0.10540925533894598), (2193, 0.21081851067789195), (2194, 0.10540925533894598), (2195, 0.30000000000000004), (2196, 0.1), (2197, 0.0), (2198, 0.09534625892455924), (2199, 0.0), (2200, 0.2), (2201, 0.09534625892455924), (2202, 0.1), (2203, 0.2860387767736777), (2204, 0.21081851067789195), (2205, 0.22360679774997896), (2206, 0.0), (2207, 0.2), (2208, 0.09534625892455924), (2209, 0.09534625892455924), (2210, 0.10540925533894598), (2211, 0.10540925533894598), (2212, 0.10540925533894598), (2213, 0.0912870929175277), (2214, 0.0), (2215, 0.11180339887498948), (2216, 0.2), (2217, 0.0), (2218, 0.30000000000000004), (2219, 0.11180339887498948), (2220, 0.0), (2221, 0.19069251784911848), (2222, 0.23904572186687872), (2223, 0.0), (2224, 0.1), (2225, 0.1), (2226, 0.0), (2227, 0.11180339887498948), (2228, 0.10540925533894598), (2229, 0.2), (2230, 0.0), (2231, 0.0), (2232, 0.1), (2233, 0.09534625892455924), (2234, 0.10540925533894598), (2235, 0.0), (2236, 0.11180339887498948), (2237, 0.1), (2238, 0.1), (2239, 0.1), (2240, 0.2), (2241, 0.0912870929175277), (2242, 0.12909944487358058), (2243, 0.10540925533894598), (2244, 0.10540925533894598), (2245, 0.10540925533894598), (2246, 0.10540925533894598), (2247, 0.0), (2248, 0.11180339887498948), (2249, 0.0), (2250, 0.2), (2251, 0.11180339887498948), (2252, 0.0), (2253, 0.2), (2254, 0.10540925533894598), (2255, 0.2), (2256, 0.0), (2257, 0.09534625892455924), (2258, 0.0), (2259, 0.12909944487358058), (2260, 0.1), (2261, 0.0), (2262, 0.0912870929175277), (2263, 0.0), (2264, 0.1), (2265, 0.1), (2266, 0.10540925533894598), (2267, 0.0), (2268, 0.21081851067789195), (2269, 0.19069251784911848), (2270, 0.0), (2271, 0.10540925533894598), (2272, 0.0), (2273, 0.1414213562373095), (2274, 0.0), (2275, 0.10540925533894598), (2276, 0.10540925533894598), (2277, 0.30000000000000004), (2278, 0.0912870929175277), (2279, 0.0), (2280, 0.2), (2281, 0.0), (2282, 0.1), (2283, 0.0), (2284, 0.0), (2285, 0.09534625892455924), (2286, 0.0), (2287, 0.09534625892455924), (2288, 0.2), (2289, 0.1), (2290, 0.0), (2291, 0.2), (2292, 0.11952286093343936), (2293, 0.1), (2294, 0.0), (2295, 0.2), (2296, 0.2), (2297, 0.11180339887498948), (2298, 0.0), (2299, 0.0), (2300, 0.11180339887498948), (2301, 0.1), (2302, 0.12909944487358058), (2303, 0.0), (2304, 0.1), (2305, 0.11180339887498948), (2306, 0.1), (2307, 0.19069251784911848), (2308, 0.0), (2309, 0.12909944487358058), (2310, 0.1), (2311, 0.0), (2312, 0.0), (2313, 0.1), (2314, 0.1), (2315, 0.0), (2316, 0.0), (2317, 0.10540925533894598), (2318, 0.2), (2319, 0.0), (2320, 0.1), (2321, 0.10540925533894598), (2322, 0.11952286093343936), (2323, 0.2), (2324, 0.1), (2325, 0.0), (2326, 0.0), (2327, 0.1), (2328, 0.1), (2329, 0.10540925533894598), (2330, 0.0), (2331, 0.1), (2332, 0.1), (2333, 0.10540925533894598), (2334, 0.10540925533894598), (2335, 0.10540925533894598), (2336, 0.2), (2337, 0.0), (2338, 0.10540925533894598), (2339, 0.0), (2340, 0.21081851067789195), (2341, 0.1), (2342, 0.2), (2343, 0.1), (2344, 0.11180339887498948), (2345, 0.10540925533894598), (2346, 0.2), (2347, 0.10540925533894598), (2348, 0.0912870929175277), (2349, 0.1825741858350554), (2350, 0.10540925533894598), (2351, 0.0), (2352, 0.11180339887498948), (2353, 0.11180339887498948), (2354, 0.10540925533894598), (2355, 0.0), (2356, 0.1), (2357, 0.09534625892455924), (2358, 0.10540925533894598), (2359, 0.1), (2360, 0.25819888974716115), (2361, 0.11180339887498948), (2362, 0.1), (2363, 0.0), (2364, 0.11952286093343936), (2365, 0.1), (2366, 0.0), (2367, 0.11952286093343936), (2368, 0.1), (2369, 0.11952286093343936), (2370, 0.0), (2371, 0.2), (2372, 0.1), (2373, 0.1), (2374, 0.10540925533894598), (2375, 0.1), (2376, 0.0), (2377, 0.10540925533894598), (2378, 0.2), (2379, 0.0), (2380, 0.0), (2381, 0.09534625892455924), (2382, 0.0), (2383, 0.11180339887498948), (2384, 0.2), (2385, 0.12909944487358058), (2386, 0.2), (2387, 0.0), (2388, 0.30000000000000004), (2389, 0.1), (2390, 0.1), (2391, 0.0), (2392, 0.0), (2393, 0.2), (2394, 0.10540925533894598), (2395, 0.09534625892455924), (2396, 0.0), (2397, 0.1), (2398, 0.30000000000000004), (2399, 0.10540925533894598), (2400, 0.10540925533894598), (2401, 0.0), (2402, 0.1), (2403, 0.1), (2404, 0.1), (2405, 0.0), (2406, 0.0), (2407, 0.1), (2408, 0.0), (2409, 0.0), (2410, 0.0), (2411, 0.0), (2412, 0.19069251784911848), (2413, 0.10540925533894598), (2414, 0.0), (2415, 0.0), (2416, 0.09534625892455924), (2417, 0.0), (2418, 0.0), (2419, 0.11180339887498948), (2420, 0.0), (2421, 0.15811388300841897), (2422, 0.0), (2423, 0.1), (2424, 0.2), (2425, 0.0), (2426, 0.0), (2427, 0.0), (2428, 0.2), (2429, 0.2), (2430, 0.0), (2431, 0.0), (2432, 0.1), (2433, 0.19069251784911848), (2434, 0.11180339887498948), (2435, 0.30000000000000004), (2436, 0.12909944487358058), (2437, 0.0), (2438, 0.1), (2439, 0.0), (2440, 0.2), (2441, 0.0), (2442, 0.1), (2443, 0.0), (2444, 0.0912870929175277), (2445, 0.0), (2446, 0.1), (2447, 0.1), (2448, 0.21081851067789195), (2449, 0.10540925533894598), (2450, 0.10540925533894598), (2451, 0.0), (2452, 0.11180339887498948), (2453, 0.11180339887498948), (2454, 0.0), (2455, 0.1), (2456, 0.11180339887498948), (2457, 0.0), (2458, 0.1), (2459, 0.1), (2460, 0.11180339887498948), (2461, 0.1), (2462, 0.0), (2463, 0.10540925533894598), (2464, 0.0), (2465, 0.1), (2466, 0.11180339887498948), (2467, 0.19069251784911848), (2468, 0.09534625892455924), (2469, 0.0), (2470, 0.19069251784911848), (2471, 0.2), (2472, 0.1), (2473, 0.10540925533894598), (2474, 0.22360679774997896), (2475, 0.1), (2476, 0.11180339887498948), (2477, 0.0), (2478, 0.1), (2479, 0.09534625892455924), (2480, 0.10540925533894598), (2481, 0.11180339887498948), (2482, 0.0), (2483, 0.11180339887498948), (2484, 0.0), (2485, 0.10540925533894598), (2486, 0.1), (2487, 0.11180339887498948), (2488, 0.09534625892455924), (2489, 0.0), (2490, 0.1), (2491, 0.11180339887498948), (2492, 0.19069251784911848), (2493, 0.10540925533894598), (2494, 0.11952286093343936), (2495, 0.2), (2496, 0.0), (2497, 0.0), (2498, 0.11180339887498948), (2499, 0.10540925533894598), (2500, 0.0), (2501, 0.10540925533894598), (2502, 0.23904572186687872), (2503, 0.09534625892455924), (2504, 0.0912870929175277), (2505, 0.11180339887498948), (2506, 0.21081851067789195), (2507, 0.23904572186687872), (2508, 0.2), (2509, 0.0), (2510, 0.2), (2511, 0.0), (2512, 0.1), (2513, 0.0), (2514, 0.1), (2515, 0.19069251784911848), (2516, 0.11180339887498948), (2517, 0.10540925533894598), (2518, 0.0), (2519, 0.11952286093343936), (2520, 0.11180339887498948), (2521, 0.16903085094570333), (2522, 0.1), (2523, 0.0), (2524, 0.10540925533894598), (2525, 0.0), (2526, 0.0), (2527, 0.0), (2528, 0.0), (2529, 0.11180339887498948), (2530, 0.0), (2531, 0.11180339887498948), (2532, 0.10540925533894598), (2533, 0.1), (2534, 0.0), (2535, 0.0), (2536, 0.10540925533894598), (2537, 0.10540925533894598), (2538, 0.0), (2539, 0.11180339887498948), (2540, 0.0), (2541, 0.0), (2542, 0.10540925533894598), (2543, 0.30000000000000004), (2544, 0.0), (2545, 0.2), (2546, 0.2), (2547, 0.10540925533894598), (2548, 0.11180339887498948), (2549, 0.1), (2550, 0.09534625892455924), (2551, 0.0), (2552, 0.10540925533894598), (2553, 0.1), (2554, 0.0), (2555, 0.0), (2556, 0.0), (2557, 0.11180339887498948), (2558, 0.2), (2559, 0.0), (2560, 0.1), (2561, 0.0), (2562, 0.11180339887498948), (2563, 0.11952286093343936), (2564, 0.1825741858350554), (2565, 0.1), (2566, 0.0), (2567, 0.0), (2568, 0.1), (2569, 0.2), (2570, 0.0), (2571, 0.10540925533894598), (2572, 0.10540925533894598), (2573, 0.19069251784911848), (2574, 0.12909944487358058), (2575, 0.0), (2576, 0.0), (2577, 0.11952286093343936), (2578, 0.2), (2579, 0.1), (2580, 0.10540925533894598), (2581, 0.0), (2582, 0.21081851067789195), (2583, 0.2), (2584, 0.1), (2585, 0.1), (2586, 0.1), (2587, 0.10540925533894598), (2588, 0.0), (2589, 0.0), (2590, 0.0), (2591, 0.0), (2592, 0.1), (2593, 0.2), (2594, 0.10540925533894598), (2595, 0.11180339887498948), (2596, 0.10540925533894598), (2597, 0.10540925533894598), (2598, 0.0), (2599, 0.10540925533894598), (2600, 0.1), (2601, 0.0), (2602, 0.11180339887498948), (2603, 0.09534625892455924), (2604, 0.0), (2605, 0.0), (2606, 0.08770580193070293), (2607, 0.10540925533894598), (2608, 0.10540925533894598), (2609, 0.30000000000000004), (2610, 0.10540925533894598), (2611, 0.11180339887498948), (2612, 0.0), (2613, 0.1), (2614, 0.11952286093343936), (2615, 0.10540925533894598), (2616, 0.2), (2617, 0.0), (2618, 0.0), (2619, 0.0), (2620, 0.11180339887498948), (2621, 0.0), (2622, 0.0), (2623, 0.17541160386140586), (2624, 0.0912870929175277), (2625, 0.2), (2626, 0.0), (2627, 0.1), (2628, 0.1), (2629, 0.11952286093343936), (2630, 0.1), (2631, 0.11952286093343936), (2632, 0.1), (2633, 0.10540925533894598), (2634, 0.12909944487358058), (2635, 0.1), (2636, 0.1), (2637, 0.11952286093343936), (2638, 0.10540925533894598), (2639, 0.09534625892455924), (2640, 0.21081851067789195), (2641, 0.19069251784911848), (2642, 0.1), (2643, 0.1), (2644, 0.1), (2645, 0.2), (2646, 0.23904572186687872), (2647, 0.2), (2648, 0.11952286093343936), (2649, 0.23904572186687872), (2650, 0.21081851067789195), (2651, 0.1), (2652, 0.10540925533894598), (2653, 0.0), (2654, 0.0), (2655, 0.09534625892455924), (2656, 0.11952286093343936), (2657, 0.19069251784911848), (2658, 0.12909944487358058), (2659, 0.1), (2660, 0.1), (2661, 0.10540925533894598), (2662, 0.11952286093343936), (2663, 0.11180339887498948), (2664, 0.0), (2665, 0.11180339887498948), (2666, 0.10540925533894598), (2667, 0.1), (2668, 0.0), (2669, 0.0), (2670, 0.11180339887498948), (2671, 0.1), (2672, 0.0), (2673, 0.0), (2674, 0.1), (2675, 0.1), (2676, 0.0), (2677, 0.0912870929175277), (2678, 0.2), (2679, 0.0), (2680, 0.10540925533894598), (2681, 0.10540925533894598), (2682, 0.10540925533894598), (2683, 0.1), (2684, 0.0), (2685, 0.0), (2686, 0.0), (2687, 0.0), (2688, 0.0), (2689, 0.0), (2690, 0.0), (2691, 0.1), (2692, 0.0), (2693, 0.1), (2694, 0.10540925533894598), (2695, 0.0), (2696, 0.0), (2697, 0.10540925533894598), (2698, 0.0), (2699, 0.0), (2700, 0.1), (2701, 0.10540925533894598), (2702, 0.1), (2703, 0.10540925533894598), (2704, 0.2), (2705, 0.0), (2706, 0.10540925533894598), (2707, 0.0), (2708, 0.22360679774997896), (2709, 0.11952286093343936), (2710, 0.10540925533894598), (2711, 0.1), (2712, 0.09534625892455924), (2713, 0.1), (2714, 0.11180339887498948), (2715, 0.0), (2716, 0.10540925533894598), (2717, 0.10540925533894598), (2718, 0.1), (2719, 0.10540925533894598), (2720, 0.0), (2721, 0.11180339887498948), (2722, 0.10540925533894598), (2723, 0.10540925533894598), (2724, 0.1), (2725, 0.11180339887498948), (2726, 0.1), (2727, 0.1), (2728, 0.11180339887498948), (2729, 0.0), (2730, 0.10540925533894598), (2731, 0.2), (2732, 0.1), (2733, 0.0), (2734, 0.11180339887498948), (2735, 0.0), (2736, 0.2), (2737, 0.0), (2738, 0.0), (2739, 0.09534625892455924), (2740, 0.0), (2741, 0.0), (2742, 0.09534625892455924), (2743, 0.0), (2744, 0.0), (2745, 0.1825741858350554), (2746, 0.0), (2747, 0.09534625892455924), (2748, 0.0912870929175277), (2749, 0.10540925533894598), (2750, 0.1), (2751, 0.0), (2752, 0.10540925533894598), (2753, 0.1), (2754, 0.0), (2755, 0.0), (2756, 0.10540925533894598), (2757, 0.2), (2758, 0.1), (2759, 0.0), (2760, 0.10540925533894598), (2761, 0.0), (2762, 0.1), (2763, 0.0), (2764, 0.12909944487358058), (2765, 0.10540925533894598), (2766, 0.1), (2767, 0.1), (2768, 0.0), (2769, 0.10540925533894598), (2770, 0.11952286093343936), (2771, 0.10540925533894598), (2772, 0.10540925533894598), (2773, 0.1), (2774, 0.19069251784911848), (2775, 0.2), (2776, 0.10540925533894598), (2777, 0.11180339887498948), (2778, 0.11180339887498948), (2779, 0.11952286093343936), (2780, 0.0), (2781, 0.1), (2782, 0.1), (2783, 0.10540925533894598), (2784, 0.08451542547285167), (2785, 0.11180339887498948), (2786, 0.1), (2787, 0.1), (2788, 0.11180339887498948), (2789, 0.12909944487358058), (2790, 0.2), (2791, 0.0), (2792, 0.2), (2793, 0.31622776601683794), (2794, 0.1), (2795, 0.0), (2796, 0.1), (2797, 0.1), (2798, 0.10540925533894598), (2799, 0.2), (2800, 0.10540925533894598), (2801, 0.21081851067789195), (2802, 0.1), (2803, 0.1), (2804, 0.2), (2805, 0.0), (2806, 0.17541160386140586), (2807, 0.10540925533894598), (2808, 0.1), (2809, 0.0), (2810, 0.0), (2811, 0.09534625892455924), (2812, 0.1), (2813, 0.0), (2814, 0.10540925533894598), (2815, 0.1), (2816, 0.0), (2817, 0.0), (2818, 0.2), (2819, 0.1), (2820, 0.1), (2821, 0.0), (2822, 0.09534625892455924), (2823, 0.10540925533894598), (2824, 0.09534625892455924), (2825, 0.08451542547285167), (2826, 0.0), (2827, 0.1), (2828, 0.10540925533894598), (2829, 0.0912870929175277), (2830, 0.0), (2831, 0.0), (2832, 0.1), (2833, 0.0), (2834, 0.0), (2835, 0.1), (2836, 0.1), (2837, 0.0), (2838, 0.10540925533894598), (2839, 0.21081851067789195), (2840, 0.09534625892455924), (2841, 0.0), (2842, 0.0), (2843, 0.11180339887498948), (2844, 0.10540925533894598), (2845, 0.09534625892455924), (2846, 0.0), (2847, 0.1), (2848, 0.0), (2849, 0.10540925533894598), (2850, 0.0), (2851, 0.0), (2852, 0.10540925533894598), (2853, 0.2), (2854, 0.0), (2855, 0.1), (2856, 0.11180339887498948), (2857, 0.11180339887498948), (2858, 0.2), (2859, 0.10540925533894598), (2860, 0.2), (2861, 0.0), (2862, 0.1), (2863, 0.2), (2864, 0.11180339887498948), (2865, 0.0), (2866, 0.11180339887498948), (2867, 0.12909944487358058), (2868, 0.1), (2869, 0.11952286093343936), (2870, 0.10540925533894598), (2871, 0.10540925533894598), (2872, 0.0), (2873, 0.0), (2874, 0.0), (2875, 0.10540925533894598), (2876, 0.21081851067789195), (2877, 0.0816496580927726), (2878, 0.11952286093343936), (2879, 0.0), (2880, 0.10540925533894598), (2881, 0.10540925533894598), (2882, 0.11952286093343936), (2883, 0.10540925533894598), (2884, 0.08451542547285167), (2885, 0.19069251784911848), (2886, 0.1), (2887, 0.1), (2888, 0.1825741858350554), (2889, 0.0), (2890, 0.10540925533894598), (2891, 0.11180339887498948), (2892, 0.11952286093343936), (2893, 0.10540925533894598), (2894, 0.10540925533894598), (2895, 0.0), (2896, 0.11952286093343936), (2897, 0.0), (2898, 0.1), (2899, 0.11952286093343936), (2900, 0.0), (2901, 0.10540925533894598), (2902, 0.0), (2903, 0.11180339887498948), (2904, 0.11180339887498948), (2905, 0.10540925533894598), (2906, 0.1), (2907, 0.10540925533894598), (2908, 0.1414213562373095), (2909, 0.12909944487358058), (2910, 0.10540925533894598), (2911, 0.0), (2912, 0.1), (2913, 0.0), (2914, 0.1), (2915, 0.27386127875258315), (2916, 0.1), (2917, 0.21081851067789195), (2918, 0.1), (2919, 0.10540925533894598), (2920, 0.11180339887498948), (2921, 0.22360679774997896), (2922, 0.0), (2923, 0.0), (2924, 0.21081851067789195), (2925, 0.10540925533894598), (2926, 0.11180339887498948), (2927, 0.1), (2928, 0.0), (2929, 0.0), (2930, 0.0), (2931, 0.23904572186687872), (2932, 0.11952286093343936), (2933, 0.25819888974716115), (2934, 0.0), (2935, 0.10540925533894598), (2936, 0.09534625892455924), (2937, 0.0), (2938, 0.0), (2939, 0.1), (2940, 0.0), (2941, 0.1825741858350554), (2942, 0.11180339887498948), (2943, 0.10540925533894598), (2944, 0.0), (2945, 0.0), (2946, 0.10540925533894598), (2947, 0.10540925533894598), (2948, 0.2), (2949, 0.0), (2950, 0.1), (2951, 0.10540925533894598), (2952, 0.1), (2953, 0.09534625892455924), (2954, 0.10540925533894598), (2955, 0.0), (2956, 0.11952286093343936), (2957, 0.2), (2958, 0.1), (2959, 0.22360679774997896), (2960, 0.1), (2961, 0.19069251784911848), (2962, 0.11180339887498948), (2963, 0.11952286093343936), (2964, 0.0), (2965, 0.0), (2966, 0.0), (2967, 0.0), (2968, 0.1), (2969, 0.1), (2970, 0.12909944487358058), (2971, 0.11952286093343936), (2972, 0.23904572186687872), (2973, 0.11952286093343936), (2974, 0.0912870929175277), (2975, 0.11180339887498948), (2976, 0.12909944487358058), (2977, 0.1), (2978, 0.1), (2979, 0.0), (2980, 0.1), (2981, 0.0), (2982, 0.1), (2983, 0.1), (2984, 0.09534625892455924), (2985, 0.11180339887498948), (2986, 0.2), (2987, 0.0), (2988, 0.0), (2989, 0.0), (2990, 0.0), (2991, 0.0), (2992, 0.1), (2993, 0.10540925533894598), (2994, 0.0), (2995, 0.1), (2996, 0.09534625892455924), (2997, 0.0), (2998, 0.0), (2999, 0.0), (3000, 0.11180339887498948), (3001, 0.1), (3002, 0.0), (3003, 0.0), (3004, 0.0), (3005, 0.10540925533894598), (3006, 0.1), (3007, 0.10540925533894598), (3008, 0.17541160386140586), (3009, 0.10540925533894598), (3010, 0.0), (3011, 0.1), (3012, 0.2), (3013, 0.0), (3014, 0.0), (3015, 0.0), (3016, 0.11180339887498948), (3017, 0.0), (3018, 0.0), (3019, 0.1), (3020, 0.23904572186687872), (3021, 0.12909944487358058), (3022, 0.11180339887498948), (3023, 0.10540925533894598), (3024, 0.0), (3025, 0.11180339887498948), (3026, 0.1), (3027, 0.09534625892455924), (3028, 0.10540925533894598), (3029, 0.09534625892455924), (3030, 0.10540925533894598), (3031, 0.0), (3032, 0.0), (3033, 0.19069251784911848), (3034, 0.11180339887498948), (3035, 0.1825741858350554), (3036, 0.0), (3037, 0.0), (3038, 0.0), (3039, 0.11180339887498948), (3040, 0.2), (3041, 0.09534625892455924), (3042, 0.0), (3043, 0.21081851067789195), (3044, 0.0), (3045, 0.10540925533894598), (3046, 0.0), (3047, 0.11180339887498948), (3048, 0.1), (3049, 0.0), (3050, 0.1), (3051, 0.10540925533894598), (3052, 0.2), (3053, 0.0), (3054, 0.0), (3055, 0.1), (3056, 0.0), (3057, 0.1), (3058, 0.0), (3059, 0.11952286093343936), (3060, 0.10540925533894598), (3061, 0.11180339887498948), (3062, 0.30000000000000004), (3063, 0.0), (3064, 0.0), (3065, 0.0), (3066, 0.11952286093343936), (3067, 0.0), (3068, 0.2), (3069, 0.10540925533894598), (3070, 0.10540925533894598), (3071, 0.10540925533894598), (3072, 0.11180339887498948), (3073, 0.4), (3074, 0.30000000000000004), (3075, 0.11180339887498948), (3076, 0.12909944487358058), (3077, 0.11180339887498948), (3078, 0.12909944487358058), (3079, 0.0), (3080, 0.12909944487358058), (3081, 0.0), (3082, 0.0), (3083, 0.09534625892455924), (3084, 0.11180339887498948), (3085, 0.1), (3086, 0.1), (3087, 0.23904572186687872), (3088, 0.2), (3089, 0.12909944487358058), (3090, 0.1), (3091, 0.2), (3092, 0.11180339887498948), (3093, 0.2), (3094, 0.0), (3095, 0.1), (3096, 0.1), (3097, 0.0), (3098, 0.10540925533894598), (3099, 0.0912870929175277), (3100, 0.09534625892455924), (3101, 0.11952286093343936), (3102, 0.11180339887498948), (3103, 0.12909944487358058), (3104, 0.09534625892455924), (3105, 0.11180339887498948), (3106, 0.2), (3107, 0.0), (3108, 0.0), (3109, 0.09534625892455924), (3110, 0.11180339887498948), (3111, 0.10540925533894598), (3112, 0.25819888974716115), (3113, 0.11180339887498948), (3114, 0.0), (3115, 0.0), (3116, 0.11180339887498948), (3117, 0.0), (3118, 0.10540925533894598), (3119, 0.11952286093343936), (3120, 0.10540925533894598), (3121, 0.0), (3122, 0.0), (3123, 0.1), (3124, 0.1), (3125, 0.10540925533894598), (3126, 0.10540925533894598), (3127, 0.11952286093343936), (3128, 0.10540925533894598), (3129, 0.0), (3130, 0.10540925533894598), (3131, 0.1), (3132, 0.0), (3133, 0.1), (3134, 0.19069251784911848), (3135, 0.0), (3136, 0.08770580193070293), (3137, 0.0), (3138, 0.2), (3139, 0.0), (3140, 0.09534625892455924), (3141, 0.0), (3142, 0.11180339887498948), (3143, 0.1), (3144, 0.23904572186687872), (3145, 0.1), (3146, 0.0), (3147, 0.0), (3148, 0.1), (3149, 0.10540925533894598), (3150, 0.0), (3151, 0.1), (3152, 0.10540925533894598), (3153, 0.1), (3154, 0.23904572186687872), (3155, 0.10540925533894598), (3156, 0.1), (3157, 0.11180339887498948), (3158, 0.1), (3159, 0.0), (3160, 0.10540925533894598), (3161, 0.10540925533894598), (3162, 0.1), (3163, 0.0), (3164, 0.11952286093343936), (3165, 0.2860387767736777), (3166, 0.11952286093343936), (3167, 0.0), (3168, 0.0), (3169, 0.0), (3170, 0.09534625892455924), (3171, 0.0), (3172, 0.22360679774997896), (3173, 0.2), (3174, 0.0), (3175, 0.0), (3176, 0.0), (3177, 0.0912870929175277), (3178, 0.11180339887498948), (3179, 0.0), (3180, 0.30000000000000004), (3181, 0.10540925533894598), (3182, 0.0), (3183, 0.09534625892455924), (3184, 0.09534625892455924), (3185, 0.1414213562373095), (3186, 0.11180339887498948), (3187, 0.0), (3188, 0.21081851067789195), (3189, 0.0), (3190, 0.0), (3191, 0.1), (3192, 0.0), (3193, 0.0), (3194, 0.12909944487358058), (3195, 0.11180339887498948), (3196, 0.1), (3197, 0.2), (3198, 0.0), (3199, 0.11952286093343936), (3200, 0.12909944487358058), (3201, 0.10540925533894598), (3202, 0.0), (3203, 0.0), (3204, 0.0), (3205, 0.11952286093343936), (3206, 0.12909944487358058), (3207, 0.11952286093343936), (3208, 0.1), (3209, 0.2), (3210, 0.0), (3211, 0.1), (3212, 0.1), (3213, 0.0), (3214, 0.0), (3215, 0.0), (3216, 0.0), (3217, 0.11180339887498948), (3218, 0.0), (3219, 0.1), (3220, 0.1), (3221, 0.16903085094570333), (3222, 0.10540925533894598), (3223, 0.11952286093343936), (3224, 0.22360679774997896), (3225, 0.11952286093343936), (3226, 0.11952286093343936), (3227, 0.1), (3228, 0.0), (3229, 0.1), (3230, 0.0), (3231, 0.2), (3232, 0.1), (3233, 0.0), (3234, 0.2), (3235, 0.0), (3236, 0.1), (3237, 0.0), (3238, 0.10540925533894598), (3239, 0.21081851067789195), (3240, 0.0), (3241, 0.10540925533894598), (3242, 0.21081851067789195), (3243, 0.0), (3244, 0.0912870929175277), (3245, 0.1), (3246, 0.0), (3247, 0.0), (3248, 0.0), (3249, 0.0), (3250, 0.0912870929175277), (3251, 0.09534625892455924), (3252, 0.0), (3253, 0.1), (3254, 0.11180339887498948), (3255, 0.10540925533894598), (3256, 0.0), (3257, 0.30000000000000004), (3258, 0.1), (3259, 0.2), (3260, 0.2), (3261, 0.11952286093343936), (3262, 0.09534625892455924), (3263, 0.0), (3264, 0.11952286093343936), (3265, 0.10540925533894598), (3266, 0.0), (3267, 0.0), (3268, 0.0), (3269, 0.11180339887498948), (3270, 0.10540925533894598), (3271, 0.1), (3272, 0.10540925533894598), (3273, 0.0), (3274, 0.09534625892455924), (3275, 0.2), (3276, 0.10540925533894598), (3277, 0.1), (3278, 0.11180339887498948), (3279, 0.1), (3280, 0.11952286093343936), (3281, 0.0), (3282, 0.0), (3283, 0.10540925533894598), (3284, 0.23904572186687872), (3285, 0.1), (3286, 0.0), (3287, 0.11952286093343936), (3288, 0.09534625892455924), (3289, 0.0912870929175277), (3290, 0.10540925533894598), (3291, 0.1), (3292, 0.12909944487358058), (3293, 0.30000000000000004), (3294, 0.2), (3295, 0.11180339887498948), (3296, 0.0), (3297, 0.2), (3298, 0.11180339887498948), (3299, 0.22360679774997896), (3300, 0.0), (3301, 0.1), (3302, 0.11952286093343936), (3303, 0.10540925533894598), (3304, 0.25819888974716115), (3305, 0.09534625892455924), (3306, 0.23904572186687872), (3307, 0.10540925533894598), (3308, 0.09534625892455924), (3309, 0.2), (3310, 0.11180339887498948), (3311, 0.10540925533894598), (3312, 0.0), (3313, 0.1), (3314, 0.11180339887498948), (3315, 0.10540925533894598), (3316, 0.30000000000000004), (3317, 0.0), (3318, 0.11952286093343936), (3319, 0.12909944487358058), (3320, 0.0), (3321, 0.10540925533894598), (3322, 0.23904572186687872), (3323, 0.1), (3324, 0.0), (3325, 0.10540925533894598), (3326, 0.3585685828003181), (3327, 0.0), (3328, 0.10540925533894598), (3329, 0.0), (3330, 0.10540925533894598), (3331, 0.0), (3332, 0.30000000000000004), (3333, 0.0), (3334, 0.1), (3335, 0.12909944487358058), (3336, 0.09534625892455924), (3337, 0.21081851067789195), (3338, 0.1), (3339, 0.09534625892455924), (3340, 0.10540925533894598), (3341, 0.10540925533894598), (3342, 0.0), (3343, 0.1), (3344, 0.1), (3345, 0.0), (3346, 0.0), (3347, 0.10540925533894598), (3348, 0.2), (3349, 0.2), (3350, 0.1), (3351, 0.1), (3352, 0.0912870929175277), (3353, 0.0), (3354, 0.0), (3355, 0.0), (3356, 0.0), (3357, 0.21081851067789195), (3358, 0.19069251784911848), (3359, 0.23904572186687872), (3360, 0.0), (3361, 0.11952286093343936), (3362, 0.10540925533894598), (3363, 0.11180339887498948), (3364, 0.0), (3365, 0.09534625892455924), (3366, 0.10540925533894598), (3367, 0.11180339887498948), (3368, 0.1), (3369, 0.1), (3370, 0.2), (3371, 0.0), (3372, 0.09534625892455924), (3373, 0.21081851067789195), (3374, 0.1), (3375, 0.11180339887498948), (3376, 0.10540925533894598), (3377, 0.12909944487358058), (3378, 0.21081851067789195), (3379, 0.11180339887498948), (3380, 0.1), (3381, 0.10540925533894598), (3382, 0.21081851067789195), (3383, 0.0), (3384, 0.1), (3385, 0.2), (3386, 0.0), (3387, 0.10540925533894598), (3388, 0.10540925533894598), (3389, 0.0), (3390, 0.10540925533894598), (3391, 0.2631174057921088), (3392, 0.10540925533894598), (3393, 0.11952286093343936), (3394, 0.10540925533894598), (3395, 0.0), (3396, 0.12909944487358058), (3397, 0.10540925533894598), (3398, 0.10540925533894598), (3399, 0.2), (3400, 0.11952286093343936), (3401, 0.0), (3402, 0.0), (3403, 0.0), (3404, 0.0), (3405, 0.0), (3406, 0.10540925533894598), (3407, 0.1), (3408, 0.10540925533894598), (3409, 0.2), (3410, 0.1), (3411, 0.10540925533894598), (3412, 0.23904572186687872), (3413, 0.0), (3414, 0.09534625892455924), (3415, 0.11180339887498948), (3416, 0.22360679774997896), (3417, 0.30000000000000004), (3418, 0.0), (3419, 0.10540925533894598), (3420, 0.21081851067789195), (3421, 0.10540925533894598), (3422, 0.10540925533894598), (3423, 0.1), (3424, 0.19069251784911848), (3425, 0.1), (3426, 0.1), (3427, 0.0), (3428, 0.0), (3429, 0.11180339887498948), (3430, 0.11180339887498948), (3431, 0.2), (3432, 0.1414213562373095), (3433, 0.10540925533894598), (3434, 0.10540925533894598), (3435, 0.1), (3436, 0.10540925533894598), (3437, 0.23904572186687872), (3438, 0.11180339887498948), (3439, 0.1), (3440, 0.1), (3441, 0.11180339887498948), (3442, 0.0), (3443, 0.0), (3444, 0.0), (3445, 0.21081851067789195), (3446, 0.0), (3447, 0.1), (3448, 0.0), (3449, 0.11180339887498948), (3450, 0.2), (3451, 0.0), (3452, 0.1), (3453, 0.11180339887498948), (3454, 0.2), (3455, 0.0), (3456, 0.0), (3457, 0.10540925533894598), (3458, 0.0), (3459, 0.0), (3460, 0.10540925533894598), (3461, 0.11180339887498948), (3462, 0.0), (3463, 0.2), (3464, 0.0), (3465, 0.1), (3466, 0.0912870929175277), (3467, 0.1), (3468, 0.11180339887498948), (3469, 0.0), (3470, 0.2), (3471, 0.0), (3472, 0.09534625892455924), (3473, 0.09534625892455924), (3474, 0.10540925533894598), (3475, 0.0), (3476, 0.10540925533894598), (3477, 0.1), (3478, 0.0), (3479, 0.10540925533894598), (3480, 0.21081851067789195), (3481, 0.0), (3482, 0.09534625892455924), (3483, 0.0), (3484, 0.0), (3485, 0.1414213562373095), (3486, 0.11952286093343936), (3487, 0.12909944487358058), (3488, 0.1), (3489, 0.10540925533894598), (3490, 0.0), (3491, 0.11180339887498948), (3492, 0.09534625892455924), (3493, 0.11952286093343936), (3494, 0.1), (3495, 0.11180339887498948), (3496, 0.11180339887498948), (3497, 0.12909944487358058), (3498, 0.10540925533894598), (3499, 0.10540925533894598), (3500, 0.12909944487358058), (3501, 0.11952286093343936), (3502, 0.0), (3503, 0.0), (3504, 0.2), (3505, 0.10540925533894598), (3506, 0.11180339887498948), (3507, 0.2), (3508, 0.11180339887498948), (3509, 0.12909944487358058), (3510, 0.11180339887498948), (3511, 0.0), (3512, 0.1), (3513, 0.11952286093343936), (3514, 0.10540925533894598), (3515, 0.0), (3516, 0.2), (3517, 0.12909944487358058), (3518, 0.30000000000000004), (3519, 0.0), (3520, 0.1), (3521, 0.12909944487358058), (3522, 0.19069251784911848), (3523, 0.11952286093343936), (3524, 0.0), (3525, 0.0), (3526, 0.2), (3527, 0.10540925533894598), (3528, 0.11952286093343936), (3529, 0.10540925533894598), (3530, 0.07905694150420949), (3531, 0.0), (3532, 0.10540925533894598), (3533, 0.1), (3534, 0.0), (3535, 0.11180339887498948), (3536, 0.0), (3537, 0.2), (3538, 0.10540925533894598), (3539, 0.11180339887498948), (3540, 0.10540925533894598), (3541, 0.2), (3542, 0.11180339887498948), (3543, 0.10540925533894598), (3544, 0.1414213562373095), (3545, 0.1), (3546, 0.0), (3547, 0.1), (3548, 0.1), (3549, 0.0), (3550, 0.11180339887498948), (3551, 0.11180339887498948), (3552, 0.1), (3553, 0.30000000000000004), (3554, 0.0), (3555, 0.0), (3556, 0.1), (3557, 0.0), (3558, 0.0), (3559, 0.0), (3560, 0.0), (3561, 0.0), (3562, 0.1), (3563, 0.0), (3564, 0.11952286093343936), (3565, 0.0), (3566, 0.0), (3567, 0.21081851067789195), (3568, 0.1), (3569, 0.0), (3570, 0.10540925533894598), (3571, 0.1), (3572, 0.0), (3573, 0.1), (3574, 0.0), (3575, 0.0), (3576, 0.09534625892455924), (3577, 0.10540925533894598), (3578, 0.0), (3579, 0.19069251784911848), (3580, 0.0), (3581, 0.1), (3582, 0.11180339887498948), (3583, 0.10540925533894598), (3584, 0.21081851067789195), (3585, 0.11180339887498948), (3586, 0.0), (3587, 0.10540925533894598), (3588, 0.11180339887498948), (3589, 0.11180339887498948), (3590, 0.11952286093343936), (3591, 0.23904572186687872), (3592, 0.0), (3593, 0.1), (3594, 0.21081851067789195), (3595, 0.0), (3596, 0.10540925533894598), (3597, 0.0), (3598, 0.12909944487358058), (3599, 0.09534625892455924), (3600, 0.0), (3601, 0.0), (3602, 0.10540925533894598), (3603, 0.30000000000000004), (3604, 0.0), (3605, 0.10540925533894598), (3606, 0.10540925533894598), (3607, 0.11180339887498948), (3608, 0.1), (3609, 0.0), (3610, 0.11952286093343936), (3611, 0.1), (3612, 0.0), (3613, 0.0), (3614, 0.10540925533894598), (3615, 0.19069251784911848), (3616, 0.2), (3617, 0.1), (3618, 0.1), (3619, 0.0), (3620, 0.0), (3621, 0.10540925533894598), (3622, 0.0), (3623, 0.10540925533894598), (3624, 0.10540925533894598), (3625, 0.0), (3626, 0.0), (3627, 0.11180339887498948), (3628, 0.10540925533894598), (3629, 0.10540925533894598), (3630, 0.0), (3631, 0.10540925533894598), (3632, 0.11952286093343936), (3633, 0.1), (3634, 0.09534625892455924), (3635, 0.2), (3636, 0.21081851067789195), (3637, 0.22360679774997896), (3638, 0.11180339887498948), (3639, 0.2), (3640, 0.1), (3641, 0.1), (3642, 0.10540925533894598), (3643, 0.2), (3644, 0.2), (3645, 0.1), (3646, 0.0), (3647, 0.1), (3648, 0.0), (3649, 0.11952286093343936), (3650, 0.2), (3651, 0.10540925533894598), (3652, 0.0), (3653, 0.0), (3654, 0.11180339887498948), (3655, 0.0), (3656, 0.0), (3657, 0.0), (3658, 0.1), (3659, 0.1), (3660, 0.0), (3661, 0.15811388300841897), (3662, 0.09534625892455924), (3663, 0.0), (3664, 0.0), (3665, 0.23904572186687872), (3666, 0.10540925533894598), (3667, 0.09534625892455924), (3668, 0.2), (3669, 0.11952286093343936), (3670, 0.0), (3671, 0.0), (3672, 0.10540925533894598), (3673, 0.10540925533894598), (3674, 0.12909944487358058), (3675, 0.1), (3676, 0.0), (3677, 0.0), (3678, 0.11180339887498948), (3679, 0.10540925533894598), (3680, 0.0), (3681, 0.10540925533894598), (3682, 0.0), (3683, 0.0), (3684, 0.0), (3685, 0.2), (3686, 0.12909944487358058), (3687, 0.0), (3688, 0.10540925533894598), (3689, 0.2), (3690, 0.1), (3691, 0.10540925533894598), (3692, 0.11180339887498948), (3693, 0.11180339887498948), (3694, 0.10540925533894598), (3695, 0.1), (3696, 0.1), (3697, 0.0), (3698, 0.10540925533894598), (3699, 0.21081851067789195), (3700, 0.19069251784911848), (3701, 0.21081851067789195), (3702, 0.0), (3703, 0.1), (3704, 0.11180339887498948), (3705, 0.0), (3706, 0.1), (3707, 0.11952286093343936), (3708, 0.11180339887498948), (3709, 0.2), (3710, 0.11180339887498948), (3711, 0.09534625892455924), (3712, 0.11180339887498948), (3713, 0.10540925533894598), (3714, 0.23904572186687872), (3715, 0.1), (3716, 0.21081851067789195), (3717, 0.09534625892455924), (3718, 0.11952286093343936), (3719, 0.10540925533894598), (3720, 0.0), (3721, 0.0), (3722, 0.2), (3723, 0.10540925533894598), (3724, 0.10540925533894598), (3725, 0.31622776601683794), (3726, 0.2), (3727, 0.22360679774997896), (3728, 0.1), (3729, 0.12909944487358058), (3730, 0.0), (3731, 0.1), (3732, 0.1), (3733, 0.1), (3734, 0.2), (3735, 0.0), (3736, 0.0), (3737, 0.0), (3738, 0.11180339887498948), (3739, 0.0912870929175277), (3740, 0.2), (3741, 0.10540925533894598), (3742, 0.0), (3743, 0.10540925533894598), (3744, 0.0), (3745, 0.1), (3746, 0.0), (3747, 0.11952286093343936), (3748, 0.10540925533894598), (3749, 0.1), (3750, 0.1), (3751, 0.0), (3752, 0.0), (3753, 0.10540925533894598), (3754, 0.0), (3755, 0.0912870929175277), (3756, 0.11180339887498948), (3757, 0.1), (3758, 0.2), (3759, 0.10540925533894598), (3760, 0.1), (3761, 0.1), (3762, 0.0), (3763, 0.1), (3764, 0.2), (3765, 0.10540925533894598), (3766, 0.1), (3767, 0.1), (3768, 0.0), (3769, 0.11180339887498948), (3770, 0.0), (3771, 0.0), (3772, 0.1), (3773, 0.1), (3774, 0.1), (3775, 0.0), (3776, 0.10540925533894598), (3777, 0.0), (3778, 0.10540925533894598), (3779, 0.11952286093343936), (3780, 0.1), (3781, 0.1414213562373095), (3782, 0.10540925533894598), (3783, 0.11180339887498948), (3784, 0.1), (3785, 0.2), (3786, 0.0), (3787, 0.0), (3788, 0.11952286093343936), (3789, 0.2), (3790, 0.10540925533894598), (3791, 0.0), (3792, 0.11952286093343936), (3793, 0.11952286093343936), (3794, 0.11180339887498948), (3795, 0.2), (3796, 0.11952286093343936), (3797, 0.11180339887498948), (3798, 0.12909944487358058), (3799, 0.1), (3800, 0.0), (3801, 0.11180339887498948), (3802, 0.09534625892455924), (3803, 0.0), (3804, 0.2), (3805, 0.1), (3806, 0.0), (3807, 0.0), (3808, 0.0), (3809, 0.0), (3810, 0.0912870929175277), (3811, 0.10540925533894598), (3812, 0.11180339887498948), (3813, 0.1), (3814, 0.11180339887498948), (3815, 0.0), (3816, 0.1), (3817, 0.21081851067789195), (3818, 0.11180339887498948), (3819, 0.30000000000000004), (3820, 0.0), (3821, 0.1), (3822, 0.10540925533894598), (3823, 0.12909944487358058), (3824, 0.0), (3825, 0.0), (3826, 0.1), (3827, 0.0), (3828, 0.30000000000000004), (3829, 0.0), (3830, 0.1), (3831, 0.21081851067789195), (3832, 0.11180339887498948), (3833, 0.21081851067789195), (3834, 0.2), (3835, 0.0), (3836, 0.12909944487358058), (3837, 0.0), (3838, 0.11180339887498948), (3839, 0.2), (3840, 0.0), (3841, 0.0), (3842, 0.10540925533894598), (3843, 0.0), (3844, 0.10540925533894598), (3845, 0.0), (3846, 0.0), (3847, 0.11180339887498948), (3848, 0.11180339887498948), (3849, 0.2), (3850, 0.2), (3851, 0.2), (3852, 0.11952286093343936), (3853, 0.0), (3854, 0.21081851067789195), (3855, 0.0), (3856, 0.22360679774997896), (3857, 0.23904572186687872), (3858, 0.10540925533894598), (3859, 0.1), (3860, 0.0), (3861, 0.0), (3862, 0.10540925533894598), (3863, 0.2), (3864, 0.10540925533894598), (3865, 0.11180339887498948), (3866, 0.21081851067789195), (3867, 0.10540925533894598), (3868, 0.10540925533894598), (3869, 0.21081851067789195), (3870, 0.11180339887498948), (3871, 0.0), (3872, 0.10540925533894598), (3873, 0.19069251784911848), (3874, 0.0), (3875, 0.11180339887498948), (3876, 0.11180339887498948), (3877, 0.09534625892455924), (3878, 0.0), (3879, 0.09534625892455924), (3880, 0.2), (3881, 0.1), (3882, 0.1), (3883, 0.0), (3884, 0.1), (3885, 0.0), (3886, 0.1), (3887, 0.21081851067789195), (3888, 0.0), (3889, 0.0), (3890, 0.0), (3891, 0.0), (3892, 0.11180339887498948), (3893, 0.0), (3894, 0.10540925533894598), (3895, 0.0), (3896, 0.0), (3897, 0.0), (3898, 0.10540925533894598), (3899, 0.0), (3900, 0.1), (3901, 0.0), (3902, 0.0), (3903, 0.1), (3904, 0.0), (3905, 0.1), (3906, 0.09534625892455924), (3907, 0.0), (3908, 0.0), (3909, 0.0), (3910, 0.0), (3911, 0.11952286093343936), (3912, 0.22360679774997896), (3913, 0.11952286093343936), (3914, 0.10540925533894598), (3915, 0.0), (3916, 0.0), (3917, 0.0), (3918, 0.1), (3919, 0.0), (3920, 0.1), (3921, 0.12909944487358058), (3922, 0.11180339887498948), (3923, 0.1), (3924, 0.0), (3925, 0.0), (3926, 0.1), (3927, 0.10540925533894598), (3928, 0.0), (3929, 0.0), (3930, 0.10540925533894598), (3931, 0.10540925533894598), (3932, 0.11952286093343936), (3933, 0.0), (3934, 0.10540925533894598), (3935, 0.10540925533894598), (3936, 0.21081851067789195), (3937, 0.1), (3938, 0.0), (3939, 0.0), (3940, 0.08451542547285167), (3941, 0.2), (3942, 0.1), (3943, 0.12909944487358058), (3944, 0.1), (3945, 0.23904572186687872), (3946, 0.11180339887498948), (3947, 0.0), (3948, 0.0), (3949, 0.0), (3950, 0.11180339887498948), (3951, 0.0), (3952, 0.1), (3953, 0.11180339887498948), (3954, 0.0), (3955, 0.10540925533894598), (3956, 0.0), (3957, 0.11952286093343936), (3958, 0.0), (3959, 0.0), (3960, 0.0), (3961, 0.11952286093343936), (3962, 0.2), (3963, 0.0), (3964, 0.0), (3965, 0.21081851067789195), (3966, 0.30000000000000004), (3967, 0.12909944487358058), (3968, 0.0), (3969, 0.0), (3970, 0.0), (3971, 0.0), (3972, 0.23904572186687872), (3973, 0.09534625892455924), (3974, 0.11180339887498948), (3975, 0.10540925533894598), (3976, 0.25819888974716115), (3977, 0.11952286093343936), (3978, 0.11952286093343936), (3979, 0.0), (3980, 0.0), (3981, 0.1), (3982, 0.10540925533894598), (3983, 0.10540925533894598), (3984, 0.0), (3985, 0.0), (3986, 0.0), (3987, 0.0), (3988, 0.1), (3989, 0.0912870929175277), (3990, 0.11180339887498948), (3991, 0.0), (3992, 0.0), (3993, 0.11952286093343936), (3994, 0.0), (3995, 0.11952286093343936), (3996, 0.1), (3997, 0.0), (3998, 0.0), (3999, 0.11952286093343936), (4000, 0.10540925533894598), (4001, 0.0), (4002, 0.0), (4003, 0.0), (4004, 0.11952286093343936), (4005, 0.0), (4006, 0.0), (4007, 0.0), (4008, 0.0), (4009, 0.0), (4010, 0.09534625892455924), (4011, 0.0), (4012, 0.10540925533894598), (4013, 0.2), (4014, 0.0), (4015, 0.10540925533894598), (4016, 0.0912870929175277), (4017, 0.10540925533894598), (4018, 0.0), (4019, 0.1), (4020, 0.0), (4021, 0.11180339887498948), (4022, 0.1), (4023, 0.10540925533894598), (4024, 0.1), (4025, 0.0), (4026, 0.09534625892455924), (4027, 0.1414213562373095), (4028, 0.10540925533894598), (4029, 0.0), (4030, 0.0), (4031, 0.0), (4032, 0.1), (4033, 0.2), (4034, 0.0), (4035, 0.0), (4036, 0.0), (4037, 0.10540925533894598), (4038, 0.11952286093343936), (4039, 0.0), (4040, 0.1414213562373095), (4041, 0.21081851067789195), (4042, 0.1), (4043, 0.0), (4044, 0.10540925533894598), (4045, 0.10540925533894598), (4046, 0.0), (4047, 0.1414213562373095), (4048, 0.0), (4049, 0.0), (4050, 0.0), (4051, 0.11180339887498948), (4052, 0.0), (4053, 0.0), (4054, 0.11180339887498948), (4055, 0.11952286093343936), (4056, 0.0), (4057, 0.1414213562373095), (4058, 0.10540925533894598), (4059, 0.0), (4060, 0.0), (4061, 0.1), (4062, 0.1), (4063, 0.21081851067789195), (4064, 0.11952286093343936), (4065, 0.2), (4066, 0.0), (4067, 0.1), (4068, 0.0), (4069, 0.0), (4070, 0.11180339887498948), (4071, 0.1), (4072, 0.1), (4073, 0.0), (4074, 0.0), (4075, 0.0), (4076, 0.21081851067789195), (4077, 0.1), (4078, 0.1), (4079, 0.21081851067789195), (4080, 0.0), (4081, 0.10540925533894598), (4082, 0.10540925533894598), (4083, 0.11180339887498948), (4084, 0.1), (4085, 0.0), (4086, 0.12909944487358058), (4087, 0.10540925533894598), (4088, 0.10540925533894598), (4089, 0.10540925533894598), (4090, 0.21081851067789195), (4091, 0.11180339887498948), (4092, 0.11180339887498948), (4093, 0.1), (4094, 0.1), (4095, 0.09534625892455924), (4096, 0.0), (4097, 0.11180339887498948), (4098, 0.21081851067789195), (4099, 0.30000000000000004), (4100, 0.2), (4101, 0.11180339887498948), (4102, 0.0), (4103, 0.09534625892455924), (4104, 0.08770580193070293), (4105, 0.0), (4106, 0.0), (4107, 0.10540925533894598), (4108, 0.0), (4109, 0.10540925533894598), (4110, 0.0), (4111, 0.23904572186687872), (4112, 0.11180339887498948), (4113, 0.0), (4114, 0.10540925533894598), (4115, 0.09534625892455924), (4116, 0.0), (4117, 0.11180339887498948), (4118, 0.0), (4119, 0.1), (4120, 0.0), (4121, 0.1), (4122, 0.12909944487358058), (4123, 0.0), (4124, 0.2), (4125, 0.0), (4126, 0.1), (4127, 0.1), (4128, 0.0), (4129, 0.21081851067789195), (4130, 0.11180339887498948), (4131, 0.0), (4132, 0.0), (4133, 0.0), (4134, 0.0), (4135, 0.30000000000000004), (4136, 0.2), (4137, 0.0), (4138, 0.0), (4139, 0.2), (4140, 0.0), (4141, 0.0), (4142, 0.0), (4143, 0.23904572186687872), (4144, 0.1825741858350554), (4145, 0.0), (4146, 0.22360679774997896), (4147, 0.12909944487358058), (4148, 0.0), (4149, 0.0), (4150, 0.10540925533894598), (4151, 0.0), (4152, 0.1), (4153, 0.0), (4154, 0.0), (4155, 0.11180339887498948), (4156, 0.0), (4157, 0.0), (4158, 0.0), (4159, 0.21081851067789195), (4160, 0.11952286093343936), (4161, 0.12909944487358058), (4162, 0.1), (4163, 0.1), (4164, 0.11180339887498948), (4165, 0.10540925533894598), (4166, 0.1), (4167, 0.09534625892455924), (4168, 0.11952286093343936), (4169, 0.12909944487358058), (4170, 0.1), (4171, 0.08770580193070293), (4172, 0.11180339887498948), (4173, 0.09534625892455924), (4174, 0.10540925533894598), (4175, 0.09534625892455924), (4176, 0.1), (4177, 0.10540925533894598), (4178, 0.09534625892455924), (4179, 0.0), (4180, 0.0), (4181, 0.0), (4182, 0.1), (4183, 0.0), (4184, 0.25819888974716115), (4185, 0.0), (4186, 0.0), (4187, 0.10540925533894598), (4188, 0.0), (4189, 0.2), (4190, 0.1), (4191, 0.0), (4192, 0.11952286093343936), (4193, 0.10540925533894598), (4194, 0.10540925533894598), (4195, 0.09534625892455924), (4196, 0.1), (4197, 0.1), (4198, 0.12909944487358058), (4199, 0.11952286093343936), (4200, 0.0), (4201, 0.1), (4202, 0.0), (4203, 0.11180339887498948), (4204, 0.10540925533894598), (4205, 0.22360679774997896), (4206, 0.0912870929175277), (4207, 0.0), (4208, 0.11952286093343936), (4209, 0.2), (4210, 0.0), (4211, 0.1825741858350554), (4212, 0.12909944487358058), (4213, 0.0), (4214, 0.0), (4215, 0.10540925533894598), (4216, 0.10540925533894598), (4217, 0.22360679774997896), (4218, 0.10540925533894598), (4219, 0.0), (4220, 0.21081851067789195), (4221, 0.1), (4222, 0.10540925533894598), (4223, 0.0912870929175277), (4224, 0.0), (4225, 0.1), (4226, 0.2), (4227, 0.0), (4228, 0.10540925533894598), (4229, 0.0), (4230, 0.2860387767736777), (4231, 0.11180339887498948), (4232, 0.10540925533894598), (4233, 0.11952286093343936), (4234, 0.0), (4235, 0.0), (4236, 0.12909944487358058), (4237, 0.0), (4238, 0.09534625892455924), (4239, 0.11952286093343936), (4240, 0.0), (4241, 0.0), (4242, 0.0), (4243, 0.11180339887498948), (4244, 0.1), (4245, 0.0), (4246, 0.11180339887498948), (4247, 0.1825741858350554), (4248, 0.0), (4249, 0.0), (4250, 0.0), (4251, 0.11180339887498948), (4252, 0.12909944487358058), (4253, 0.11952286093343936), (4254, 0.0), (4255, 0.11952286093343936), (4256, 0.23904572186687872), (4257, 0.11952286093343936), (4258, 0.11952286093343936), (4259, 0.0), (4260, 0.10540925533894598), (4261, 0.0), (4262, 0.0), (4263, 0.11180339887498948), (4264, 0.0), (4265, 0.1825741858350554), (4266, 0.0), (4267, 0.09534625892455924), (4268, 0.10540925533894598), (4269, 0.0), (4270, 0.11180339887498948), (4271, 0.09534625892455924), (4272, 0.11952286093343936), (4273, 0.1414213562373095), (4274, 0.0), (4275, 0.22360679774997896), (4276, 0.0), (4277, 0.11952286093343936), (4278, 0.0), (4279, 0.0), (4280, 0.11180339887498948), (4281, 0.10540925533894598), (4282, 0.0), (4283, 0.11180339887498948), (4284, 0.0), (4285, 0.12909944487358058), (4286, 0.0), (4287, 0.19069251784911848), (4288, 0.10540925533894598), (4289, 0.0), (4290, 0.11180339887498948), (4291, 0.1), (4292, 0.0912870929175277), (4293, 0.0), (4294, 0.11180339887498948), (4295, 0.1), (4296, 0.11952286093343936), (4297, 0.0), (4298, 0.0), (4299, 0.12909944487358058), (4300, 0.10540925533894598), (4301, 0.11180339887498948), (4302, 0.0), (4303, 0.11180339887498948), (4304, 0.11952286093343936), (4305, 0.0), (4306, 0.0), (4307, 0.0), (4308, 0.10540925533894598), (4309, 0.11952286093343936), (4310, 0.2), (4311, 0.0), (4312, 0.2), (4313, 0.0), (4314, 0.0), (4315, 0.10540925533894598), (4316, 0.11180339887498948), (4317, 0.0), (4318, 0.0), (4319, 0.0), (4320, 0.2), (4321, 0.0), (4322, 0.0), (4323, 0.0), (4324, 0.11952286093343936), (4325, 0.0), (4326, 0.2), (4327, 0.07905694150420949), (4328, 0.0), (4329, 0.10540925533894598), (4330, 0.11180339887498948), (4331, 0.1), (4332, 0.1), (4333, 0.10540925533894598), (4334, 0.11180339887498948), (4335, 0.0), (4336, 0.0), (4337, 0.21081851067789195), (4338, 0.10540925533894598), (4339, 0.1), (4340, 0.0), (4341, 0.0), (4342, 0.12909944487358058), (4343, 0.0), (4344, 0.1), (4345, 0.10540925533894598), (4346, 0.11180339887498948), (4347, 0.0), (4348, 0.1), (4349, 0.21081851067789195), (4350, 0.0), (4351, 0.21081851067789195), (4352, 0.0), (4353, 0.1), (4354, 0.11180339887498948), (4355, 0.09534625892455924), (4356, 0.0), (4357, 0.11952286093343936), (4358, 0.11180339887498948), (4359, 0.11180339887498948), (4360, 0.10540925533894598), (4361, 0.0), (4362, 0.11952286093343936), (4363, 0.0), (4364, 0.10540925533894598), (4365, 0.10540925533894598), (4366, 0.0), (4367, 0.1), (4368, 0.0), (4369, 0.12909944487358058), (4370, 0.2), (4371, 0.1), (4372, 0.0), (4373, 0.10540925533894598), (4374, 0.0), (4375, 0.11952286093343936), (4376, 0.11180339887498948), (4377, 0.25819888974716115), (4378, 0.0912870929175277), (4379, 0.1), (4380, 0.1), (4381, 0.0), (4382, 0.0), (4383, 0.0), (4384, 0.11952286093343936), (4385, 0.0), (4386, 0.10540925533894598), (4387, 0.0), (4388, 0.21081851067789195), (4389, 0.0), (4390, 0.0), (4391, 0.1), (4392, 0.10540925533894598), (4393, 0.2), (4394, 0.0912870929175277), (4395, 0.11952286093343936), (4396, 0.0), (4397, 0.2), (4398, 0.1), (4399, 0.1), (4400, 0.0), (4401, 0.1825741858350554), (4402, 0.19069251784911848), (4403, 0.1), (4404, 0.22360679774997896), (4405, 0.0), (4406, 0.10540925533894598), (4407, 0.10540925533894598), (4408, 0.30000000000000004), (4409, 0.0), (4410, 0.11952286093343936), (4411, 0.12909944487358058), (4412, 0.11180339887498948), (4413, 0.0), (4414, 0.0), (4415, 0.0), (4416, 0.12909944487358058), (4417, 0.10540925533894598), (4418, 0.0), (4419, 0.0), (4420, 0.0), (4421, 0.0), (4422, 0.11952286093343936), (4423, 0.09534625892455924), (4424, 0.0), (4425, 0.09534625892455924), (4426, 0.1414213562373095), (4427, 0.1), (4428, 0.0), (4429, 0.1), (4430, 0.0), (4431, 0.0), (4432, 0.2), (4433, 0.0), (4434, 0.11180339887498948), (4435, 0.0), (4436, 0.10540925533894598), (4437, 0.1), (4438, 0.11180339887498948), (4439, 0.10540925533894598), (4440, 0.0), (4441, 0.1), (4442, 0.0), (4443, 0.1), (4444, 0.11180339887498948), (4445, 0.11180339887498948), (4446, 0.0), (4447, 0.1), (4448, 0.1), (4449, 0.22360679774997896), (4450, 0.11952286093343936), (4451, 0.0), (4452, 0.11180339887498948), (4453, 0.09534625892455924), (4454, 0.10540925533894598), (4455, 0.11952286093343936), (4456, 0.11952286093343936), (4457, 0.1), (4458, 0.0), (4459, 0.12909944487358058), (4460, 0.21081851067789195), (4461, 0.11180339887498948), (4462, 0.12909944487358058), (4463, 0.0), (4464, 0.0), (4465, 0.2), (4466, 0.0), (4467, 0.10540925533894598), (4468, 0.0), (4469, 0.0), (4470, 0.0), (4471, 0.0), (4472, 0.1), (4473, 0.0), (4474, 0.10540925533894598), (4475, 0.10540925533894598), (4476, 0.11952286093343936), (4477, 0.0), (4478, 0.0), (4479, 0.0), (4480, 0.0), (4481, 0.0), (4482, 0.12909944487358058), (4483, 0.10540925533894598), (4484, 0.17541160386140586), (4485, 0.10540925533894598), (4486, 0.08451542547285167), (4487, 0.10540925533894598), (4488, 0.23904572186687872), (4489, 0.0), (4490, 0.0), (4491, 0.0), (4492, 0.0), (4493, 0.1414213562373095), (4494, 0.10540925533894598), (4495, 0.0), (4496, 0.0), (4497, 0.0), (4498, 0.0), (4499, 0.21081851067789195), (4500, 0.0), (4501, 0.1414213562373095), (4502, 0.25819888974716115), (4503, 0.0), (4504, 0.0), (4505, 0.11180339887498948), (4506, 0.0), (4507, 0.0), (4508, 0.0), (4509, 0.10540925533894598), (4510, 0.10540925533894598), (4511, 0.11952286093343936), (4512, 0.10540925533894598), (4513, 0.0), (4514, 0.10540925533894598), (4515, 0.0), (4516, 0.0), (4517, 0.0), (4518, 0.10540925533894598), (4519, 0.11952286093343936), (4520, 0.0), (4521, 0.0), (4522, 0.11952286093343936), (4523, 0.12909944487358058), (4524, 0.0), (4525, 0.11180339887498948), (4526, 0.1414213562373095), (4527, 0.10540925533894598), (4528, 0.21081851067789195), (4529, 0.19069251784911848), (4530, 0.0), (4531, 0.22360679774997896), (4532, 0.1), (4533, 0.10540925533894598), (4534, 0.0), (4535, 0.21081851067789195), (4536, 0.0), (4537, 0.0), (4538, 0.0), (4539, 0.1), (4540, 0.11952286093343936), (4541, 0.1414213562373095), (4542, 0.1), (4543, 0.12909944487358058), (4544, 0.0), (4545, 0.0), (4546, 0.12909944487358058), (4547, 0.0), (4548, 0.12909944487358058), (4549, 0.2), (4550, 0.0), (4551, 0.10540925533894598), (4552, 0.0), (4553, 0.0), (4554, 0.10540925533894598), (4555, 0.0), (4556, 0.25819888974716115), (4557, 0.11180339887498948), (4558, 0.0), (4559, 0.0), (4560, 0.0), (4561, 0.0), (4562, 0.0), (4563, 0.1), (4564, 0.22360679774997896), (4565, 0.2), (4566, 0.0), (4567, 0.10540925533894598), (4568, 0.0), (4569, 0.0), (4570, 0.0), (4571, 0.0), (4572, 0.10540925533894598), (4573, 0.1), (4574, 0.1414213562373095), (4575, 0.0), (4576, 0.10540925533894598), (4577, 0.0), (4578, 0.0), (4579, 0.0), (4580, 0.1414213562373095), (4581, 0.0), (4582, 0.09534625892455924), (4583, 0.0), (4584, 0.0), (4585, 0.0), (4586, 0.0), (4587, 0.0), (4588, 0.09534625892455924), (4589, 0.15811388300841897), (4590, 0.11952286093343936), (4591, 0.11180339887498948), (4592, 0.11180339887498948), (4593, 0.0), (4594, 0.09534625892455924), (4595, 0.0), (4596, 0.0), (4597, 0.0), (4598, 0.0), (4599, 0.2), (4600, 0.0), (4601, 0.0), (4602, 0.11180339887498948), (4603, 0.1), (4604, 0.0), (4605, 0.11180339887498948), (4606, 0.0), (4607, 0.10540925533894598), (4608, 0.0), (4609, 0.0), (4610, 0.10540925533894598), (4611, 0.0), (4612, 0.12909944487358058), (4613, 0.11180339887498948), (4614, 0.12909944487358058), (4615, 0.08770580193070293), (4616, 0.0), (4617, 0.0), (4618, 0.1414213562373095), (4619, 0.11180339887498948), (4620, 0.19069251784911848), (4621, 0.10540925533894598), (4622, 0.0), (4623, 0.1), (4624, 0.1), (4625, 0.0), (4626, 0.11180339887498948), (4627, 0.12909944487358058), (4628, 0.0), (4629, 0.0), (4630, 0.23904572186687872), (4631, 0.09534625892455924), (4632, 0.11180339887498948), (4633, 0.0), (4634, 0.25819888974716115), (4635, 0.1), (4636, 0.10540925533894598), (4637, 0.1), (4638, 0.5477225575051663), (4639, 0.0), (4640, 0.0), (4641, 0.11952286093343936), (4642, 0.1), (4643, 0.10540925533894598), (4644, 0.0), (4645, 0.0), (4646, 0.12909944487358058), (4647, 0.10540925533894598), (4648, 0.11180339887498948), (4649, 0.10540925533894598), (4650, 0.0), (4651, 0.10540925533894598), (4652, 0.0), (4653, 0.11952286093343936), (4654, 0.10540925533894598), (4655, 0.12909944487358058), (4656, 0.22360679774997896), (4657, 0.0), (4658, 0.0), (4659, 0.11180339887498948), (4660, 0.0), (4661, 0.10540925533894598), (4662, 0.0), (4663, 0.0), (4664, 0.31622776601683794), (4665, 0.0), (4666, 0.0), (4667, 0.12909944487358058), (4668, 0.0), (4669, 0.0), (4670, 0.09534625892455924), (4671, 0.0), (4672, 0.0), (4673, 0.0), (4674, 0.0), (4675, 0.1), (4676, 0.11952286093343936), (4677, 0.1), (4678, 0.11180339887498948), (4679, 0.0), (4680, 0.1), (4681, 0.0), (4682, 0.0), (4683, 0.10540925533894598), (4684, 0.0), (4685, 0.0), (4686, 0.11180339887498948), (4687, 0.0912870929175277), (4688, 0.10540925533894598), (4689, 0.0), (4690, 0.12909944487358058), (4691, 0.11180339887498948), (4692, 0.11952286093343936), (4693, 0.11180339887498948), (4694, 0.12909944487358058), (4695, 0.1), (4696, 0.10540925533894598), (4697, 0.0), (4698, 0.0), (4699, 0.1414213562373095), (4700, 0.1), (4701, 0.1825741858350554), (4702, 0.11952286093343936), (4703, 0.11180339887498948), (4704, 0.1), (4705, 0.11952286093343936), (4706, 0.0), (4707, 0.1), (4708, 0.23904572186687872), (4709, 0.0), (4710, 0.0), (4711, 0.0), (4712, 0.0), (4713, 0.0), (4714, 0.0), (4715, 0.1), (4716, 0.0), (4717, 0.10540925533894598), (4718, 0.0), (4719, 0.1), (4720, 0.11180339887498948), (4721, 0.0), (4722, 0.1), (4723, 0.0), (4724, 0.1), (4725, 0.0), (4726, 0.10540925533894598), (4727, 0.19069251784911848), (4728, 0.0), (4729, 0.0), (4730, 0.21081851067789195), (4731, 0.0), (4732, 0.0), (4733, 0.10540925533894598), (4734, 0.23904572186687872), (4735, 0.10540925533894598), (4736, 0.0), (4737, 0.0), (4738, 0.1), (4739, 0.0), (4740, 0.0), (4741, 0.0), (4742, 0.0912870929175277), (4743, 0.0), (4744, 0.10540925533894598), (4745, 0.0), (4746, 0.11952286093343936), (4747, 0.10540925533894598), (4748, 0.0), (4749, 0.1), (4750, 0.11952286093343936), (4751, 0.12909944487358058), (4752, 0.0912870929175277), (4753, 0.0), (4754, 0.11952286093343936), (4755, 0.0), (4756, 0.0), (4757, 0.0), (4758, 0.0), (4759, 0.0), (4760, 0.1414213562373095), (4761, 0.0), (4762, 0.12909944487358058), (4763, 0.0), (4764, 0.11952286093343936), (4765, 0.0), (4766, 0.0), (4767, 0.0), (4768, 0.11952286093343936), (4769, 0.12909944487358058), (4770, 0.09534625892455924), (4771, 0.0), (4772, 0.2), (4773, 0.0), (4774, 0.10540925533894598), (4775, 0.11952286093343936), (4776, 0.10540925533894598), (4777, 0.1414213562373095), (4778, 0.30000000000000004), (4779, 0.0), (4780, 0.23904572186687872), (4781, 0.0), (4782, 0.10540925533894598), (4783, 0.0), (4784, 0.11180339887498948), (4785, 0.1414213562373095), (4786, 0.0), (4787, 0.0), (4788, 0.1), (4789, 0.11180339887498948), (4790, 0.12909944487358058), (4791, 0.0), (4792, 0.1), (4793, 0.11180339887498948), (4794, 0.0), (4795, 0.10540925533894598), (4796, 0.0912870929175277), (4797, 0.0), (4798, 0.19069251784911848), (4799, 0.0), (4800, 0.1), (4801, 0.0), (4802, 0.0)]\n"
          ],
          "name": "stdout"
        },
        {
          "output_type": "execute_result",
          "data": {
            "text/plain": [
              "65               The Dark Knight\n",
              "119                Batman Begins\n",
              "4638    Amidst the Devil's Wings\n",
              "1196                The Prestige\n",
              "3073           Romeo Is Bleeding\n",
              "3326              Black November\n",
              "1503                      Takers\n",
              "1986                      Faster\n",
              "303                     Catwoman\n",
              "747               Gangster Squad\n",
              "Name: title, dtype: object"
            ]
          },
          "metadata": {
            "tags": []
          },
          "execution_count": 28
        }
      ]
    },
    {
      "cell_type": "code",
      "metadata": {
        "id": "ocezSPVPXFaP",
        "colab": {
          "base_uri": "https://localhost:8080/"
        },
        "outputId": "54c157bf-5e5e-4e5a-ecff-ddf72ae5b4dd"
      },
      "source": [
        "get_recommendations('The Godfather', cosine_sim2)"
      ],
      "execution_count": 22,
      "outputs": [
        {
          "output_type": "execute_result",
          "data": {
            "text/plain": [
              "867      The Godfather: Part III\n",
              "2731      The Godfather: Part II\n",
              "4638    Amidst the Devil's Wings\n",
              "2649           The Son of No One\n",
              "1525              Apocalypse Now\n",
              "1018             The Cotton Club\n",
              "1170     The Talented Mr. Ripley\n",
              "1209               The Rainmaker\n",
              "1394               Donnie Brasco\n",
              "1850                    Scarface\n",
              "Name: title, dtype: object"
            ]
          },
          "metadata": {
            "tags": []
          },
          "execution_count": 22
        }
      ]
    }
  ]
}