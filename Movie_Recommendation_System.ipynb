{
  "nbformat": 4,
  "nbformat_minor": 0,
  "metadata": {
    "colab": {
      "name": "Movie Recommendation System.ipynb",
      "provenance": [],
      "authorship_tag": "ABX9TyN5ECvacV6Fgdfz9Ku6WkJE",
      "include_colab_link": true
    },
    "kernelspec": {
      "name": "python3",
      "display_name": "Python 3"
    }
  },
  "cells": [
    {
      "cell_type": "markdown",
      "metadata": {
        "id": "view-in-github",
        "colab_type": "text"
      },
      "source": [
        "<a href=\"https://colab.research.google.com/github/junheeyoon/The-Age-of-Recommender-Systems/blob/main/Movie_Recommendation_System.ipynb\" target=\"_parent\"><img src=\"https://colab.research.google.com/assets/colab-badge.svg\" alt=\"Open In Colab\"/></a>"
      ]
    },
    {
      "cell_type": "markdown",
      "metadata": {
        "id": "myHGzbLuDTum"
      },
      "source": [
        "# The Age of Recommender Systems"
      ]
    },
    {
      "cell_type": "code",
      "metadata": {
        "id": "kBnZZr5MFM6i",
        "colab": {
          "base_uri": "https://localhost:8080/"
        },
        "outputId": "ce27568d-3e23-47f9-f25a-362702764a0a"
      },
      "source": [
        "from google.colab import drive\r\n",
        "drive.mount('/content/drive')\r\n",
        "\r\n",
        "# 현재 경로 확인\r\n",
        "import os\r\n",
        "print(os.path.abspath(os.curdir))\r\n",
        "\r\n",
        "# Root 경로 설정\r\n",
        "import os\r\n",
        "os.chdir('/content/drive/MyDrive/데이터분석')"
      ],
      "execution_count": 1,
      "outputs": [
        {
          "output_type": "stream",
          "text": [
            "Mounted at /content/drive\n",
            "/content\n"
          ],
          "name": "stdout"
        }
      ]
    },
    {
      "cell_type": "code",
      "metadata": {
        "id": "uPdA4vzjDbr6"
      },
      "source": [
        "import pandas as pd \r\n",
        "import numpy as np \r\n",
        "df1=pd.read_csv('./data/tmdb/tmdb_5000_credits.csv')\r\n",
        "df2=pd.read_csv('./data/tmdb/tmdb_5000_movies.csv')"
      ],
      "execution_count": 2,
      "outputs": []
    },
    {
      "cell_type": "code",
      "metadata": {
        "id": "pJcMdrJLGxgx"
      },
      "source": [
        "df1.columns = ['id','tittle','cast','crew']\r\n",
        "df2= df2.merge(df1,on='id')\r\n",
        "\r\n",
        "df2.head(5)"
      ],
      "execution_count": null,
      "outputs": []
    },
    {
      "cell_type": "markdown",
      "metadata": {
        "id": "KvN6vOaeJC8o"
      },
      "source": [
        "# Demographic Filtering"
      ]
    },
    {
      "cell_type": "markdown",
      "metadata": {
        "id": "ua2P8aJkJIqQ"
      },
      "source": [
        "## v(vote_count) and R (vote_average) "
      ]
    },
    {
      "cell_type": "code",
      "metadata": {
        "id": "6BpeUdJKHrwV"
      },
      "source": [
        "C= df2['vote_average'].mean()\r\n",
        "C"
      ],
      "execution_count": null,
      "outputs": []
    },
    {
      "cell_type": "code",
      "metadata": {
        "id": "65ELHep8H0U8"
      },
      "source": [
        "m= df2['vote_count'].quantile(0.9)\r\n",
        "m"
      ],
      "execution_count": null,
      "outputs": []
    },
    {
      "cell_type": "code",
      "metadata": {
        "id": "nbdz0DNDH0Ir"
      },
      "source": [
        "q_movies = df2.copy().loc[df2['vote_count'] >= m]\r\n",
        "q_movies.shape"
      ],
      "execution_count": null,
      "outputs": []
    },
    {
      "cell_type": "code",
      "metadata": {
        "id": "0D7jhLOrIKzX"
      },
      "source": [
        "def weighted_rating(x, m=m, C=C):\r\n",
        "    v = x['vote_count']\r\n",
        "    R = x['vote_average']\r\n",
        "    # Calculation based on the IMDB formula\r\n",
        "    return (v/(v+m) * R) + (m/(m+v) * C)\r\n",
        "\r\n",
        "# Define a new feature 'score' and calculate its value with `weighted_rating()`\r\n",
        "q_movies['score'] = q_movies.apply(weighted_rating, axis=1)"
      ],
      "execution_count": null,
      "outputs": []
    },
    {
      "cell_type": "code",
      "metadata": {
        "id": "EweIZm20IVfR"
      },
      "source": [
        "#Sort movies based on score calculated above\r\n",
        "q_movies = q_movies.sort_values('score', ascending=False)\r\n",
        "\r\n",
        "#Print the top 15 movies\r\n",
        "q_movies[['title', 'vote_count', 'vote_average', 'score']].head(10)"
      ],
      "execution_count": null,
      "outputs": []
    },
    {
      "cell_type": "markdown",
      "metadata": {
        "id": "6QEGqycrItO9"
      },
      "source": [
        "## popularity"
      ]
    },
    {
      "cell_type": "code",
      "metadata": {
        "id": "ePz18GgLItkR"
      },
      "source": [
        "pop= df2.sort_values('popularity', ascending=False)\r\n",
        "import matplotlib.pyplot as plt\r\n",
        "plt.figure(figsize=(12,4))\r\n",
        "\r\n",
        "plt.barh(pop['title'].head(6),pop['popularity'].head(6), align='center',\r\n",
        "        color='skyblue')\r\n",
        "plt.gca().invert_yaxis()\r\n",
        "plt.xlabel(\"Popularity\")\r\n",
        "plt.title(\"Popular Movies\")"
      ],
      "execution_count": null,
      "outputs": []
    },
    {
      "cell_type": "markdown",
      "metadata": {
        "id": "A20Exo2LJeDB"
      },
      "source": [
        "# Content Based Filtering"
      ]
    },
    {
      "cell_type": "markdown",
      "metadata": {
        "id": "F6JEAfWhKyRk"
      },
      "source": [
        "## Plot description based Recommender"
      ]
    },
    {
      "cell_type": "code",
      "metadata": {
        "id": "DZ3cU50iJqQj",
        "colab": {
          "base_uri": "https://localhost:8080/"
        },
        "outputId": "906c6134-f06a-4235-db18-379f51de02ac"
      },
      "source": [
        "df2['overview'].head(5)"
      ],
      "execution_count": 4,
      "outputs": [
        {
          "output_type": "execute_result",
          "data": {
            "text/plain": [
              "0    In the 22nd century, a paraplegic Marine is di...\n",
              "1    Captain Barbossa, long believed to be dead, ha...\n",
              "2    A cryptic message from Bond’s past sends him o...\n",
              "3    Following the death of District Attorney Harve...\n",
              "4    John Carter is a war-weary, former military ca...\n",
              "Name: overview, dtype: object"
            ]
          },
          "metadata": {
            "tags": []
          },
          "execution_count": 4
        }
      ]
    },
    {
      "cell_type": "code",
      "metadata": {
        "id": "Fiw1zB_HJ9Nj",
        "colab": {
          "base_uri": "https://localhost:8080/"
        },
        "outputId": "f6251fd4-0c13-4fc0-da18-ecb6488414bc"
      },
      "source": [
        "#Import TfIdfVectorizer from scikit-learn\r\n",
        "from sklearn.feature_extraction.text import TfidfVectorizer\r\n",
        "\r\n",
        "#Define a TF-IDF Vectorizer Object. Remove all english stop words such as 'the', 'a'\r\n",
        "tfidf = TfidfVectorizer(stop_words='english')\r\n",
        "\r\n",
        "#Replace NaN with an empty string\r\n",
        "df2['overview'] = df2['overview'].fillna('')\r\n",
        "\r\n",
        "#Construct the required TF-IDF matrix by fitting and transforming the data\r\n",
        "tfidf_matrix = tfidf.fit_transform(df2['overview'])\r\n",
        "\r\n",
        "#Output the shape of tfidf_matrix\r\n",
        "tfidf_matrix.shape"
      ],
      "execution_count": 5,
      "outputs": [
        {
          "output_type": "execute_result",
          "data": {
            "text/plain": [
              "(4803, 20978)"
            ]
          },
          "metadata": {
            "tags": []
          },
          "execution_count": 5
        }
      ]
    },
    {
      "cell_type": "code",
      "metadata": {
        "id": "AlccKb-XKFP9",
        "colab": {
          "base_uri": "https://localhost:8080/"
        },
        "outputId": "fb840ce4-7279-4c32-939e-c9cfac0fd249"
      },
      "source": [
        "# Import linear_kernel\r\n",
        "from sklearn.metrics.pairwise import linear_kernel\r\n",
        "\r\n",
        "# Compute the cosine similarity matrix\r\n",
        "cosine_sim = linear_kernel(tfidf_matrix, tfidf_matrix)\r\n",
        "print(cosine_sim)"
      ],
      "execution_count": 30,
      "outputs": [
        {
          "output_type": "stream",
          "text": [
            "[[1.         0.         0.         ... 0.         0.         0.        ]\n",
            " [0.         1.         0.         ... 0.02160533 0.         0.        ]\n",
            " [0.         0.         1.         ... 0.01488159 0.         0.        ]\n",
            " ...\n",
            " [0.         0.02160533 0.01488159 ... 1.         0.01609091 0.00701914]\n",
            " [0.         0.         0.         ... 0.01609091 1.         0.01171696]\n",
            " [0.         0.         0.         ... 0.00701914 0.01171696 1.        ]]\n"
          ],
          "name": "stdout"
        }
      ]
    },
    {
      "cell_type": "code",
      "metadata": {
        "id": "wvl61Gb4KMzP"
      },
      "source": [
        "#Construct a reverse map of indices and movie titles\r\n",
        "indices = pd.Series(df2.index, index=df2['title']).drop_duplicates()"
      ],
      "execution_count": 7,
      "outputs": []
    },
    {
      "cell_type": "code",
      "metadata": {
        "id": "iqKuvRhVKh3D"
      },
      "source": [
        "# Function that takes in movie title as input and outputs most similar movies\r\n",
        "def get_recommendations(title, cosine_sim=cosine_sim):\r\n",
        "    # Get the index of the movie that matches the title\r\n",
        "    idx = indices[title]\r\n",
        "    \r\n",
        "    # Get the pairwsie similarity scores of all movies with that movie\r\n",
        "    sim_scores = list(enumerate(cosine_sim[idx]))\r\n",
        "    \r\n",
        "    # Sort the movies based on the similarity scores\r\n",
        "    sim_scores = sorted(sim_scores, key=lambda x: x[1], reverse=True)\r\n",
        "\r\n",
        "    # Get the scores of the 10 most similar movies\r\n",
        "    sim_scores = sim_scores[1:11]\r\n",
        "\r\n",
        "    # Get the movie indices\r\n",
        "    movie_indices = [i[0] for i in sim_scores]\r\n",
        "\r\n",
        "    # Return the top 10 most similar movies\r\n",
        "    return df2['title'].iloc[movie_indices]"
      ],
      "execution_count": 31,
      "outputs": []
    },
    {
      "cell_type": "code",
      "metadata": {
        "id": "D1zj1t7RKkXM",
        "colab": {
          "base_uri": "https://localhost:8080/"
        },
        "outputId": "284b5a7a-71e2-4138-dc79-da2e65f4dfe3"
      },
      "source": [
        "get_recommendations('The Dark Knight Rises')"
      ],
      "execution_count": 9,
      "outputs": [
        {
          "output_type": "execute_result",
          "data": {
            "text/plain": [
              "65                              The Dark Knight\n",
              "299                              Batman Forever\n",
              "428                              Batman Returns\n",
              "1359                                     Batman\n",
              "3854    Batman: The Dark Knight Returns, Part 2\n",
              "119                               Batman Begins\n",
              "2507                                  Slow Burn\n",
              "9            Batman v Superman: Dawn of Justice\n",
              "1181                                        JFK\n",
              "210                              Batman & Robin\n",
              "Name: title, dtype: object"
            ]
          },
          "metadata": {
            "tags": []
          },
          "execution_count": 9
        }
      ]
    },
    {
      "cell_type": "code",
      "metadata": {
        "id": "d15qKFTsKnne",
        "colab": {
          "base_uri": "https://localhost:8080/"
        },
        "outputId": "6a4be940-b4f6-4cd1-8b82-10ce0a5629da"
      },
      "source": [
        "get_recommendations('The Avengers')"
      ],
      "execution_count": 10,
      "outputs": [
        {
          "output_type": "execute_result",
          "data": {
            "text/plain": [
              "7               Avengers: Age of Ultron\n",
              "3144                            Plastic\n",
              "1715                            Timecop\n",
              "4124                 This Thing of Ours\n",
              "3311              Thank You for Smoking\n",
              "3033                      The Corruptor\n",
              "588     Wall Street: Money Never Sleeps\n",
              "2136         Team America: World Police\n",
              "1468                       The Fountain\n",
              "1286                        Snowpiercer\n",
              "Name: title, dtype: object"
            ]
          },
          "metadata": {
            "tags": []
          },
          "execution_count": 10
        }
      ]
    },
    {
      "cell_type": "markdown",
      "metadata": {
        "id": "4xKoF9F7K3H0"
      },
      "source": [
        "## Credits, Genres and Keywords Based Recommender"
      ]
    },
    {
      "cell_type": "code",
      "metadata": {
        "id": "HiIQ17cXLT1l"
      },
      "source": [
        "# Parse the stringified features into their corresponding python objects\r\n",
        "from ast import literal_eval\r\n",
        "\r\n",
        "features = ['cast', 'crew', 'keywords', 'genres']\r\n",
        "for feature in features:\r\n",
        "    df2[feature] = df2[feature].apply(literal_eval)"
      ],
      "execution_count": 11,
      "outputs": []
    },
    {
      "cell_type": "code",
      "metadata": {
        "id": "RskSrwBhLcQw"
      },
      "source": [
        "# Get the director's name from the crew feature. If director is not listed, return NaN\r\n",
        "def get_director(x):\r\n",
        "    for i in x:\r\n",
        "        if i['job'] == 'Director':\r\n",
        "            return i['name']\r\n",
        "    return np.nan\r\n",
        "\r\n",
        "# Returns the list top 3 elements or entire list; whichever is more.\r\n",
        "def get_list(x):\r\n",
        "    if isinstance(x, list):\r\n",
        "        names = [i['name'] for i in x]\r\n",
        "        #Check if more than 3 elements exist. If yes, return only first three. If no, return entire list.\r\n",
        "        if len(names) > 3:\r\n",
        "            names = names[:3]\r\n",
        "        return names\r\n",
        "\r\n",
        "    #Return empty list in case of missing/malformed data\r\n",
        "    return []"
      ],
      "execution_count": 12,
      "outputs": []
    },
    {
      "cell_type": "code",
      "metadata": {
        "id": "MnbRefcSL__j"
      },
      "source": [
        "# Define new director, cast, genres and keywords features that are in a suitable form.\r\n",
        "df2['director'] = df2['crew'].apply(get_director)\r\n",
        "\r\n",
        "features = ['cast', 'keywords', 'genres']\r\n",
        "for feature in features:\r\n",
        "    df2[feature] = df2[feature].apply(get_list)"
      ],
      "execution_count": 13,
      "outputs": []
    },
    {
      "cell_type": "code",
      "metadata": {
        "id": "z6Zy_SSTMCR8",
        "colab": {
          "base_uri": "https://localhost:8080/",
          "height": 141
        },
        "outputId": "a314f9bc-d6f6-4d92-98d0-2b4f22cba2a0"
      },
      "source": [
        "# Print the new features of the first 3 films\r\n",
        "df2[['title', 'cast', 'director', 'keywords', 'genres']].head(3)"
      ],
      "execution_count": 14,
      "outputs": [
        {
          "output_type": "execute_result",
          "data": {
            "text/html": [
              "<div>\n",
              "<style scoped>\n",
              "    .dataframe tbody tr th:only-of-type {\n",
              "        vertical-align: middle;\n",
              "    }\n",
              "\n",
              "    .dataframe tbody tr th {\n",
              "        vertical-align: top;\n",
              "    }\n",
              "\n",
              "    .dataframe thead th {\n",
              "        text-align: right;\n",
              "    }\n",
              "</style>\n",
              "<table border=\"1\" class=\"dataframe\">\n",
              "  <thead>\n",
              "    <tr style=\"text-align: right;\">\n",
              "      <th></th>\n",
              "      <th>title</th>\n",
              "      <th>cast</th>\n",
              "      <th>director</th>\n",
              "      <th>keywords</th>\n",
              "      <th>genres</th>\n",
              "    </tr>\n",
              "  </thead>\n",
              "  <tbody>\n",
              "    <tr>\n",
              "      <th>0</th>\n",
              "      <td>Avatar</td>\n",
              "      <td>[Sam Worthington, Zoe Saldana, Sigourney Weaver]</td>\n",
              "      <td>James Cameron</td>\n",
              "      <td>[culture clash, future, space war]</td>\n",
              "      <td>[Action, Adventure, Fantasy]</td>\n",
              "    </tr>\n",
              "    <tr>\n",
              "      <th>1</th>\n",
              "      <td>Pirates of the Caribbean: At World's End</td>\n",
              "      <td>[Johnny Depp, Orlando Bloom, Keira Knightley]</td>\n",
              "      <td>Gore Verbinski</td>\n",
              "      <td>[ocean, drug abuse, exotic island]</td>\n",
              "      <td>[Adventure, Fantasy, Action]</td>\n",
              "    </tr>\n",
              "    <tr>\n",
              "      <th>2</th>\n",
              "      <td>Spectre</td>\n",
              "      <td>[Daniel Craig, Christoph Waltz, Léa Seydoux]</td>\n",
              "      <td>Sam Mendes</td>\n",
              "      <td>[spy, based on novel, secret agent]</td>\n",
              "      <td>[Action, Adventure, Crime]</td>\n",
              "    </tr>\n",
              "  </tbody>\n",
              "</table>\n",
              "</div>"
            ],
            "text/plain": [
              "                                      title  ...                        genres\n",
              "0                                    Avatar  ...  [Action, Adventure, Fantasy]\n",
              "1  Pirates of the Caribbean: At World's End  ...  [Adventure, Fantasy, Action]\n",
              "2                                   Spectre  ...    [Action, Adventure, Crime]\n",
              "\n",
              "[3 rows x 5 columns]"
            ]
          },
          "metadata": {
            "tags": []
          },
          "execution_count": 14
        }
      ]
    },
    {
      "cell_type": "code",
      "metadata": {
        "id": "HfPh2_6dWiRU"
      },
      "source": [
        "# Function to convert all strings to lower case and strip names of spaces\r\n",
        "def clean_data(x):\r\n",
        "    if isinstance(x, list):\r\n",
        "        return [str.lower(i.replace(\" \", \"\")) for i in x]\r\n",
        "    else:\r\n",
        "        #Check if director exists. If not, return empty string\r\n",
        "        if isinstance(x, str):\r\n",
        "            return str.lower(x.replace(\" \", \"\"))\r\n",
        "        else:\r\n",
        "            return ''"
      ],
      "execution_count": 15,
      "outputs": []
    },
    {
      "cell_type": "code",
      "metadata": {
        "id": "dS-F94IAWjwG"
      },
      "source": [
        "# Apply clean_data function to your features.\r\n",
        "features = ['cast', 'keywords', 'director', 'genres']\r\n",
        "\r\n",
        "for feature in features:\r\n",
        "    df2[feature] = df2[feature].apply(clean_data)"
      ],
      "execution_count": 16,
      "outputs": []
    },
    {
      "cell_type": "code",
      "metadata": {
        "id": "jqsQHqhGWq4s"
      },
      "source": [
        "def create_soup(x):\r\n",
        "    return ' '.join(x['keywords']) + ' ' + ' '.join(x['cast']) + ' ' + x['director'] + ' ' + ' '.join(x['genres'])\r\n",
        "df2['soup'] = df2.apply(create_soup, axis=1)"
      ],
      "execution_count": 17,
      "outputs": []
    },
    {
      "cell_type": "code",
      "metadata": {
        "id": "HrwDo2BOWutk"
      },
      "source": [
        "# Import CountVectorizer and create the count matrix\r\n",
        "from sklearn.feature_extraction.text import CountVectorizer\r\n",
        "\r\n",
        "count = CountVectorizer(stop_words='english')\r\n",
        "count_matrix = count.fit_transform(df2['soup'])"
      ],
      "execution_count": 18,
      "outputs": []
    },
    {
      "cell_type": "code",
      "metadata": {
        "id": "pf5uEbAYW9mn"
      },
      "source": [
        "# Compute the Cosine Similarity matrix based on the count_matrix\r\n",
        "from sklearn.metrics.pairwise import cosine_similarity\r\n",
        "\r\n",
        "cosine_sim2 = cosine_similarity(count_matrix, count_matrix)"
      ],
      "execution_count": 19,
      "outputs": []
    },
    {
      "cell_type": "code",
      "metadata": {
        "id": "oX8dy9rlW_8R"
      },
      "source": [
        "# Reset index of our main DataFrame and construct reverse mapping as before\r\n",
        "df2 = df2.reset_index()\r\n",
        "indices = pd.Series(df2.index, index=df2['title'])"
      ],
      "execution_count": 20,
      "outputs": []
    },
    {
      "cell_type": "code",
      "metadata": {
        "id": "AjiK7r10XCle",
        "colab": {
          "base_uri": "https://localhost:8080/"
        },
        "outputId": "eb20d866-5c03-468f-fab4-ebffa89548e4"
      },
      "source": [
        "get_recommendations('The Dark Knight Rises', cosine_sim2)"
      ],
      "execution_count": 32,
      "outputs": [
        {
          "output_type": "execute_result",
          "data": {
            "text/plain": [
              "65               The Dark Knight\n",
              "119                Batman Begins\n",
              "4638    Amidst the Devil's Wings\n",
              "1196                The Prestige\n",
              "3073           Romeo Is Bleeding\n",
              "3326              Black November\n",
              "1503                      Takers\n",
              "1986                      Faster\n",
              "303                     Catwoman\n",
              "747               Gangster Squad\n",
              "Name: title, dtype: object"
            ]
          },
          "metadata": {
            "tags": []
          },
          "execution_count": 32
        }
      ]
    },
    {
      "cell_type": "code",
      "metadata": {
        "id": "ocezSPVPXFaP",
        "colab": {
          "base_uri": "https://localhost:8080/"
        },
        "outputId": "54c157bf-5e5e-4e5a-ecff-ddf72ae5b4dd"
      },
      "source": [
        "get_recommendations('The Godfather', cosine_sim2)"
      ],
      "execution_count": 22,
      "outputs": [
        {
          "output_type": "execute_result",
          "data": {
            "text/plain": [
              "867      The Godfather: Part III\n",
              "2731      The Godfather: Part II\n",
              "4638    Amidst the Devil's Wings\n",
              "2649           The Son of No One\n",
              "1525              Apocalypse Now\n",
              "1018             The Cotton Club\n",
              "1170     The Talented Mr. Ripley\n",
              "1209               The Rainmaker\n",
              "1394               Donnie Brasco\n",
              "1850                    Scarface\n",
              "Name: title, dtype: object"
            ]
          },
          "metadata": {
            "tags": []
          },
          "execution_count": 22
        }
      ]
    }
  ]
}