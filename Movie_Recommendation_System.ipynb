{
  "nbformat": 4,
  "nbformat_minor": 0,
  "metadata": {
    "colab": {
      "name": "Movie Recommendation System.ipynb",
      "provenance": [],
      "authorship_tag": "ABX9TyMpXTMpMApQMVL7ab6ascZ+",
      "include_colab_link": true
    },
    "kernelspec": {
      "name": "python3",
      "display_name": "Python 3"
    }
  },
  "cells": [
    {
      "cell_type": "markdown",
      "metadata": {
        "id": "view-in-github",
        "colab_type": "text"
      },
      "source": [
        "<a href=\"https://colab.research.google.com/github/junheeyoon/The-Age-of-Recommender-Systems/blob/master/Movie_Recommendation_System.ipynb\" target=\"_parent\"><img src=\"https://colab.research.google.com/assets/colab-badge.svg\" alt=\"Open In Colab\"/></a>"
      ]
    },
    {
      "cell_type": "markdown",
      "metadata": {
        "id": "myHGzbLuDTum"
      },
      "source": [
        "# 데이터 load"
      ]
    },
    {
      "cell_type": "code",
      "metadata": {
        "id": "kBnZZr5MFM6i",
        "colab": {
          "base_uri": "https://localhost:8080/"
        },
        "outputId": "e3713df6-0eb7-40f2-e336-87d4fe8ceb59"
      },
      "source": [
        "from google.colab import drive\r\n",
        "drive.mount('/content/drive')\r\n",
        "\r\n",
        "# 현재 경로 확인\r\n",
        "import os\r\n",
        "print(os.path.abspath(os.curdir))\r\n",
        "\r\n",
        "# Root 경로 설정\r\n",
        "import os\r\n",
        "os.chdir('/content/drive/MyDrive/데이터분석')"
      ],
      "execution_count": null,
      "outputs": [
        {
          "output_type": "stream",
          "text": [
            "Mounted at /content/drive\n",
            "/content\n"
          ],
          "name": "stdout"
        }
      ]
    },
    {
      "cell_type": "code",
      "metadata": {
        "id": "uPdA4vzjDbr6"
      },
      "source": [
        "import pandas as pd \r\n",
        "import numpy as np \r\n",
        "df1=pd.read_csv('./data/tmdb/tmdb_5000_credits.csv')\r\n",
        "df2=pd.read_csv('./data/tmdb/tmdb_5000_movies.csv')"
      ],
      "execution_count": null,
      "outputs": []
    },
    {
      "cell_type": "code",
      "metadata": {
        "id": "pJcMdrJLGxgx"
      },
      "source": [
        "df1.columns = ['id','tittle','cast','crew']\r\n",
        "df2= df2.merge(df1,on='id')\r\n",
        "\r\n",
        "df2.head(5)"
      ],
      "execution_count": null,
      "outputs": []
    },
    {
      "cell_type": "markdown",
      "metadata": {
        "id": "KvN6vOaeJC8o"
      },
      "source": [
        "# Demographic Filtering"
      ]
    },
    {
      "cell_type": "markdown",
      "metadata": {
        "id": "ua2P8aJkJIqQ"
      },
      "source": [
        "## v(vote_count) and R (vote_average) "
      ]
    },
    {
      "cell_type": "code",
      "metadata": {
        "id": "6BpeUdJKHrwV",
        "colab": {
          "base_uri": "https://localhost:8080/"
        },
        "outputId": "62a5f120-c04a-42e8-a5b0-267392908b7e"
      },
      "source": [
        "C= df2['vote_average'].mean()\r\n",
        "C"
      ],
      "execution_count": null,
      "outputs": [
        {
          "output_type": "execute_result",
          "data": {
            "text/plain": [
              "6.092171559442011"
            ]
          },
          "metadata": {
            "tags": []
          },
          "execution_count": 56
        }
      ]
    },
    {
      "cell_type": "code",
      "metadata": {
        "id": "65ELHep8H0U8",
        "colab": {
          "base_uri": "https://localhost:8080/"
        },
        "outputId": "5c78caea-65ac-4bea-fea1-8e1e37de89b6"
      },
      "source": [
        "m= df2['vote_count'].quantile(0.9)\r\n",
        "m"
      ],
      "execution_count": null,
      "outputs": [
        {
          "output_type": "execute_result",
          "data": {
            "text/plain": [
              "1838.4000000000015"
            ]
          },
          "metadata": {
            "tags": []
          },
          "execution_count": 57
        }
      ]
    },
    {
      "cell_type": "code",
      "metadata": {
        "id": "nbdz0DNDH0Ir",
        "colab": {
          "base_uri": "https://localhost:8080/"
        },
        "outputId": "58d97b9d-13f1-4bb4-acb8-93aa5e07f318"
      },
      "source": [
        "q_movies = df2.copy().loc[df2['vote_count'] >= m]\r\n",
        "q_movies.shape"
      ],
      "execution_count": null,
      "outputs": [
        {
          "output_type": "execute_result",
          "data": {
            "text/plain": [
              "(481, 23)"
            ]
          },
          "metadata": {
            "tags": []
          },
          "execution_count": 58
        }
      ]
    },
    {
      "cell_type": "code",
      "metadata": {
        "id": "0D7jhLOrIKzX"
      },
      "source": [
        "def weighted_rating(x, m=m, C=C):\r\n",
        "    v = x['vote_count']\r\n",
        "    R = x['vote_average']\r\n",
        "    # Calculation based on the IMDB formula\r\n",
        "    return (v/(v+m) * R) + (m/(m+v) * C)\r\n",
        "\r\n",
        "# Define a new feature 'score' and calculate its value with `weighted_rating()`\r\n",
        "q_movies['score'] = q_movies.apply(weighted_rating, axis=1)"
      ],
      "execution_count": null,
      "outputs": []
    },
    {
      "cell_type": "code",
      "metadata": {
        "id": "EweIZm20IVfR",
        "colab": {
          "base_uri": "https://localhost:8080/",
          "height": 356
        },
        "outputId": "4b885fb2-49ee-4d84-cb8c-50dd5d0e7bb2"
      },
      "source": [
        "#Sort movies based on score calculated above\r\n",
        "q_movies = q_movies.sort_values('score', ascending=False)\r\n",
        "\r\n",
        "#Print the top 15 movies\r\n",
        "q_movies[['title', 'vote_count', 'vote_average', 'score']].head(10)"
      ],
      "execution_count": null,
      "outputs": [
        {
          "output_type": "execute_result",
          "data": {
            "text/html": [
              "<div>\n",
              "<style scoped>\n",
              "    .dataframe tbody tr th:only-of-type {\n",
              "        vertical-align: middle;\n",
              "    }\n",
              "\n",
              "    .dataframe tbody tr th {\n",
              "        vertical-align: top;\n",
              "    }\n",
              "\n",
              "    .dataframe thead th {\n",
              "        text-align: right;\n",
              "    }\n",
              "</style>\n",
              "<table border=\"1\" class=\"dataframe\">\n",
              "  <thead>\n",
              "    <tr style=\"text-align: right;\">\n",
              "      <th></th>\n",
              "      <th>title</th>\n",
              "      <th>vote_count</th>\n",
              "      <th>vote_average</th>\n",
              "      <th>score</th>\n",
              "    </tr>\n",
              "  </thead>\n",
              "  <tbody>\n",
              "    <tr>\n",
              "      <th>1881</th>\n",
              "      <td>The Shawshank Redemption</td>\n",
              "      <td>8205</td>\n",
              "      <td>8.5</td>\n",
              "      <td>8.059258</td>\n",
              "    </tr>\n",
              "    <tr>\n",
              "      <th>662</th>\n",
              "      <td>Fight Club</td>\n",
              "      <td>9413</td>\n",
              "      <td>8.3</td>\n",
              "      <td>7.939256</td>\n",
              "    </tr>\n",
              "    <tr>\n",
              "      <th>65</th>\n",
              "      <td>The Dark Knight</td>\n",
              "      <td>12002</td>\n",
              "      <td>8.2</td>\n",
              "      <td>7.920020</td>\n",
              "    </tr>\n",
              "    <tr>\n",
              "      <th>3232</th>\n",
              "      <td>Pulp Fiction</td>\n",
              "      <td>8428</td>\n",
              "      <td>8.3</td>\n",
              "      <td>7.904645</td>\n",
              "    </tr>\n",
              "    <tr>\n",
              "      <th>96</th>\n",
              "      <td>Inception</td>\n",
              "      <td>13752</td>\n",
              "      <td>8.1</td>\n",
              "      <td>7.863239</td>\n",
              "    </tr>\n",
              "    <tr>\n",
              "      <th>3337</th>\n",
              "      <td>The Godfather</td>\n",
              "      <td>5893</td>\n",
              "      <td>8.4</td>\n",
              "      <td>7.851236</td>\n",
              "    </tr>\n",
              "    <tr>\n",
              "      <th>95</th>\n",
              "      <td>Interstellar</td>\n",
              "      <td>10867</td>\n",
              "      <td>8.1</td>\n",
              "      <td>7.809479</td>\n",
              "    </tr>\n",
              "    <tr>\n",
              "      <th>809</th>\n",
              "      <td>Forrest Gump</td>\n",
              "      <td>7927</td>\n",
              "      <td>8.2</td>\n",
              "      <td>7.803188</td>\n",
              "    </tr>\n",
              "    <tr>\n",
              "      <th>329</th>\n",
              "      <td>The Lord of the Rings: The Return of the King</td>\n",
              "      <td>8064</td>\n",
              "      <td>8.1</td>\n",
              "      <td>7.727243</td>\n",
              "    </tr>\n",
              "    <tr>\n",
              "      <th>1990</th>\n",
              "      <td>The Empire Strikes Back</td>\n",
              "      <td>5879</td>\n",
              "      <td>8.2</td>\n",
              "      <td>7.697884</td>\n",
              "    </tr>\n",
              "  </tbody>\n",
              "</table>\n",
              "</div>"
            ],
            "text/plain": [
              "                                              title  ...     score\n",
              "1881                       The Shawshank Redemption  ...  8.059258\n",
              "662                                      Fight Club  ...  7.939256\n",
              "65                                  The Dark Knight  ...  7.920020\n",
              "3232                                   Pulp Fiction  ...  7.904645\n",
              "96                                        Inception  ...  7.863239\n",
              "3337                                  The Godfather  ...  7.851236\n",
              "95                                     Interstellar  ...  7.809479\n",
              "809                                    Forrest Gump  ...  7.803188\n",
              "329   The Lord of the Rings: The Return of the King  ...  7.727243\n",
              "1990                        The Empire Strikes Back  ...  7.697884\n",
              "\n",
              "[10 rows x 4 columns]"
            ]
          },
          "metadata": {
            "tags": []
          },
          "execution_count": 60
        }
      ]
    },
    {
      "cell_type": "markdown",
      "metadata": {
        "id": "6QEGqycrItO9"
      },
      "source": [
        "## popularity"
      ]
    },
    {
      "cell_type": "code",
      "metadata": {
        "id": "ePz18GgLItkR",
        "colab": {
          "base_uri": "https://localhost:8080/",
          "height": 312
        },
        "outputId": "816c0ca7-1e0a-4349-a9bc-6550b4aed73b"
      },
      "source": [
        "pop= df2.sort_values('popularity', ascending=False)\r\n",
        "import matplotlib.pyplot as plt\r\n",
        "plt.figure(figsize=(12,4))\r\n",
        "\r\n",
        "plt.barh(pop['title'].head(6),pop['popularity'].head(6), align='center',\r\n",
        "        color='skyblue')\r\n",
        "plt.gca().invert_yaxis()\r\n",
        "plt.xlabel(\"Popularity\")\r\n",
        "plt.title(\"Popular Movies\")"
      ],
      "execution_count": null,
      "outputs": [
        {
          "output_type": "execute_result",
          "data": {
            "text/plain": [
              "Text(0.5, 1.0, 'Popular Movies')"
            ]
          },
          "metadata": {
            "tags": []
          },
          "execution_count": 39
        },
        {
          "output_type": "display_data",
          "data": {
            "image/png": "[encoded data removed]",
            "text/plain": [
              "<Figure size 864x288 with 1 Axes>"
            ]
          },
          "metadata": {
            "tags": [],
            "needs_background": "light"
          }
        }
      ]
    },
    {
      "cell_type": "markdown",
      "metadata": {
        "id": "A20Exo2LJeDB"
      },
      "source": [
        "# Content Based Filtering"
      ]
    },
    {
      "cell_type": "markdown",
      "metadata": {
        "id": "F6JEAfWhKyRk"
      },
      "source": [
        "## Plot description based Recommender"
      ]
    },
    {
      "cell_type": "code",
      "metadata": {
        "id": "DZ3cU50iJqQj",
        "colab": {
          "base_uri": "https://localhost:8080/"
        },
        "outputId": "906c6134-f06a-4235-db18-379f51de02ac"
      },
      "source": [
        "df2['overview'].head(5)"
      ],
      "execution_count": null,
      "outputs": [
        {
          "output_type": "execute_result",
          "data": {
            "text/plain": [
              "0    In the 22nd century, a paraplegic Marine is di...\n",
              "1    Captain Barbossa, long believed to be dead, ha...\n",
              "2    A cryptic message from Bond’s past sends him o...\n",
              "3    Following the death of District Attorney Harve...\n",
              "4    John Carter is a war-weary, former military ca...\n",
              "Name: overview, dtype: object"
            ]
          },
          "metadata": {
            "tags": []
          },
          "execution_count": 4
        }
      ]
    },
    {
      "cell_type": "code",
      "metadata": {
        "id": "Fiw1zB_HJ9Nj",
        "colab": {
          "base_uri": "https://localhost:8080/"
        },
        "outputId": "f895b71c-83f8-4ff3-df45-4be70ddb6a06"
      },
      "source": [
        "#Import TfIdfVectorizer from scikit-learn\r\n",
        "from sklearn.feature_extraction.text import TfidfVectorizer\r\n",
        "\r\n",
        "#Define a TF-IDF Vectorizer Object. Remove all english stop words such as 'the', 'a'\r\n",
        "tfidf = TfidfVectorizer(stop_words='english')\r\n",
        "\r\n",
        "#Replace NaN with an empty string\r\n",
        "df2['overview'] = df2['overview'].fillna('')\r\n",
        "\r\n",
        "#Construct the required TF-IDF matrix by fitting and transforming the data\r\n",
        "tfidf_matrix = tfidf.fit_transform(df2['overview'])\r\n",
        "\r\n",
        "#Output the shape of tfidf_matrix\r\n",
        "tfidf_matrix.shape"
      ],
      "execution_count": null,
      "outputs": [
        {
          "output_type": "execute_result",
          "data": {
            "text/plain": [
              "(4803, 20978)"
            ]
          },
          "metadata": {
            "tags": []
          },
          "execution_count": 61
        }
      ]
    },
    {
      "cell_type": "code",
      "metadata": {
        "id": "AlccKb-XKFP9",
        "colab": {
          "base_uri": "https://localhost:8080/"
        },
        "outputId": "b35282c8-af8c-4e3a-fa33-49646b79e3e0"
      },
      "source": [
        "# Import linear_kernel\r\n",
        "from sklearn.metrics.pairwise import linear_kernel\r\n",
        "\r\n",
        "# Compute the cosine similarity matrix\r\n",
        "cosine_sim = linear_kernel(tfidf_matrix, tfidf_matrix)\r\n",
        "print(cosine_sim)"
      ],
      "execution_count": null,
      "outputs": [
        {
          "output_type": "stream",
          "text": [
            "[[1.         0.         0.         ... 0.         0.         0.        ]\n",
            " [0.         1.         0.         ... 0.02160533 0.         0.        ]\n",
            " [0.         0.         1.         ... 0.01488159 0.         0.        ]\n",
            " ...\n",
            " [0.         0.02160533 0.01488159 ... 1.         0.01609091 0.00701914]\n",
            " [0.         0.         0.         ... 0.01609091 1.         0.01171696]\n",
            " [0.         0.         0.         ... 0.00701914 0.01171696 1.        ]]\n"
          ],
          "name": "stdout"
        }
      ]
    },
    {
      "cell_type": "code",
      "metadata": {
        "id": "wvl61Gb4KMzP"
      },
      "source": [
        "#Construct a reverse map of indices and movie titles\r\n",
        "indices = pd.Series(df2.index, index=df2['title']).drop_duplicates()"
      ],
      "execution_count": null,
      "outputs": []
    },
    {
      "cell_type": "code",
      "metadata": {
        "id": "iqKuvRhVKh3D"
      },
      "source": [
        "# Function that takes in movie title as input and outputs most similar movies\r\n",
        "def get_recommendations(title, cosine_sim=cosine_sim):\r\n",
        "    # Get the index of the movie that matches the title\r\n",
        "    idx = indices[title]\r\n",
        "    \r\n",
        "    # Get the pairwsie similarity scores of all movies with that movie\r\n",
        "    sim_scores = list(enumerate(cosine_sim[idx]))\r\n",
        "    \r\n",
        "    # Sort the movies based on the similarity scores\r\n",
        "    sim_scores = sorted(sim_scores, key=lambda x: x[1], reverse=True)\r\n",
        "\r\n",
        "    # Get the scores of the 10 most similar movies\r\n",
        "    sim_scores = sim_scores[1:11]\r\n",
        "\r\n",
        "    # Get the movie indices\r\n",
        "    movie_indices = [i[0] for i in sim_scores]\r\n",
        "\r\n",
        "    # Return the top 10 most similar movies\r\n",
        "    return df2['title'].iloc[movie_indices]"
      ],
      "execution_count": null,
      "outputs": []
    },
    {
      "cell_type": "code",
      "metadata": {
        "id": "D1zj1t7RKkXM",
        "colab": {
          "base_uri": "https://localhost:8080/"
        },
        "outputId": "7c3930a6-b85d-4174-d03e-6103872f5d56"
      },
      "source": [
        "get_recommendations('The Dark Knight Rises')"
      ],
      "execution_count": null,
      "outputs": [
        {
          "output_type": "execute_result",
          "data": {
            "text/plain": [
              "65                              The Dark Knight\n",
              "299                              Batman Forever\n",
              "428                              Batman Returns\n",
              "1359                                     Batman\n",
              "3854    Batman: The Dark Knight Returns, Part 2\n",
              "119                               Batman Begins\n",
              "2507                                  Slow Burn\n",
              "9            Batman v Superman: Dawn of Justice\n",
              "1181                                        JFK\n",
              "210                              Batman & Robin\n",
              "Name: title, dtype: object"
            ]
          },
          "metadata": {
            "tags": []
          },
          "execution_count": 65
        }
      ]
    },
    {
      "cell_type": "code",
      "metadata": {
        "id": "d15qKFTsKnne",
        "colab": {
          "base_uri": "https://localhost:8080/"
        },
        "outputId": "7d5ddfca-3a3e-423e-df68-09b493c3c3f9"
      },
      "source": [
        "get_recommendations('The Avengers')"
      ],
      "execution_count": null,
      "outputs": [
        {
          "output_type": "execute_result",
          "data": {
            "text/plain": [
              "7               Avengers: Age of Ultron\n",
              "3144                            Plastic\n",
              "1715                            Timecop\n",
              "4124                 This Thing of Ours\n",
              "3311              Thank You for Smoking\n",
              "3033                      The Corruptor\n",
              "588     Wall Street: Money Never Sleeps\n",
              "2136         Team America: World Police\n",
              "1468                       The Fountain\n",
              "1286                        Snowpiercer\n",
              "Name: title, dtype: object"
            ]
          },
          "metadata": {
            "tags": []
          },
          "execution_count": 73
        }
      ]
    },
    {
      "cell_type": "markdown",
      "metadata": {
        "id": "4xKoF9F7K3H0"
      },
      "source": [
        "## Credits, Genres and Keywords Based Recommender"
      ]
    },
    {
      "cell_type": "code",
      "metadata": {
        "id": "HiIQ17cXLT1l"
      },
      "source": [
        "# Parse the stringified features into their corresponding python objects\r\n",
        "from ast import literal_eval\r\n",
        "\r\n",
        "features = ['cast', 'crew', 'keywords', 'genres']\r\n",
        "for feature in features:\r\n",
        "    df2[feature] = df2[feature].apply(literal_eval)"
      ],
      "execution_count": null,
      "outputs": []
    },
    {
      "cell_type": "code",
      "metadata": {
        "id": "RskSrwBhLcQw"
      },
      "source": [
        "# Get the director's name from the crew feature. If director is not listed, return NaN\r\n",
        "def get_director(x):\r\n",
        "    for i in x:\r\n",
        "        if i['job'] == 'Director':\r\n",
        "            return i['name']\r\n",
        "    return np.nan\r\n",
        "\r\n",
        "# Returns the list top 3 elements or entire list; whichever is more.\r\n",
        "def get_list(x):\r\n",
        "    if isinstance(x, list):\r\n",
        "        names = [i['name'] for i in x]\r\n",
        "        #Check if more than 3 elements exist. If yes, return only first three. If no, return entire list.\r\n",
        "        if len(names) > 3:\r\n",
        "            names = names[:3]\r\n",
        "        return names\r\n",
        "\r\n",
        "    #Return empty list in case of missing/malformed data\r\n",
        "    return []"
      ],
      "execution_count": null,
      "outputs": []
    },
    {
      "cell_type": "code",
      "metadata": {
        "id": "MnbRefcSL__j"
      },
      "source": [
        "# Define new director, cast, genres and keywords features that are in a suitable form.\r\n",
        "df2['director'] = df2['crew'].apply(get_director)\r\n",
        "\r\n",
        "features = ['cast', 'keywords', 'genres']\r\n",
        "for feature in features:\r\n",
        "    df2[feature] = df2[feature].apply(get_list)"
      ],
      "execution_count": null,
      "outputs": []
    },
    {
      "cell_type": "code",
      "metadata": {
        "id": "z6Zy_SSTMCR8",
        "colab": {
          "base_uri": "https://localhost:8080/",
          "height": 141
        },
        "outputId": "a314f9bc-d6f6-4d92-98d0-2b4f22cba2a0"
      },
      "source": [
        "# Print the new features of the first 3 films\r\n",
        "df2[['title', 'cast', 'director', 'keywords', 'genres']].head(3)"
      ],
      "execution_count": null,
      "outputs": [
        {
          "output_type": "execute_result",
          "data": {
            "text/html": [
              "<div>\n",
              "<style scoped>\n",
              "    .dataframe tbody tr th:only-of-type {\n",
              "        vertical-align: middle;\n",
              "    }\n",
              "\n",
              "    .dataframe tbody tr th {\n",
              "        vertical-align: top;\n",
              "    }\n",
              "\n",
              "    .dataframe thead th {\n",
              "        text-align: right;\n",
              "    }\n",
              "</style>\n",
              "<table border=\"1\" class=\"dataframe\">\n",
              "  <thead>\n",
              "    <tr style=\"text-align: right;\">\n",
              "      <th></th>\n",
              "      <th>title</th>\n",
              "      <th>cast</th>\n",
              "      <th>director</th>\n",
              "      <th>keywords</th>\n",
              "      <th>genres</th>\n",
              "    </tr>\n",
              "  </thead>\n",
              "  <tbody>\n",
              "    <tr>\n",
              "      <th>0</th>\n",
              "      <td>Avatar</td>\n",
              "      <td>[Sam Worthington, Zoe Saldana, Sigourney Weaver]</td>\n",
              "      <td>James Cameron</td>\n",
              "      <td>[culture clash, future, space war]</td>\n",
              "      <td>[Action, Adventure, Fantasy]</td>\n",
              "    </tr>\n",
              "    <tr>\n",
              "      <th>1</th>\n",
              "      <td>Pirates of the Caribbean: At World's End</td>\n",
              "      <td>[Johnny Depp, Orlando Bloom, Keira Knightley]</td>\n",
              "      <td>Gore Verbinski</td>\n",
              "      <td>[ocean, drug abuse, exotic island]</td>\n",
              "      <td>[Adventure, Fantasy, Action]</td>\n",
              "    </tr>\n",
              "    <tr>\n",
              "      <th>2</th>\n",
              "      <td>Spectre</td>\n",
              "      <td>[Daniel Craig, Christoph Waltz, Léa Seydoux]</td>\n",
              "      <td>Sam Mendes</td>\n",
              "      <td>[spy, based on novel, secret agent]</td>\n",
              "      <td>[Action, Adventure, Crime]</td>\n",
              "    </tr>\n",
              "  </tbody>\n",
              "</table>\n",
              "</div>"
            ],
            "text/plain": [
              "                                      title  ...                        genres\n",
              "0                                    Avatar  ...  [Action, Adventure, Fantasy]\n",
              "1  Pirates of the Caribbean: At World's End  ...  [Adventure, Fantasy, Action]\n",
              "2                                   Spectre  ...    [Action, Adventure, Crime]\n",
              "\n",
              "[3 rows x 5 columns]"
            ]
          },
          "metadata": {
            "tags": []
          },
          "execution_count": 14
        }
      ]
    },
    {
      "cell_type": "code",
      "metadata": {
        "id": "HfPh2_6dWiRU"
      },
      "source": [
        "# Function to convert all strings to lower case and strip names of spaces\r\n",
        "def clean_data(x):\r\n",
        "    if isinstance(x, list):\r\n",
        "        return [str.lower(i.replace(\" \", \"\")) for i in x]\r\n",
        "    else:\r\n",
        "        #Check if director exists. If not, return empty string\r\n",
        "        if isinstance(x, str):\r\n",
        "            return str.lower(x.replace(\" \", \"\"))\r\n",
        "        else:\r\n",
        "            return ''"
      ],
      "execution_count": null,
      "outputs": []
    },
    {
      "cell_type": "code",
      "metadata": {
        "id": "dS-F94IAWjwG"
      },
      "source": [
        "# Apply clean_data function to your features.\r\n",
        "features = ['cast', 'keywords', 'director', 'genres']\r\n",
        "\r\n",
        "for feature in features:\r\n",
        "    df2[feature] = df2[feature].apply(clean_data)"
      ],
      "execution_count": null,
      "outputs": []
    },
    {
      "cell_type": "code",
      "metadata": {
        "id": "jqsQHqhGWq4s"
      },
      "source": [
        "def create_soup(x):\r\n",
        "    return ' '.join(x['keywords']) + ' ' + ' '.join(x['cast']) + ' ' + x['director'] + ' ' + ' '.join(x['genres'])\r\n",
        "df2['soup'] = df2.apply(create_soup, axis=1)"
      ],
      "execution_count": null,
      "outputs": []
    },
    {
      "cell_type": "code",
      "metadata": {
        "id": "HrwDo2BOWutk"
      },
      "source": [
        "# Import CountVectorizer and create the count matrix\r\n",
        "from sklearn.feature_extraction.text import CountVectorizer\r\n",
        "\r\n",
        "count = CountVectorizer(stop_words='english')\r\n",
        "count_matrix = count.fit_transform(df2['soup'])"
      ],
      "execution_count": null,
      "outputs": []
    },
    {
      "cell_type": "code",
      "metadata": {
        "id": "pf5uEbAYW9mn"
      },
      "source": [
        "# Compute the Cosine Similarity matrix based on the count_matrix\r\n",
        "from sklearn.metrics.pairwise import cosine_similarity\r\n",
        "\r\n",
        "cosine_sim2 = cosine_similarity(count_matrix, count_matrix)"
      ],
      "execution_count": null,
      "outputs": []
    },
    {
      "cell_type": "code",
      "metadata": {
        "id": "oX8dy9rlW_8R"
      },
      "source": [
        "# Reset index of our main DataFrame and construct reverse mapping as before\r\n",
        "df2 = df2.reset_index()\r\n",
        "indices = pd.Series(df2.index, index=df2['title'])"
      ],
      "execution_count": null,
      "outputs": []
    },
    {
      "cell_type": "code",
      "metadata": {
        "id": "AjiK7r10XCle",
        "colab": {
          "base_uri": "https://localhost:8080/"
        },
        "outputId": "eb20d866-5c03-468f-fab4-ebffa89548e4"
      },
      "source": [
        "get_recommendations('The Dark Knight Rises', cosine_sim2)"
      ],
      "execution_count": null,
      "outputs": [
        {
          "output_type": "execute_result",
          "data": {
            "text/plain": [
              "65               The Dark Knight\n",
              "119                Batman Begins\n",
              "4638    Amidst the Devil's Wings\n",
              "1196                The Prestige\n",
              "3073           Romeo Is Bleeding\n",
              "3326              Black November\n",
              "1503                      Takers\n",
              "1986                      Faster\n",
              "303                     Catwoman\n",
              "747               Gangster Squad\n",
              "Name: title, dtype: object"
            ]
          },
          "metadata": {
            "tags": []
          },
          "execution_count": 32
        }
      ]
    },
    {
      "cell_type": "code",
      "metadata": {
        "id": "ocezSPVPXFaP",
        "colab": {
          "base_uri": "https://localhost:8080/",
          "height": 168
        },
        "outputId": "fcbc51e9-9f14-4444-a755-27cd5973335e"
      },
      "source": [
        "get_recommendations('The Godfather', cosine_sim2)"
      ],
      "execution_count": null,
      "outputs": [
        {
          "output_type": "error",
          "ename": "NameError",
          "evalue": "ignored",
          "traceback": [
            "\u001b[0;31m---------------------------------------------------------------------------\u001b[0m",
            "\u001b[0;31mNameError\u001b[0m                                 Traceback (most recent call last)",
            "\u001b[0;32m<ipython-input-72-51eec8c0b592>\u001b[0m in \u001b[0;36m<module>\u001b[0;34m()\u001b[0m\n\u001b[0;32m----> 1\u001b[0;31m \u001b[0mget_recommendations\u001b[0m\u001b[0;34m(\u001b[0m\u001b[0;34m'The Godfather'\u001b[0m\u001b[0;34m,\u001b[0m \u001b[0mcosine_sim2\u001b[0m\u001b[0;34m)\u001b[0m\u001b[0;34m\u001b[0m\u001b[0;34m\u001b[0m\u001b[0m\n\u001b[0m",
            "\u001b[0;31mNameError\u001b[0m: name 'cosine_sim2' is not defined"
          ]
        }
      ]
    },
    {
      "cell_type": "markdown",
      "metadata": {
        "id": "z4hHzYlbS0ii"
      },
      "source": [
        "# Collaborative Filtering"
      ]
    },
    {
      "cell_type": "code",
      "metadata": {
        "colab": {
          "base_uri": "https://localhost:8080/"
        },
        "id": "VEdowtRpTtoP",
        "outputId": "9fbed087-d967-4156-9844-071f63be321f"
      },
      "source": [
        "!pip3 install surprise\r\n",
        "!pip3 install evaluate"
      ],
      "execution_count": null,
      "outputs": [
        {
          "output_type": "stream",
          "text": [
            "Requirement already satisfied: surprise in /usr/local/lib/python3.6/dist-packages (0.1)\n",
            "Requirement already satisfied: scikit-surprise in /usr/local/lib/python3.6/dist-packages (from surprise) (1.1.1)\n",
            "Requirement already satisfied: joblib>=0.11 in /usr/local/lib/python3.6/dist-packages (from scikit-surprise->surprise) (1.0.0)\n",
            "Requirement already satisfied: scipy>=1.0.0 in /usr/local/lib/python3.6/dist-packages (from scikit-surprise->surprise) (1.4.1)\n",
            "Requirement already satisfied: numpy>=1.11.2 in /usr/local/lib/python3.6/dist-packages (from scikit-surprise->surprise) (1.19.5)\n",
            "Requirement already satisfied: six>=1.10.0 in /usr/local/lib/python3.6/dist-packages (from scikit-surprise->surprise) (1.15.0)\n",
            "Requirement already satisfied: evaluate in /usr/local/lib/python3.6/dist-packages (0.0.3)\n",
            "Requirement already satisfied: lightgbm in /usr/local/lib/python3.6/dist-packages (from evaluate) (2.2.3)\n",
            "Requirement already satisfied: scikit-learn in /usr/local/lib/python3.6/dist-packages (from evaluate) (0.22.2.post1)\n",
            "Requirement already satisfied: xgboost in /usr/local/lib/python3.6/dist-packages (from evaluate) (0.90)\n",
            "Requirement already satisfied: pandas in /usr/local/lib/python3.6/dist-packages (from evaluate) (1.1.5)\n",
            "Requirement already satisfied: scipy in /usr/local/lib/python3.6/dist-packages (from lightgbm->evaluate) (1.4.1)\n",
            "Requirement already satisfied: numpy in /usr/local/lib/python3.6/dist-packages (from lightgbm->evaluate) (1.19.5)\n",
            "Requirement already satisfied: joblib>=0.11 in /usr/local/lib/python3.6/dist-packages (from scikit-learn->evaluate) (1.0.0)\n",
            "Requirement already satisfied: python-dateutil>=2.7.3 in /usr/local/lib/python3.6/dist-packages (from pandas->evaluate) (2.8.1)\n",
            "Requirement already satisfied: pytz>=2017.2 in /usr/local/lib/python3.6/dist-packages (from pandas->evaluate) (2018.9)\n",
            "Requirement already satisfied: six>=1.5 in /usr/local/lib/python3.6/dist-packages (from python-dateutil>=2.7.3->pandas->evaluate) (1.15.0)\n"
          ],
          "name": "stdout"
        }
      ]
    },
    {
      "cell_type": "code",
      "metadata": {
        "colab": {
          "base_uri": "https://localhost:8080/",
          "height": 202
        },
        "id": "BTxQziBcTZwO",
        "outputId": "fe1b450c-1597-453e-b438-8e99aa422c64"
      },
      "source": [
        "from surprise import Reader, Dataset, SVD\r\n",
        "from surprise.model_selection import cross_validate\r\n",
        "reader = Reader()\r\n",
        "ratings = pd.read_csv('./data/tmdb/ratings_small.csv')\r\n",
        "ratings.head()"
      ],
      "execution_count": null,
      "outputs": [
        {
          "output_type": "execute_result",
          "data": {
            "text/html": [
              "<div>\n",
              "<style scoped>\n",
              "    .dataframe tbody tr th:only-of-type {\n",
              "        vertical-align: middle;\n",
              "    }\n",
              "\n",
              "    .dataframe tbody tr th {\n",
              "        vertical-align: top;\n",
              "    }\n",
              "\n",
              "    .dataframe thead th {\n",
              "        text-align: right;\n",
              "    }\n",
              "</style>\n",
              "<table border=\"1\" class=\"dataframe\">\n",
              "  <thead>\n",
              "    <tr style=\"text-align: right;\">\n",
              "      <th></th>\n",
              "      <th>userId</th>\n",
              "      <th>movieId</th>\n",
              "      <th>rating</th>\n",
              "      <th>timestamp</th>\n",
              "    </tr>\n",
              "  </thead>\n",
              "  <tbody>\n",
              "    <tr>\n",
              "      <th>0</th>\n",
              "      <td>1</td>\n",
              "      <td>31</td>\n",
              "      <td>2.5</td>\n",
              "      <td>1260759144</td>\n",
              "    </tr>\n",
              "    <tr>\n",
              "      <th>1</th>\n",
              "      <td>1</td>\n",
              "      <td>1029</td>\n",
              "      <td>3.0</td>\n",
              "      <td>1260759179</td>\n",
              "    </tr>\n",
              "    <tr>\n",
              "      <th>2</th>\n",
              "      <td>1</td>\n",
              "      <td>1061</td>\n",
              "      <td>3.0</td>\n",
              "      <td>1260759182</td>\n",
              "    </tr>\n",
              "    <tr>\n",
              "      <th>3</th>\n",
              "      <td>1</td>\n",
              "      <td>1129</td>\n",
              "      <td>2.0</td>\n",
              "      <td>1260759185</td>\n",
              "    </tr>\n",
              "    <tr>\n",
              "      <th>4</th>\n",
              "      <td>1</td>\n",
              "      <td>1172</td>\n",
              "      <td>4.0</td>\n",
              "      <td>1260759205</td>\n",
              "    </tr>\n",
              "  </tbody>\n",
              "</table>\n",
              "</div>"
            ],
            "text/plain": [
              "   userId  movieId  rating   timestamp\n",
              "0       1       31     2.5  1260759144\n",
              "1       1     1029     3.0  1260759179\n",
              "2       1     1061     3.0  1260759182\n",
              "3       1     1129     2.0  1260759185\n",
              "4       1     1172     4.0  1260759205"
            ]
          },
          "metadata": {
            "tags": []
          },
          "execution_count": 23
        }
      ]
    },
    {
      "cell_type": "code",
      "metadata": {
        "id": "xCWLLgwjU13M"
      },
      "source": [
        "data = Dataset.load_from_df(ratings[['userId', 'movieId', 'rating']], reader)"
      ],
      "execution_count": null,
      "outputs": []
    },
    {
      "cell_type": "code",
      "metadata": {
        "colab": {
          "base_uri": "https://localhost:8080/"
        },
        "id": "7IYDWaqXVRim",
        "outputId": "377d7125-e5bf-4899-c1d4-09fc8125d57b"
      },
      "source": [
        "svd = SVD()\r\n",
        "\r\n",
        "cross_validate(svd, data, measures=['RMSE', 'MAE'], cv=5)"
      ],
      "execution_count": null,
      "outputs": [
        {
          "output_type": "execute_result",
          "data": {
            "text/plain": [
              "{'fit_time': (4.832941293716431,\n",
              "  4.857410430908203,\n",
              "  4.847023963928223,\n",
              "  4.782572507858276,\n",
              "  4.82022500038147),\n",
              " 'test_mae': array([0.69550512, 0.68751505, 0.68873953, 0.69240923, 0.68648715]),\n",
              " 'test_rmse': array([0.90301721, 0.89125682, 0.89295451, 0.89870413, 0.89306809]),\n",
              " 'test_time': (0.22546887397766113,\n",
              "  0.2206871509552002,\n",
              "  0.14755511283874512,\n",
              "  0.15794920921325684,\n",
              "  0.22065377235412598)}"
            ]
          },
          "metadata": {
            "tags": []
          },
          "execution_count": 25
        }
      ]
    },
    {
      "cell_type": "code",
      "metadata": {
        "colab": {
          "base_uri": "https://localhost:8080/"
        },
        "id": "Xvoc6zf9VtYz",
        "outputId": "7b47f77f-13da-4dd5-8929-138b2dbfa79c"
      },
      "source": [
        "trainset = data.build_full_trainset()\r\n",
        "svd.fit(trainset)"
      ],
      "execution_count": null,
      "outputs": [
        {
          "output_type": "execute_result",
          "data": {
            "text/plain": [
              "<surprise.prediction_algorithms.matrix_factorization.SVD at 0x7f64194ac3c8>"
            ]
          },
          "metadata": {
            "tags": []
          },
          "execution_count": 26
        }
      ]
    },
    {
      "cell_type": "code",
      "metadata": {
        "colab": {
          "base_uri": "https://localhost:8080/",
          "height": 662
        },
        "id": "kpz68tefV8_g",
        "outputId": "ced5a912-3a0a-4249-b82d-ac8af01abbbf"
      },
      "source": [
        "ratings[ratings['userId'] == 1]"
      ],
      "execution_count": null,
      "outputs": [
        {
          "output_type": "execute_result",
          "data": {
            "text/html": [
              "<div>\n",
              "<style scoped>\n",
              "    .dataframe tbody tr th:only-of-type {\n",
              "        vertical-align: middle;\n",
              "    }\n",
              "\n",
              "    .dataframe tbody tr th {\n",
              "        vertical-align: top;\n",
              "    }\n",
              "\n",
              "    .dataframe thead th {\n",
              "        text-align: right;\n",
              "    }\n",
              "</style>\n",
              "<table border=\"1\" class=\"dataframe\">\n",
              "  <thead>\n",
              "    <tr style=\"text-align: right;\">\n",
              "      <th></th>\n",
              "      <th>userId</th>\n",
              "      <th>movieId</th>\n",
              "      <th>rating</th>\n",
              "      <th>timestamp</th>\n",
              "    </tr>\n",
              "  </thead>\n",
              "  <tbody>\n",
              "    <tr>\n",
              "      <th>0</th>\n",
              "      <td>1</td>\n",
              "      <td>31</td>\n",
              "      <td>2.5</td>\n",
              "      <td>1260759144</td>\n",
              "    </tr>\n",
              "    <tr>\n",
              "      <th>1</th>\n",
              "      <td>1</td>\n",
              "      <td>1029</td>\n",
              "      <td>3.0</td>\n",
              "      <td>1260759179</td>\n",
              "    </tr>\n",
              "    <tr>\n",
              "      <th>2</th>\n",
              "      <td>1</td>\n",
              "      <td>1061</td>\n",
              "      <td>3.0</td>\n",
              "      <td>1260759182</td>\n",
              "    </tr>\n",
              "    <tr>\n",
              "      <th>3</th>\n",
              "      <td>1</td>\n",
              "      <td>1129</td>\n",
              "      <td>2.0</td>\n",
              "      <td>1260759185</td>\n",
              "    </tr>\n",
              "    <tr>\n",
              "      <th>4</th>\n",
              "      <td>1</td>\n",
              "      <td>1172</td>\n",
              "      <td>4.0</td>\n",
              "      <td>1260759205</td>\n",
              "    </tr>\n",
              "    <tr>\n",
              "      <th>5</th>\n",
              "      <td>1</td>\n",
              "      <td>1263</td>\n",
              "      <td>2.0</td>\n",
              "      <td>1260759151</td>\n",
              "    </tr>\n",
              "    <tr>\n",
              "      <th>6</th>\n",
              "      <td>1</td>\n",
              "      <td>1287</td>\n",
              "      <td>2.0</td>\n",
              "      <td>1260759187</td>\n",
              "    </tr>\n",
              "    <tr>\n",
              "      <th>7</th>\n",
              "      <td>1</td>\n",
              "      <td>1293</td>\n",
              "      <td>2.0</td>\n",
              "      <td>1260759148</td>\n",
              "    </tr>\n",
              "    <tr>\n",
              "      <th>8</th>\n",
              "      <td>1</td>\n",
              "      <td>1339</td>\n",
              "      <td>3.5</td>\n",
              "      <td>1260759125</td>\n",
              "    </tr>\n",
              "    <tr>\n",
              "      <th>9</th>\n",
              "      <td>1</td>\n",
              "      <td>1343</td>\n",
              "      <td>2.0</td>\n",
              "      <td>1260759131</td>\n",
              "    </tr>\n",
              "    <tr>\n",
              "      <th>10</th>\n",
              "      <td>1</td>\n",
              "      <td>1371</td>\n",
              "      <td>2.5</td>\n",
              "      <td>1260759135</td>\n",
              "    </tr>\n",
              "    <tr>\n",
              "      <th>11</th>\n",
              "      <td>1</td>\n",
              "      <td>1405</td>\n",
              "      <td>1.0</td>\n",
              "      <td>1260759203</td>\n",
              "    </tr>\n",
              "    <tr>\n",
              "      <th>12</th>\n",
              "      <td>1</td>\n",
              "      <td>1953</td>\n",
              "      <td>4.0</td>\n",
              "      <td>1260759191</td>\n",
              "    </tr>\n",
              "    <tr>\n",
              "      <th>13</th>\n",
              "      <td>1</td>\n",
              "      <td>2105</td>\n",
              "      <td>4.0</td>\n",
              "      <td>1260759139</td>\n",
              "    </tr>\n",
              "    <tr>\n",
              "      <th>14</th>\n",
              "      <td>1</td>\n",
              "      <td>2150</td>\n",
              "      <td>3.0</td>\n",
              "      <td>1260759194</td>\n",
              "    </tr>\n",
              "    <tr>\n",
              "      <th>15</th>\n",
              "      <td>1</td>\n",
              "      <td>2193</td>\n",
              "      <td>2.0</td>\n",
              "      <td>1260759198</td>\n",
              "    </tr>\n",
              "    <tr>\n",
              "      <th>16</th>\n",
              "      <td>1</td>\n",
              "      <td>2294</td>\n",
              "      <td>2.0</td>\n",
              "      <td>1260759108</td>\n",
              "    </tr>\n",
              "    <tr>\n",
              "      <th>17</th>\n",
              "      <td>1</td>\n",
              "      <td>2455</td>\n",
              "      <td>2.5</td>\n",
              "      <td>1260759113</td>\n",
              "    </tr>\n",
              "    <tr>\n",
              "      <th>18</th>\n",
              "      <td>1</td>\n",
              "      <td>2968</td>\n",
              "      <td>1.0</td>\n",
              "      <td>1260759200</td>\n",
              "    </tr>\n",
              "    <tr>\n",
              "      <th>19</th>\n",
              "      <td>1</td>\n",
              "      <td>3671</td>\n",
              "      <td>3.0</td>\n",
              "      <td>1260759117</td>\n",
              "    </tr>\n",
              "  </tbody>\n",
              "</table>\n",
              "</div>"
            ],
            "text/plain": [
              "    userId  movieId  rating   timestamp\n",
              "0        1       31     2.5  1260759144\n",
              "1        1     1029     3.0  1260759179\n",
              "2        1     1061     3.0  1260759182\n",
              "3        1     1129     2.0  1260759185\n",
              "4        1     1172     4.0  1260759205\n",
              "5        1     1263     2.0  1260759151\n",
              "6        1     1287     2.0  1260759187\n",
              "7        1     1293     2.0  1260759148\n",
              "8        1     1339     3.5  1260759125\n",
              "9        1     1343     2.0  1260759131\n",
              "10       1     1371     2.5  1260759135\n",
              "11       1     1405     1.0  1260759203\n",
              "12       1     1953     4.0  1260759191\n",
              "13       1     2105     4.0  1260759139\n",
              "14       1     2150     3.0  1260759194\n",
              "15       1     2193     2.0  1260759198\n",
              "16       1     2294     2.0  1260759108\n",
              "17       1     2455     2.5  1260759113\n",
              "18       1     2968     1.0  1260759200\n",
              "19       1     3671     3.0  1260759117"
            ]
          },
          "metadata": {
            "tags": []
          },
          "execution_count": 27
        }
      ]
    },
    {
      "cell_type": "code",
      "metadata": {
        "colab": {
          "base_uri": "https://localhost:8080/"
        },
        "id": "EV83oX-hXNpu",
        "outputId": "5c01809d-bd29-4e8a-e37c-a06a45594176"
      },
      "source": [
        "svd.predict(1, 18777, 3)"
      ],
      "execution_count": null,
      "outputs": [
        {
          "output_type": "execute_result",
          "data": {
            "text/plain": [
              "Prediction(uid=1, iid=18777, r_ui=3, est=2.6722896241400713, details={'was_impossible': False})"
            ]
          },
          "metadata": {
            "tags": []
          },
          "execution_count": 178
        }
      ]
    },
    {
      "cell_type": "code",
      "metadata": {
        "colab": {
          "base_uri": "https://localhost:8080/"
        },
        "id": "J_-EdwOGpaBZ",
        "outputId": "7a6153d1-aa90-4052-f051-04a3478c8c28"
      },
      "source": [
        "def convert_int(x):\r\n",
        "    try:\r\n",
        "        return int(x)\r\n",
        "    except:\r\n",
        "        return np.nan\r\n",
        "id_map = pd.read_csv('./data/tmdb/links_small.csv')[['movieId', 'tmdbId']]\r\n",
        "id_map['tmdbId'] = id_map['tmdbId'].apply(convert_int)\r\n",
        "id_map.columns = ['movieId', 'id']\r\n",
        "id_map\r\n",
        "id_map = id_map.merge(df2[['title', 'id']], on='id').set_index('title')\r\n",
        "indices_map = id_map.set_index('id')"
      ],
      "execution_count": null,
      "outputs": [
        {
          "output_type": "execute_result",
          "data": {
            "text/plain": [
              "movieId    10\n",
              "Name: 710.0, dtype: int64"
            ]
          },
          "metadata": {
            "tags": []
          },
          "execution_count": 185
        }
      ]
    },
    {
      "cell_type": "code",
      "metadata": {
        "id": "UUewt2rehHdQ"
      },
      "source": [
        "def hybrid(userId, title):\r\n",
        "    idx = indices[title]\r\n",
        "    \r\n",
        "    sim_scores = list(enumerate(cosine_sim[int(idx)]))\r\n",
        "    sim_scores = sorted(sim_scores, key=lambda x: x[1], reverse=True)\r\n",
        "    sim_scores = sim_scores[1:26]\r\n",
        "    movie_indices = [i[0] for i in sim_scores]\r\n",
        "    \r\n",
        "    movies = df2.iloc[movie_indices][['title', 'vote_count', 'vote_average', 'id']]\r\n",
        "    #print(movies)\r\n",
        "    movies['est'] = movies['id'].apply(lambda y: svd.predict(userId, y).est)\r\n",
        "    #movies['est'] = movies['id'].apply(lambda x: svd.predict(userId, df2.loc[1]['id']).est)\r\n",
        "    movies = movies.sort_values('est', ascending=False)\r\n",
        "    return movies.head(10)\r\n"
      ],
      "execution_count": null,
      "outputs": []
    },
    {
      "cell_type": "code",
      "metadata": {
        "colab": {
          "base_uri": "https://localhost:8080/",
          "height": 356
        },
        "id": "_v7v0s76mnWk",
        "outputId": "bef340c6-62d1-47cd-b81d-9d78175b47a6"
      },
      "source": [
        "hybrid(2, 'The Dark Knight Rises')"
      ],
      "execution_count": null,
      "outputs": [
        {
          "output_type": "execute_result",
          "data": {
            "text/html": [
              "<div>\n",
              "<style scoped>\n",
              "    .dataframe tbody tr th:only-of-type {\n",
              "        vertical-align: middle;\n",
              "    }\n",
              "\n",
              "    .dataframe tbody tr th {\n",
              "        vertical-align: top;\n",
              "    }\n",
              "\n",
              "    .dataframe thead th {\n",
              "        text-align: right;\n",
              "    }\n",
              "</style>\n",
              "<table border=\"1\" class=\"dataframe\">\n",
              "  <thead>\n",
              "    <tr style=\"text-align: right;\">\n",
              "      <th></th>\n",
              "      <th>title</th>\n",
              "      <th>vote_count</th>\n",
              "      <th>vote_average</th>\n",
              "      <th>id</th>\n",
              "      <th>est</th>\n",
              "    </tr>\n",
              "  </thead>\n",
              "  <tbody>\n",
              "    <tr>\n",
              "      <th>119</th>\n",
              "      <td>Batman Begins</td>\n",
              "      <td>7359</td>\n",
              "      <td>7.5</td>\n",
              "      <td>272</td>\n",
              "      <td>3.861132</td>\n",
              "    </tr>\n",
              "    <tr>\n",
              "      <th>428</th>\n",
              "      <td>Batman Returns</td>\n",
              "      <td>1673</td>\n",
              "      <td>6.6</td>\n",
              "      <td>364</td>\n",
              "      <td>3.816322</td>\n",
              "    </tr>\n",
              "    <tr>\n",
              "      <th>1359</th>\n",
              "      <td>Batman</td>\n",
              "      <td>2096</td>\n",
              "      <td>7.0</td>\n",
              "      <td>268</td>\n",
              "      <td>3.605127</td>\n",
              "    </tr>\n",
              "    <tr>\n",
              "      <th>1398</th>\n",
              "      <td>Max Payne</td>\n",
              "      <td>613</td>\n",
              "      <td>5.2</td>\n",
              "      <td>13051</td>\n",
              "      <td>3.463017</td>\n",
              "    </tr>\n",
              "    <tr>\n",
              "      <th>979</th>\n",
              "      <td>Free State of Jones</td>\n",
              "      <td>428</td>\n",
              "      <td>6.6</td>\n",
              "      <td>316152</td>\n",
              "      <td>3.463017</td>\n",
              "    </tr>\n",
              "    <tr>\n",
              "      <th>1349</th>\n",
              "      <td>Ghosts of Mississippi</td>\n",
              "      <td>40</td>\n",
              "      <td>6.2</td>\n",
              "      <td>31908</td>\n",
              "      <td>3.463017</td>\n",
              "    </tr>\n",
              "    <tr>\n",
              "      <th>1492</th>\n",
              "      <td>The Reader</td>\n",
              "      <td>813</td>\n",
              "      <td>7.2</td>\n",
              "      <td>8055</td>\n",
              "      <td>3.463017</td>\n",
              "    </tr>\n",
              "    <tr>\n",
              "      <th>1698</th>\n",
              "      <td>The Rugrats Movie</td>\n",
              "      <td>147</td>\n",
              "      <td>5.7</td>\n",
              "      <td>14444</td>\n",
              "      <td>3.463017</td>\n",
              "    </tr>\n",
              "    <tr>\n",
              "      <th>1143</th>\n",
              "      <td>A Knight's Tale</td>\n",
              "      <td>907</td>\n",
              "      <td>6.6</td>\n",
              "      <td>9476</td>\n",
              "      <td>3.463017</td>\n",
              "    </tr>\n",
              "    <tr>\n",
              "      <th>1766</th>\n",
              "      <td>Case 39</td>\n",
              "      <td>563</td>\n",
              "      <td>6.1</td>\n",
              "      <td>28355</td>\n",
              "      <td>3.463017</td>\n",
              "    </tr>\n",
              "  </tbody>\n",
              "</table>\n",
              "</div>"
            ],
            "text/plain": [
              "                      title  vote_count  vote_average      id       est\n",
              "119           Batman Begins        7359           7.5     272  3.861132\n",
              "428          Batman Returns        1673           6.6     364  3.816322\n",
              "1359                 Batman        2096           7.0     268  3.605127\n",
              "1398              Max Payne         613           5.2   13051  3.463017\n",
              "979     Free State of Jones         428           6.6  316152  3.463017\n",
              "1349  Ghosts of Mississippi          40           6.2   31908  3.463017\n",
              "1492             The Reader         813           7.2    8055  3.463017\n",
              "1698      The Rugrats Movie         147           5.7   14444  3.463017\n",
              "1143        A Knight's Tale         907           6.6    9476  3.463017\n",
              "1766                Case 39         563           6.1   28355  3.463017"
            ]
          },
          "metadata": {
            "tags": []
          },
          "execution_count": 194
        }
      ]
    }
  ]
}